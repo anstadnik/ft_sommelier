{
 "cells": [
  {
   "cell_type": "markdown",
   "metadata": {},
   "source": [
    "# Import things"
   ]
  },
  {
   "cell_type": "code",
   "execution_count": 1,
   "metadata": {
    "attributes": {
     "classes": [],
     "id": "",
     "n": "1"
    }
   },
   "outputs": [],
   "source": [
    "import pandas as pd\n",
    "import matplotlib.pyplot as plt\n",
    "%matplotlib inline\n",
    "import random\n",
    "from ipywidgets import interact, interactive, fixed, interact_manual\n",
    "import ipywidgets as widgets"
   ]
  },
  {
   "cell_type": "markdown",
   "metadata": {},
   "source": [
    "# Load data"
   ]
  },
  {
   "cell_type": "code",
   "execution_count": 2,
   "metadata": {
    "attributes": {
     "classes": [],
     "id": "",
     "n": "2"
    }
   },
   "outputs": [],
   "source": [
    "red_wine = pd.read_csv(\"./resources/resources/winequality-red.csv\", sep=';')"
   ]
  },
  {
   "cell_type": "markdown",
   "metadata": {},
   "source": [
    "# V.1 Exploring the green reds"
   ]
  },
  {
   "cell_type": "code",
   "execution_count": 3,
   "metadata": {
    "attributes": {
     "classes": [],
     "id": "",
     "n": "3"
    }
   },
   "outputs": [
    {
     "data": {
      "text/html": [
       "<div>\n",
       "<style scoped>\n",
       "    .dataframe tbody tr th:only-of-type {\n",
       "        vertical-align: middle;\n",
       "    }\n",
       "\n",
       "    .dataframe tbody tr th {\n",
       "        vertical-align: top;\n",
       "    }\n",
       "\n",
       "    .dataframe thead th {\n",
       "        text-align: right;\n",
       "    }\n",
       "</style>\n",
       "<table border=\"1\" class=\"dataframe\">\n",
       "  <thead>\n",
       "    <tr style=\"text-align: right;\">\n",
       "      <th></th>\n",
       "      <th>fixed acidity</th>\n",
       "      <th>volatile acidity</th>\n",
       "      <th>citric acid</th>\n",
       "      <th>residual sugar</th>\n",
       "      <th>chlorides</th>\n",
       "      <th>free sulfur dioxide</th>\n",
       "      <th>total sulfur dioxide</th>\n",
       "      <th>density</th>\n",
       "      <th>pH</th>\n",
       "      <th>sulphates</th>\n",
       "      <th>alcohol</th>\n",
       "      <th>quality</th>\n",
       "    </tr>\n",
       "  </thead>\n",
       "  <tbody>\n",
       "    <tr>\n",
       "      <th>0</th>\n",
       "      <td>7.4</td>\n",
       "      <td>0.70</td>\n",
       "      <td>0.00</td>\n",
       "      <td>1.9</td>\n",
       "      <td>0.076</td>\n",
       "      <td>11.0</td>\n",
       "      <td>34.0</td>\n",
       "      <td>0.9978</td>\n",
       "      <td>3.51</td>\n",
       "      <td>0.56</td>\n",
       "      <td>9.4</td>\n",
       "      <td>5</td>\n",
       "    </tr>\n",
       "    <tr>\n",
       "      <th>1</th>\n",
       "      <td>7.8</td>\n",
       "      <td>0.88</td>\n",
       "      <td>0.00</td>\n",
       "      <td>2.6</td>\n",
       "      <td>0.098</td>\n",
       "      <td>25.0</td>\n",
       "      <td>67.0</td>\n",
       "      <td>0.9968</td>\n",
       "      <td>3.20</td>\n",
       "      <td>0.68</td>\n",
       "      <td>9.8</td>\n",
       "      <td>5</td>\n",
       "    </tr>\n",
       "    <tr>\n",
       "      <th>2</th>\n",
       "      <td>7.8</td>\n",
       "      <td>0.76</td>\n",
       "      <td>0.04</td>\n",
       "      <td>2.3</td>\n",
       "      <td>0.092</td>\n",
       "      <td>15.0</td>\n",
       "      <td>54.0</td>\n",
       "      <td>0.9970</td>\n",
       "      <td>3.26</td>\n",
       "      <td>0.65</td>\n",
       "      <td>9.8</td>\n",
       "      <td>5</td>\n",
       "    </tr>\n",
       "    <tr>\n",
       "      <th>3</th>\n",
       "      <td>11.2</td>\n",
       "      <td>0.28</td>\n",
       "      <td>0.56</td>\n",
       "      <td>1.9</td>\n",
       "      <td>0.075</td>\n",
       "      <td>17.0</td>\n",
       "      <td>60.0</td>\n",
       "      <td>0.9980</td>\n",
       "      <td>3.16</td>\n",
       "      <td>0.58</td>\n",
       "      <td>9.8</td>\n",
       "      <td>6</td>\n",
       "    </tr>\n",
       "    <tr>\n",
       "      <th>4</th>\n",
       "      <td>7.4</td>\n",
       "      <td>0.70</td>\n",
       "      <td>0.00</td>\n",
       "      <td>1.9</td>\n",
       "      <td>0.076</td>\n",
       "      <td>11.0</td>\n",
       "      <td>34.0</td>\n",
       "      <td>0.9978</td>\n",
       "      <td>3.51</td>\n",
       "      <td>0.56</td>\n",
       "      <td>9.4</td>\n",
       "      <td>5</td>\n",
       "    </tr>\n",
       "  </tbody>\n",
       "</table>\n",
       "</div>"
      ],
      "text/plain": [
       "   fixed acidity  volatile acidity  citric acid  residual sugar  chlorides  \\\n",
       "0            7.4              0.70         0.00             1.9      0.076   \n",
       "1            7.8              0.88         0.00             2.6      0.098   \n",
       "2            7.8              0.76         0.04             2.3      0.092   \n",
       "3           11.2              0.28         0.56             1.9      0.075   \n",
       "4            7.4              0.70         0.00             1.9      0.076   \n",
       "\n",
       "   free sulfur dioxide  total sulfur dioxide  density    pH  sulphates  \\\n",
       "0                 11.0                  34.0   0.9978  3.51       0.56   \n",
       "1                 25.0                  67.0   0.9968  3.20       0.68   \n",
       "2                 15.0                  54.0   0.9970  3.26       0.65   \n",
       "3                 17.0                  60.0   0.9980  3.16       0.58   \n",
       "4                 11.0                  34.0   0.9978  3.51       0.56   \n",
       "\n",
       "   alcohol  quality  \n",
       "0      9.4        5  \n",
       "1      9.8        5  \n",
       "2      9.8        5  \n",
       "3      9.8        6  \n",
       "4      9.4        5  "
      ]
     },
     "execution_count": 3,
     "metadata": {},
     "output_type": "execute_result"
    }
   ],
   "source": [
    "red_wine.head()"
   ]
  },
  {
   "cell_type": "markdown",
   "metadata": {},
   "source": [
    "## a)"
   ]
  },
  {
   "cell_type": "code",
   "execution_count": 4,
   "metadata": {
    "attributes": {
     "classes": [],
     "id": "",
     "n": "8"
    }
   },
   "outputs": [],
   "source": [
    "def plot_scatter_matrix(wine_data, good_threshhold, bad_threshold, save_plot=False):\n",
    "    \"\"\"Visualizes the data\n",
    "    \"\"\"\n",
    "    length = len(wine_data.columns)\n",
    "    fig, ax = plt.subplots(length, length, figsize=(50, 50))\n",
    "    bigger = wine_data.where(wine_data['quality'] > good_threshhold)\n",
    "    smaller = wine_data.where(wine_data['quality'] < bad_threshold)\n",
    "    \n",
    "    for i in range(length):\n",
    "        for j in range(length):\n",
    "            if i == j:\n",
    "                ax[(i, j)].text(0.5, 0.5, '\\n'.join(wine_data.columns[i].split()), fontsize=35, ha='center', va='center')\n",
    "            else:\n",
    "                ax[(j, i)].plot(bigger.iloc[:, i], bigger.iloc[:, j], 'co')\n",
    "                ax[(j, i)].plot(smaller.iloc[:, i], smaller.iloc[:, j], 'mo')\n",
    "    if save_plot:\n",
    "        plt.savefig('scatter_matrix.png')\n",
    "# plot_scatter_matrix(red_wine, 6, 5)"
   ]
  },
  {
   "cell_type": "code",
   "execution_count": 5,
   "metadata": {},
   "outputs": [],
   "source": [
    "# plot_scatter_matrix(red_wine, 7, 4)"
   ]
  },
  {
   "cell_type": "markdown",
   "metadata": {},
   "source": [
    "## b)\n",
    "\n",
    "I think it can be pH, sulphates, alcohol and total sulfur dioxide. Cause there\n",
    "different\n",
    "groups of wine(based on quality) r better splitted."
   ]
  },
  {
   "cell_type": "markdown",
   "metadata": {},
   "source": [
    "# V.2 Learning to perceptron"
   ]
  },
  {
   "cell_type": "code",
   "execution_count": 24,
   "metadata": {},
   "outputs": [],
   "source": [
    "data = red_wine[(red_wine['quality'] >= 8) | (red_wine['quality'] <= 3)].reset_index()\n",
    "y = [1 if i == True else 0 for i in data['quality'] >= 8]"
   ]
  },
  {
   "cell_type": "code",
   "execution_count": 7,
   "metadata": {},
   "outputs": [],
   "source": [
    "def display(ret, dot=100, detail=10000, final=False):\n",
    "    \"\"\"Displays text info about training process\"\"\"\n",
    "    if final:\n",
    "        print()\n",
    "        print('DONE')\n",
    "        print('cycle = ', ret[-1][0], ', errors = ', ret[-1][1], sep='')\n",
    "        print('final weights = ', ret[-1][2], ', bias = ', ret[-1][3])\n",
    "    if ret[-1][0] == 0:\n",
    "        return\n",
    "    if ret[-1][0] % dot == 0:\n",
    "        print('.', end='')\n",
    "    if ret[-1][0] % detail == 0:\n",
    "        print()\n",
    "        print('cycle = ', ret[-1][0], ', errors = ', ret[-1][1], sep='')\n",
    "#         print(ret[-1])\n",
    "#         print(ret[-dot])\n",
    "        print('weights change = ', ret[-1][2][0] - ret[-detail - 1][2][0], ret[-1][2][1] - ret[-detail - 1][2][1])\n",
    "        print('weights = ', ret[-1][2], 'bias = ', ret[-1][3])\n",
    "        print('bias change = ', ret[-1][3] - ret[-detail - 1][3])"
   ]
  },
  {
   "cell_type": "markdown",
   "metadata": {},
   "source": [
    "## a), b)"
   ]
  },
  {
   "cell_type": "code",
   "execution_count": 63,
   "metadata": {},
   "outputs": [],
   "source": [
    "class perceptron:\n",
    "    \"\"\"A simple perceptron, with randomly initialized weights and bias\"\"\"\n",
    "\n",
    "    def __init__(self, amount):\n",
    "        \"\"\"Random data initialization\"\"\"\n",
    "        random.seed(42)\n",
    "        self.amount = amount\n",
    "        self.weights = [random.random() for n in range(amount)]\n",
    "        self.bias = random.random()\n",
    "        for i in range(amount):\n",
    "            print('Weights[', i, '] = ', self.weights[i], sep='')\n",
    "        print('bias = ', self.bias, '\\n')\n",
    "\n",
    "    def activation(self, value):\n",
    "        \"\"\"Activation function\"\"\"\n",
    "        return 1 if value > 0 else 0\n",
    "\n",
    "    def predict(self, data, alpha = None, y = None):\n",
    "        \"\"\"Predicts answer and updates weights to fit the data item better\n",
    "        Returns predicted value or whether he guessed right\n",
    "        \"\"\"\n",
    "        rez = self.activation(sum([data[i] * self.weights[i]\n",
    "                                   for i in range(self.amount)]) + self.bias)\n",
    "#         if rez == 0:\n",
    "#             print(data, [data[i] * self.weights[i]\n",
    "#                                    for i in range(self.amount)], self.bias)\n",
    "        if y == None:\n",
    "            return rez\n",
    "        print(sum([data[i] * self.weights[i]\n",
    "                                   for i in range(self.amount)]) + self.bias)\n",
    "        if rez != y:\n",
    "#             print(y - rez)\n",
    "            self.weights = [self.weights[i] + alpha * data[i] * (y - rez) \n",
    "                            for i in range(self.amount)]\n",
    "            self.bias = self.bias + alpha * (y - rez)\n",
    "#             print(self.weights, self.bias, sep=', ')\n",
    "        return rez != y\n",
    "\n",
    "    def train(self, data, y, epochs = 0, alpha = 0.001):\n",
    "        \"\"\"Trains perceptron epoch times, and logs results\"\"\"\n",
    "        ret = []\n",
    "        errors = 1\n",
    "        if epochs == 0:\n",
    "            i = 0\n",
    "            while (errors):\n",
    "                errors = 0\n",
    "                for item in data.itertuples():\n",
    "                    errors += self.predict(item[1:], alpha, y[item[0]])\n",
    "                ret.append([i, errors, self.weights, self.bias])\n",
    "                i += 1\n",
    "                display(ret)\n",
    "            display(ret, final=True)\n",
    "        else:\n",
    "            for i in range(epochs):\n",
    "                errors = 0\n",
    "                for item in data.itertuples():\n",
    "                    errors += self.predict(item[1:], alpha, y[item[0]])\n",
    "                ret.append([i, errors, self.weights, self.bias])\n",
    "                display(ret, 1, 1)\n",
    "                if errors == 0:\n",
    "                    break\n",
    "            display(ret, final=True)\n",
    "        return ret"
   ]
  },
  {
   "cell_type": "code",
   "execution_count": 64,
   "metadata": {
    "scrolled": false
   },
   "outputs": [
    {
     "name": "stdout",
     "output_type": "stream",
     "text": [
      "Weights[0] = 0.6394267984578837\n",
      "Weights[1] = 0.025010755222666936\n",
      "bias =  0.27502931836911926 \n",
      "\n",
      "2.737246760053167\n",
      "2.6555133931936874\n",
      "2.874027463251589\n",
      "2.36168389910996\n",
      "2.6691277293872417\n",
      "2.5782632103612437\n",
      "1.4164745696166563\n",
      "1.4619670409607894\n",
      "1.4619670409607894\n",
      "1.6370083453664344\n",
      "0.30939558174978443\n",
      "0.7492806776537737\n",
      "-1.141001367638732\n",
      "0.9168943738611692\n",
      "-0.38425511554810865\n",
      "-0.8719922182977371\n",
      "0.7440980894010827\n",
      "0.7360359668512846\n",
      "0.9660099293082334\n",
      "0.8149236860890496\n",
      "1.134190344898782\n",
      "-0.0498683095685708\n",
      "-0.1405895703852469\n",
      "0.8281534114042199\n",
      "1.052874346924584\n",
      "-0.06382986360287313\n",
      "0.0688364673601427\n",
      "-1.6597172450889341\n",
      "-0.4587932399468333\n",
      "1.2471463931936873\n",
      "1.414153463251589\n",
      "1.2350318991099605\n",
      "1.188289729387242\n",
      "1.4978382103612438\n",
      "0.09628956961665636\n",
      "0.20583204096078944\n",
      "0.20583204096078944\n",
      "0.6180443453664344\n",
      "-1.2627924182502155\n",
      "1.1286396776537742\n",
      "-0.658573367638732\n",
      "1.2663783738611696\n",
      "0.015008884451891413\n",
      "-1.8870472182977367\n",
      "-0.21169191059891723\n",
      "1.3359459668512847\n",
      "1.4807149293082333\n",
      "1.4534736860890503\n",
      "1.5975903448987823\n",
      "0.35870769043142925\n",
      "-0.8142865703852471\n",
      "0.10050641140422001\n",
      "0.385715346924584\n",
      "-0.7583898636028732\n",
      "-0.6264335326398576\n",
      "-1.1329332450889344\n",
      ".\n",
      "cycle = 1, errors = 15\n",
      "weights change =  -0.0384000000000001 0.057999999999999996\n",
      "weights =  [0.4946267984578836, -0.13648924477733304] bias =  0.23502931836911922\n",
      "bias change =  -0.010000000000000009\n",
      "0.14496676005316633\n",
      "0.11290939319368709\n",
      "0.23518946325158852\n",
      "0.3219598991099599\n",
      "-0.0012282706127584309\n",
      "1.9348132103612437\n",
      "0.7100345696166561\n",
      "0.7747770409607893\n",
      "0.7747770409607893\n",
      "1.0201923453664339\n",
      "-0.524476418250216\n",
      "1.6593286776537735\n",
      "0.006864632361267775\n",
      "0.371544373861169\n",
      "-0.9565551155481087\n",
      "-1.436342218297737\n",
      "0.2151980894010832\n",
      "0.16408596685128485\n",
      "0.39785992930823344\n",
      "0.19692368608904998\n",
      "0.5611403448987822\n",
      "-0.5871683095685709\n",
      "-0.6708895703852469\n",
      "0.27900341140422036\n",
      "0.5181243469245838\n",
      "-0.615729863602873\n",
      "-0.4959385326398571\n",
      "-0.9520972450889342\n",
      ".\n",
      "cycle = 2, errors = 11\n",
      "weights change =  -0.03610000000000002 0.027000000000000038\n",
      "weights =  [0.4585267984578836, -0.109489244777333] bias =  0.2250293183691192\n",
      "bias change =  -0.010000000000000009\n",
      "0.35963176005316666\n",
      "0.32650639319368735\n",
      "0.44497346325158893\n",
      "0.47259189910996025\n",
      "0.23432972938724217\n",
      "0.7298382103612439\n",
      "-0.7770104303833434\n",
      "0.7588570409607894\n",
      "0.7588570409607894\n",
      "0.9779043453664341\n",
      "-0.5313724182502162\n",
      "1.6227446776537735\n",
      "-0.003463367638732562\n",
      "1.7204083738611693\n",
      "0.5427888844518911\n",
      "-1.2276122182977371\n",
      "0.41353808940108294\n",
      "0.38938596685128446\n",
      "0.5798099293082335\n",
      "0.4354236860890499\n",
      "0.7159403448987822\n",
      "-0.4554083095685708\n",
      "-0.5303995703852467\n",
      "0.45459341140422027\n",
      "0.6475543469245839\n",
      "-0.4761298636028728\n",
      "-0.36863853263985735\n",
      "-0.7741772450889339\n",
      ".\n",
      "cycle = 3, errors = 13\n",
      "weights change =  -0.03700000000000003 0.027000000000000024\n",
      "weights =  [0.42152679845788354, -0.08248924477733298] bias =  0.2150293183691192\n",
      "bias change =  -0.010000000000000009\n",
      "0.571281760053167\n",
      "0.5371963931936876\n",
      "0.6515534632515891\n",
      "0.6206318991099605\n",
      "0.46698972938724226\n",
      "0.8425882103612439\n",
      "-0.5876604303833428\n",
      "0.9293070409607898\n",
      "0.9293070409607898\n",
      "1.0777843453664342\n",
      "-0.30101241825021563\n",
      "1.7673346776537735\n",
      "0.2014166323612676\n",
      "0.46840037386116906\n",
      "-0.8263791155481088\n",
      "-1.230740218297737\n",
      "0.4118740894010827\n",
      "0.3926259668512846\n",
      "0.5635299293082332\n",
      "0.4366236860890498\n",
      "0.6861403448987821\n",
      "-0.4895843095685708\n",
      "-0.5592635703852469\n",
      "0.4387294114042204\n",
      "0.6127463469245839\n",
      "-0.5092498636028733\n",
      "-0.4097785326398573\n",
      "-0.7894092450889343\n",
      ".\n",
      "cycle = 4, errors = 11\n",
      "weights change =  -0.036800000000000055 0.010000000000000009\n",
      "weights =  [0.3847267984578835, -0.07248924477733297] bias =  0.2050293183691192\n",
      "bias change =  -0.010000000000000009\n",
      "\n",
      "DONE\n",
      "cycle = 4, errors = 11\n",
      "final weights =  [0.3847267984578835, -0.07248924477733297] , bias =  0.2050293183691192\n"
     ]
    }
   ],
   "source": [
    "model = perceptron(2)\n",
    "logs = model.train(data[['pH', 'alcohol']], y, 5, 0.01)"
   ]
  },
  {
   "cell_type": "markdown",
   "metadata": {},
   "source": [
    "## c)"
   ]
  },
  {
   "cell_type": "code",
   "execution_count": 10,
   "metadata": {},
   "outputs": [],
   "source": [
    "def plot_performance(performance, wine_data, good_threshold, bad_threshold, epoch=-1, save_plot=False, debug=False):\n",
    "    \"\"\"Plot the performance of my perceptron\"\"\"\n",
    "    if debug:\n",
    "        fig, ax = plt.subplots(1, 2, figsize=(30, 30))\n",
    "    else:\n",
    "        fig, ax = plt.subplots(1, 2)#, figsize=(10, 10))\n",
    "    bigger = wine_data.where(wine_data['quality'] > good_threshold).reset_index()\n",
    "    smaller = wine_data.where(wine_data['quality'] < bad_threshold).reset_index()\n",
    "    \n",
    "    ax[0].plot([i[1] for i in performance], 'g')\n",
    "    ax[0].set_title('Errors as a function of epoch')\n",
    "    ax[0].set_ylabel('Classification errors')\n",
    "    ax[0].set_xlabel('Epoch')\n",
    "    ax[1].plot(bigger['alcohol'], bigger['pH'], 'mo', label = 'good wines (> ' + str(good_threshold) + ' score)')\n",
    "    ax[1].plot(smaller['alcohol'], smaller['pH'], 'co', label = 'bad wines (< ' + str(bad_threshold) + ' score)')\n",
    "    ax[1].set_title('Decision boundary on epoch:' + str(len(performance) if epoch == -1 else epoch))\n",
    "    ax[1].set_xlabel('Alcohol')\n",
    "    ax[1].set_ylabel('pH')\n",
    "    \n",
    "    val = {}\n",
    "    if debug:\n",
    "        val['alcohol'] = [-100, 100]         \n",
    "    else:\n",
    "#         val['alcohol'] = [5, 15]         \n",
    "        val['alcohol'] = [min(wine_data['alcohol']) - 1, max(wine_data['alcohol']) + 1] \n",
    "    val['pH'] = [\n",
    "            - (performance[epoch][2][1] * val['alcohol'][0] + performance[epoch][3]) / performance[epoch][2][0],\n",
    "            - (performance[epoch][2][1] * val['alcohol'][1] + performance[epoch][3]) / performance[epoch][2][0]\n",
    "        ]\n",
    "    ax[1].plot(val['alcohol'], val['pH'], 'g--')\n",
    "    if debug:\n",
    "        ax[1].set_xlim(-100, 100)\n",
    "        ax[1].set_ylim(-100, 100)\n",
    "        ax[1].fill_between(val['alcohol'], val['pH'], -100, facecolor='#f8bbd0')\n",
    "        ax[1].fill_between(val['alcohol'], val['pH'], 100, facecolor='#b2ebf2')\n",
    "    else:\n",
    "#         ax[1].set_xlim(5, 15)\n",
    "#         ax[1].set_ylim(2, 5)\n",
    "        ax[1].fill_between(val['alcohol'], val['pH'], -5, facecolor='#f8bbd0')\n",
    "        ax[1].fill_between(val['alcohol'], val['pH'], 15, facecolor='#b2ebf2')\n",
    "        ax[1].set_xlim(min(wine_data['alcohol']) - 1, max(wine_data['alcohol']) + 1)\n",
    "        ax[1].set_ylim(min(wine_data['pH']) - 1, max(wine_data['pH']) + 1)\n",
    "#         ax[1].fill_between(val['alcohol'], val['pH'], min(wine_data['pH']), facecolor='#b2ebf2')\n",
    "#         ax[1].fill_between(val['alcohol'], val['pH'], max(wine_data['pH']), facecolor='#f8bbd0')\n",
    "    plt.tight_layout()\n",
    "    plt.legend(loc='upper center', bbox_to_anchor=(1.6, 1))\n",
    "    plt.show()"
   ]
  },
  {
   "cell_type": "code",
   "execution_count": 11,
   "metadata": {
    "scrolled": false
   },
   "outputs": [
    {
     "data": {
      "application/vnd.jupyter.widget-view+json": {
       "model_id": "aa359e8c434a4b40b6b4045ad86e75df",
       "version_major": 2,
       "version_minor": 0
      },
      "text/plain": [
       "interactive(children=(IntSlider(value=5, description='good_threshold', max=10), IntSlider(value=5, description…"
      ]
     },
     "metadata": {},
     "output_type": "display_data"
    }
   ],
   "source": [
    "interactive(plot_performance, performance=fixed(logs), wine_data=fixed(red_wine), good_threshold=(0, 10),\\\n",
    "            bad_threshold=(0, 10), epoch=(0, len(logs) - 1))"
   ]
  },
  {
   "cell_type": "markdown",
   "metadata": {},
   "source": [
    "## d) Feature scaling"
   ]
  },
  {
   "cell_type": "code",
   "execution_count": 12,
   "metadata": {
    "scrolled": false
   },
   "outputs": [],
   "source": [
    "normalized_red_wine = red_wine.copy()\n",
    "normalized_red_wine['pH'] = (red_wine['pH'] - min(red_wine['pH'])) / (max(red_wine['pH']) - min(red_wine['pH']))\n",
    "normalized_red_wine['alcohol'] = (red_wine['alcohol'] - min(red_wine['alcohol'])) / (max(red_wine['alcohol']) - min(red_wine['alcohol']))\n",
    "normalized_data = normalized_red_wine[(red_wine['quality'] >= 8) | (red_wine['quality'] <= 3)].reset_index()\n",
    "# data.describe()"
   ]
  },
  {
   "cell_type": "code",
   "execution_count": 13,
   "metadata": {
    "scrolled": false
   },
   "outputs": [
    {
     "name": "stdout",
     "output_type": "stream",
     "text": [
      "\n",
      "DONE\n",
      "cycle = 85, errors = 0\n",
      "final weights =  [-0.09521887083345507, 0.10070306291497405] , bias =  0.015029318369119145\n"
     ]
    }
   ],
   "source": [
    "model_normalized = perceptron(2)\n",
    "logs_normalized = model_normalized.train(normalized_data[['pH', 'alcohol']], y, 0, 0.01)"
   ]
  },
  {
   "cell_type": "code",
   "execution_count": 14,
   "metadata": {
    "scrolled": false
   },
   "outputs": [
    {
     "data": {
      "application/vnd.jupyter.widget-view+json": {
       "model_id": "a1914fae39fd4ef3b5a38c93ad3de83a",
       "version_major": 2,
       "version_minor": 0
      },
      "text/plain": [
       "interactive(children=(IntSlider(value=5, description='good_threshold', max=10), IntSlider(value=5, description…"
      ]
     },
     "metadata": {},
     "output_type": "display_data"
    }
   ],
   "source": [
    "interactive(plot_performance, performance=fixed(logs_normalized), wine_data=fixed(normalized_red_wine), good_threshold=(0, 10),\\\n",
    "            bad_threshold=(0, 10), epoch=(0, len(logs_normalized) - 1))"
   ]
  },
  {
   "cell_type": "markdown",
   "metadata": {},
   "source": [
    "# V.3 My fair ADALINE"
   ]
  },
  {
   "cell_type": "markdown",
   "metadata": {},
   "source": [
    "## a)"
   ]
  },
  {
   "cell_type": "markdown",
   "metadata": {},
   "source": [
    "Using stochastic learning algorithm instead of batch. Not adding polynomial features and not using more complicated algorhithms. No parallelism. Using only labels in learning, not values."
   ]
  },
  {
   "cell_type": "markdown",
   "metadata": {},
   "source": [
    "## b), c)"
   ]
  },
  {
   "cell_type": "code",
   "execution_count": 15,
   "metadata": {},
   "outputs": [],
   "source": [
    "class adaline:\n",
    "    \"\"\"A simple adaline, with randomly initialized weights and bias\"\"\"\n",
    "\n",
    "    def __init__(self, amount):\n",
    "        \"\"\"Random data initialization\"\"\"\n",
    "        random.seed(42)\n",
    "        self.amount = amount\n",
    "        self.weights = [random.random() for n in range(amount)]\n",
    "        self.bias = random.random()\n",
    "\n",
    "        \n",
    "    def quantizer(self, value):\n",
    "        \"\"\"Quantizer function\"\"\"\n",
    "        return 1 if value > 0 else 0\n",
    "\n",
    "    \n",
    "    def predict(self, data, y=False):\n",
    "        \"\"\"Predicts answer and updates weights to fit the data item better\n",
    "        Returns predicted value or whether he guessed right\n",
    "        \"\"\"\n",
    "        rez = sum([data[i] * self.weights[i] for i in range(self.amount)]) + self.bias\n",
    "        if y == False:\n",
    "            return self.quantizer(rez)\n",
    "        else:\n",
    "            err = y - rez\n",
    "#             print('y =', y, 'rez =', rez, 'y - rez =', y - rez)\n",
    "            return [[x * err for x in [*data, 1]], err]\n",
    "        \n",
    "    def train(self, data, y, epochs = 0, alpha = 0.001):\n",
    "        \"\"\"Trains perceptron epoch times, and logs results\"\"\"\n",
    "        ret = []\n",
    "        if epochs == 0:\n",
    "            i = 0\n",
    "            while (True):\n",
    "                error = 0\n",
    "                delta = [0] * (self.amount + 1)\n",
    "                for item in data.itertuples():\n",
    "                    [rez, err] = self.predict(item[1:], y[item[0]])\n",
    "                    delta = [delta[i] + rez[i] for i in range(self.amount + 1)]\n",
    "                    error += err\n",
    "                self.weights = [self.weights[i] + alpha * delta[i] / len(data) for i in range(self.amount)]\n",
    "                self.bias += alpha * delta[-1] / len(data)\n",
    "                ret.append([i, error, self.weights, self.bias])\n",
    "                display(ret)\n",
    "                if i > 0 and abs(ret[-1][1] - error) < 0.001:\n",
    "                    break\n",
    "                i += 1\n",
    "            display(ret, final=True)\n",
    "        else:\n",
    "            for i in range(epochs):\n",
    "                error = 0\n",
    "                delta = [0] * (self.amount + 1)\n",
    "                for item in data.itertuples():\n",
    "                    [rez, err] = self.predict(item[1:], y[item[0]])\n",
    "                    delta = [delta[i] + rez[i] for i in range(self.amount + 1)]\n",
    "                    error += err ** 2\n",
    "#                 print(delta, errors)\n",
    "                self.weights = [self.weights[i] + alpha * delta[i] / len(data) for i in range(self.amount)]\n",
    "                self.bias += alpha * delta[-1] / len(data)\n",
    "                ret.append([i, error, self.weights, self.bias])\n",
    "                display(ret)\n",
    "                if i > 0 and abs(ret[-2][1] - error) < 0.0000000001:\n",
    "                    print(ret[-1], error)\n",
    "                    break\n",
    "            display(ret, final=True)\n",
    "        return ret"
   ]
  },
  {
   "cell_type": "code",
   "execution_count": 16,
   "metadata": {},
   "outputs": [],
   "source": [
    "data_4_7 = red_wine[(red_wine['quality'] >= 7) | (red_wine['quality'] <= 4)].reset_index()\n",
    "y_4_7 = data_4_7['quality']"
   ]
  },
  {
   "cell_type": "code",
   "execution_count": 17,
   "metadata": {
    "scrolled": true
   },
   "outputs": [
    {
     "name": "stdout",
     "output_type": "stream",
     "text": [
      "..................................................................................."
     ]
    },
    {
     "name": "stderr",
     "output_type": "stream",
     "text": [
      "ERROR:root:Internal Python error in the inspect module.\n",
      "Below is the traceback from this internal error.\n",
      "\n"
     ]
    },
    {
     "name": "stdout",
     "output_type": "stream",
     "text": [
      "Traceback (most recent call last):\n",
      "  File \"/Users/astadnik/.brew/lib/python3.7/site-packages/IPython/core/interactiveshell.py\", line 2961, in run_code\n",
      "    exec(code_obj, self.user_global_ns, self.user_ns)\n",
      "  File \"<ipython-input-17-7801f1bbc76a>\", line 2, in <module>\n",
      "    adaline_logs = model.train(data_4_7[['pH', 'alcohol']], y_4_7.tolist(), 100000, 0.001)\n",
      "  File \"<ipython-input-15-45ff8c418413>\", line 53, in train\n",
      "    for item in data.itertuples():\n",
      "  File \"/Users/astadnik/.brew/lib/python3.7/site-packages/pandas/core/frame.py\", line 834, in itertuples\n",
      "    rename=True)\n",
      "  File \"/Users/astadnik/.brew/Cellar/python/3.7.0/Frameworks/Python.framework/Versions/3.7/lib/python3.7/collections/__init__.py\", line 397, in namedtuple\n",
      "    exec(s, namespace)\n",
      "  File \"<string>\", line 1, in <module>\n",
      "KeyboardInterrupt\n",
      "\n",
      "During handling of the above exception, another exception occurred:\n",
      "\n",
      "Traceback (most recent call last):\n",
      "  File \"/Users/astadnik/.brew/lib/python3.7/site-packages/IPython/core/interactiveshell.py\", line 1863, in showtraceback\n",
      "    stb = value._render_traceback_()\n",
      "AttributeError: 'KeyboardInterrupt' object has no attribute '_render_traceback_'\n",
      "\n",
      "During handling of the above exception, another exception occurred:\n",
      "\n",
      "Traceback (most recent call last):\n",
      "  File \"/Users/astadnik/.brew/lib/python3.7/site-packages/IPython/core/ultratb.py\", line 1095, in get_records\n",
      "    return _fixed_getinnerframes(etb, number_of_lines_of_context, tb_offset)\n",
      "  File \"/Users/astadnik/.brew/lib/python3.7/site-packages/IPython/core/ultratb.py\", line 311, in wrapped\n",
      "    return f(*args, **kwargs)\n",
      "  File \"/Users/astadnik/.brew/lib/python3.7/site-packages/IPython/core/ultratb.py\", line 345, in _fixed_getinnerframes\n",
      "    records = fix_frame_records_filenames(inspect.getinnerframes(etb, context))\n",
      "  File \"/Users/astadnik/.brew/Cellar/python/3.7.0/Frameworks/Python.framework/Versions/3.7/lib/python3.7/inspect.py\", line 1495, in getinnerframes\n",
      "    frameinfo = (tb.tb_frame,) + getframeinfo(tb, context)\n",
      "  File \"/Users/astadnik/.brew/Cellar/python/3.7.0/Frameworks/Python.framework/Versions/3.7/lib/python3.7/inspect.py\", line 1457, in getframeinfo\n",
      "    lines, lnum = findsource(frame)\n",
      "  File \"/Users/astadnik/.brew/lib/python3.7/site-packages/IPython/core/ultratb.py\", line 177, in findsource\n",
      "    lines = linecache.getlines(file, globals_dict)\n",
      "  File \"/Users/astadnik/.brew/Cellar/python/3.7.0/Frameworks/Python.framework/Versions/3.7/lib/python3.7/linecache.py\", line 47, in getlines\n",
      "    return updatecache(filename, module_globals)\n",
      "  File \"/Users/astadnik/.brew/Cellar/python/3.7.0/Frameworks/Python.framework/Versions/3.7/lib/python3.7/linecache.py\", line 136, in updatecache\n",
      "    with tokenize.open(fullname) as fp:\n",
      "  File \"/Users/astadnik/.brew/Cellar/python/3.7.0/Frameworks/Python.framework/Versions/3.7/lib/python3.7/tokenize.py\", line 449, in open\n",
      "    encoding, lines = detect_encoding(buffer.readline)\n",
      "  File \"/Users/astadnik/.brew/Cellar/python/3.7.0/Frameworks/Python.framework/Versions/3.7/lib/python3.7/tokenize.py\", line 418, in detect_encoding\n",
      "    first = read_or_stop()\n",
      "  File \"/Users/astadnik/.brew/Cellar/python/3.7.0/Frameworks/Python.framework/Versions/3.7/lib/python3.7/tokenize.py\", line 376, in read_or_stop\n",
      "    return readline()\n",
      "KeyboardInterrupt\n"
     ]
    },
    {
     "ename": "KeyboardInterrupt",
     "evalue": "",
     "output_type": "error",
     "traceback": [
      "\u001b[0;31m---------------------------------------------------------------------------\u001b[0m"
     ]
    }
   ],
   "source": [
    "model = adaline(2)\n",
    "adaline_logs = model.train(data_4_7[['pH', 'alcohol']], y_4_7.tolist(), 100000, 0.001)"
   ]
  },
  {
   "cell_type": "code",
   "execution_count": null,
   "metadata": {
    "scrolled": true
   },
   "outputs": [],
   "source": [
    "for l in adaline_logs[:20]:\n",
    "    print(l)"
   ]
  },
  {
   "cell_type": "code",
   "execution_count": null,
   "metadata": {},
   "outputs": [],
   "source": [
    "print(len(data_4_7.columns))"
   ]
  },
  {
   "cell_type": "code",
   "execution_count": null,
   "metadata": {
    "scrolled": true
   },
   "outputs": [],
   "source": [
    "print(adaline_logs[0], adaline_logs[-1], adaline_logs[-2], sep='\\n')"
   ]
  },
  {
   "cell_type": "code",
   "execution_count": null,
   "metadata": {
    "scrolled": false
   },
   "outputs": [],
   "source": [
    "interactive(plot_performance, performance=fixed(adaline_logs), wine_data=fixed(data_4_7), good_threshold=(0, 10),\\\n",
    "            bad_threshold=(0, 10), epoch=(0, len(adaline_logs) - 1), debug=False)"
   ]
  },
  {
   "cell_type": "code",
   "execution_count": null,
   "metadata": {},
   "outputs": [],
   "source": [
    "normalized_data_4_7 = data_4_7.copy()\n",
    "for column in normalized_data_4_7.columns:\n",
    "    if column != 'quality':\n",
    "        normalized_data_4_7[column] = (data_4_7[column] - min(data_4_7[column])) / (max(data_4_7[column]) - min(data_4_7[column]))"
   ]
  },
  {
   "cell_type": "code",
   "execution_count": null,
   "metadata": {
    "scrolled": false
   },
   "outputs": [],
   "source": [
    "model = adaline(2)\n",
    "adaline_logs_normalized = model.train(normalized_data_4_7[['pH', 'alcohol']], y_4_7.tolist(), 100000, 0.1)"
   ]
  },
  {
   "cell_type": "code",
   "execution_count": null,
   "metadata": {
    "scrolled": true
   },
   "outputs": [],
   "source": [
    "pred = [model.predict(normalized_data_4_7.loc[i, ['pH', 'alcohol']]) for i in range(len(normalized_data_4_7))]\n",
    "print(sum[y[i] - pred[i] for i in range(len(y))])"
   ]
  },
  {
   "cell_type": "code",
   "execution_count": null,
   "metadata": {
    "scrolled": true
   },
   "outputs": [],
   "source": [
    "print(y_4_7.tolist())"
   ]
  },
  {
   "cell_type": "code",
   "execution_count": null,
   "metadata": {
    "scrolled": true
   },
   "outputs": [],
   "source": [
    "print(adaline_logs_normalized[0], adaline_logs_normalized[-1], sep='\\n')"
   ]
  },
  {
   "cell_type": "code",
   "execution_count": null,
   "metadata": {
    "scrolled": false
   },
   "outputs": [],
   "source": [
    "interactive(plot_performance, performance=fixed(adaline_logs_normalized), wine_data=fixed(normalized_data_4_7), good_threshold=(0, 10),\\\n",
    "            bad_threshold=(0, 10), epoch=(0, len(adaline_logs_normalized) - 1), debug=False)"
   ]
  },
  {
   "cell_type": "code",
   "execution_count": null,
   "metadata": {},
   "outputs": [],
   "source": []
  }
 ],
 "metadata": {
  "kernelspec": {
   "display_name": "Python 3",
   "language": "python",
   "name": "python3"
  },
  "language_info": {
   "codemirror_mode": {
    "name": "ipython",
    "version": 3
   },
   "file_extension": ".py",
   "mimetype": "text/x-python",
   "name": "python",
   "nbconvert_exporter": "python",
   "pygments_lexer": "ipython3",
   "version": "3.7.0"
  }
 },
 "nbformat": 4,
 "nbformat_minor": 2
}
