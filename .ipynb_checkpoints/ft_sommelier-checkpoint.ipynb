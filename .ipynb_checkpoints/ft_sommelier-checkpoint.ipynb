{
 "cells": [
  {
   "cell_type": "markdown",
   "metadata": {},
   "source": [
    "# Import things"
   ]
  },
  {
   "cell_type": "code",
   "execution_count": 1,
   "metadata": {
    "attributes": {
     "classes": [],
     "id": "",
     "n": "1"
    }
   },
   "outputs": [
    {
     "name": "stderr",
     "output_type": "stream",
     "text": [
      "/Library/Frameworks/Python.framework/Versions/3.6/lib/python3.6/importlib/_bootstrap.py:205: RuntimeWarning: numpy.dtype size changed, may indicate binary incompatibility. Expected 96, got 88\n",
      "  return f(*args, **kwds)\n",
      "/Library/Frameworks/Python.framework/Versions/3.6/lib/python3.6/importlib/_bootstrap.py:205: RuntimeWarning: numpy.dtype size changed, may indicate binary incompatibility. Expected 96, got 88\n",
      "  return f(*args, **kwds)\n"
     ]
    }
   ],
   "source": [
    "import pandas as pd\n",
    "import matplotlib.pyplot as plt\n",
    "%matplotlib inline\n",
    "import random\n",
    "from ipywidgets import interact, interactive, fixed, interact_manual\n",
    "import ipywidgets as widgets\n",
    "random.seed(42)"
   ]
  },
  {
   "cell_type": "markdown",
   "metadata": {},
   "source": [
    "# Load data"
   ]
  },
  {
   "cell_type": "code",
   "execution_count": 2,
   "metadata": {
    "attributes": {
     "classes": [],
     "id": "",
     "n": "2"
    }
   },
   "outputs": [],
   "source": [
    "red_wine = pd.read_csv(\"./resources/resources/winequality-red.csv\", sep=';')"
   ]
  },
  {
   "cell_type": "markdown",
   "metadata": {},
   "source": [
    "# V.1 Exploring the green reds"
   ]
  },
  {
   "cell_type": "code",
   "execution_count": 3,
   "metadata": {
    "attributes": {
     "classes": [],
     "id": "",
     "n": "3"
    },
    "scrolled": false
   },
   "outputs": [
    {
     "data": {
      "text/html": [
       "<div>\n",
       "<style scoped>\n",
       "    .dataframe tbody tr th:only-of-type {\n",
       "        vertical-align: middle;\n",
       "    }\n",
       "\n",
       "    .dataframe tbody tr th {\n",
       "        vertical-align: top;\n",
       "    }\n",
       "\n",
       "    .dataframe thead th {\n",
       "        text-align: right;\n",
       "    }\n",
       "</style>\n",
       "<table border=\"1\" class=\"dataframe\">\n",
       "  <thead>\n",
       "    <tr style=\"text-align: right;\">\n",
       "      <th></th>\n",
       "      <th>fixed acidity</th>\n",
       "      <th>volatile acidity</th>\n",
       "      <th>citric acid</th>\n",
       "      <th>residual sugar</th>\n",
       "      <th>chlorides</th>\n",
       "      <th>free sulfur dioxide</th>\n",
       "      <th>total sulfur dioxide</th>\n",
       "      <th>density</th>\n",
       "      <th>pH</th>\n",
       "      <th>sulphates</th>\n",
       "      <th>alcohol</th>\n",
       "      <th>quality</th>\n",
       "    </tr>\n",
       "  </thead>\n",
       "  <tbody>\n",
       "    <tr>\n",
       "      <th>0</th>\n",
       "      <td>7.4</td>\n",
       "      <td>0.70</td>\n",
       "      <td>0.00</td>\n",
       "      <td>1.9</td>\n",
       "      <td>0.076</td>\n",
       "      <td>11.0</td>\n",
       "      <td>34.0</td>\n",
       "      <td>0.9978</td>\n",
       "      <td>3.51</td>\n",
       "      <td>0.56</td>\n",
       "      <td>9.4</td>\n",
       "      <td>5</td>\n",
       "    </tr>\n",
       "    <tr>\n",
       "      <th>1</th>\n",
       "      <td>7.8</td>\n",
       "      <td>0.88</td>\n",
       "      <td>0.00</td>\n",
       "      <td>2.6</td>\n",
       "      <td>0.098</td>\n",
       "      <td>25.0</td>\n",
       "      <td>67.0</td>\n",
       "      <td>0.9968</td>\n",
       "      <td>3.20</td>\n",
       "      <td>0.68</td>\n",
       "      <td>9.8</td>\n",
       "      <td>5</td>\n",
       "    </tr>\n",
       "    <tr>\n",
       "      <th>2</th>\n",
       "      <td>7.8</td>\n",
       "      <td>0.76</td>\n",
       "      <td>0.04</td>\n",
       "      <td>2.3</td>\n",
       "      <td>0.092</td>\n",
       "      <td>15.0</td>\n",
       "      <td>54.0</td>\n",
       "      <td>0.9970</td>\n",
       "      <td>3.26</td>\n",
       "      <td>0.65</td>\n",
       "      <td>9.8</td>\n",
       "      <td>5</td>\n",
       "    </tr>\n",
       "    <tr>\n",
       "      <th>3</th>\n",
       "      <td>11.2</td>\n",
       "      <td>0.28</td>\n",
       "      <td>0.56</td>\n",
       "      <td>1.9</td>\n",
       "      <td>0.075</td>\n",
       "      <td>17.0</td>\n",
       "      <td>60.0</td>\n",
       "      <td>0.9980</td>\n",
       "      <td>3.16</td>\n",
       "      <td>0.58</td>\n",
       "      <td>9.8</td>\n",
       "      <td>6</td>\n",
       "    </tr>\n",
       "    <tr>\n",
       "      <th>4</th>\n",
       "      <td>7.4</td>\n",
       "      <td>0.70</td>\n",
       "      <td>0.00</td>\n",
       "      <td>1.9</td>\n",
       "      <td>0.076</td>\n",
       "      <td>11.0</td>\n",
       "      <td>34.0</td>\n",
       "      <td>0.9978</td>\n",
       "      <td>3.51</td>\n",
       "      <td>0.56</td>\n",
       "      <td>9.4</td>\n",
       "      <td>5</td>\n",
       "    </tr>\n",
       "  </tbody>\n",
       "</table>\n",
       "</div>"
      ],
      "text/plain": [
       "   fixed acidity  volatile acidity  citric acid  residual sugar  chlorides  \\\n",
       "0            7.4              0.70         0.00             1.9      0.076   \n",
       "1            7.8              0.88         0.00             2.6      0.098   \n",
       "2            7.8              0.76         0.04             2.3      0.092   \n",
       "3           11.2              0.28         0.56             1.9      0.075   \n",
       "4            7.4              0.70         0.00             1.9      0.076   \n",
       "\n",
       "   free sulfur dioxide  total sulfur dioxide  density    pH  sulphates  \\\n",
       "0                 11.0                  34.0   0.9978  3.51       0.56   \n",
       "1                 25.0                  67.0   0.9968  3.20       0.68   \n",
       "2                 15.0                  54.0   0.9970  3.26       0.65   \n",
       "3                 17.0                  60.0   0.9980  3.16       0.58   \n",
       "4                 11.0                  34.0   0.9978  3.51       0.56   \n",
       "\n",
       "   alcohol  quality  \n",
       "0      9.4        5  \n",
       "1      9.8        5  \n",
       "2      9.8        5  \n",
       "3      9.8        6  \n",
       "4      9.4        5  "
      ]
     },
     "execution_count": 3,
     "metadata": {},
     "output_type": "execute_result"
    }
   ],
   "source": [
    "red_wine.head()"
   ]
  },
  {
   "cell_type": "code",
   "execution_count": 4,
   "metadata": {},
   "outputs": [
    {
     "data": {
      "text/plain": [
       "Index(['fixed acidity', 'volatile acidity', 'citric acid', 'residual sugar',\n",
       "       'chlorides', 'free sulfur dioxide', 'total sulfur dioxide', 'density',\n",
       "       'pH', 'sulphates', 'alcohol', 'quality'],\n",
       "      dtype='object')"
      ]
     },
     "execution_count": 4,
     "metadata": {},
     "output_type": "execute_result"
    }
   ],
   "source": [
    "red_wine.columns"
   ]
  },
  {
   "cell_type": "markdown",
   "metadata": {},
   "source": [
    "## a)"
   ]
  },
  {
   "cell_type": "code",
   "execution_count": 5,
   "metadata": {
    "attributes": {
     "classes": [],
     "id": "",
     "n": "8"
    }
   },
   "outputs": [],
   "source": [
    "def plot_scatter_matrix(wine_data, good_threshhold, bad_threshold, save_plot=False):\n",
    "    \"\"\"Visualizes the data\n",
    "    \"\"\"\n",
    "    length = len(wine_data.columns)\n",
    "    fig, ax = plt.subplots(length, length, figsize=(50, 50))\n",
    "    bigger = wine_data.where(wine_data['quality'] > good_threshhold)\n",
    "    smaller = wine_data.where(wine_data['quality'] < bad_threshold)\n",
    "    \n",
    "    for i in range(length):\n",
    "        for j in range(length):\n",
    "            if i == j:\n",
    "                ax[(i, j)].text(0.5, 0.5, '\\n'.join(wine_data.columns[i].split()), fontsize=35, ha='center', va='center')\n",
    "            else:\n",
    "                ax[(j, i)].plot(bigger.iloc[:, i], bigger.iloc[:, j], 'co')\n",
    "                ax[(j, i)].plot(smaller.iloc[:, i], smaller.iloc[:, j], 'mo')\n",
    "    if save_plot:\n",
    "        plt.savefig('scatter_matrix.png')\n",
    "# plot_scatter_matrix(red_wine, 6, 5)"
   ]
  },
  {
   "cell_type": "code",
   "execution_count": 6,
   "metadata": {},
   "outputs": [],
   "source": [
    "# plot_scatter_matrix(red_wine, 7, 4)"
   ]
  },
  {
   "cell_type": "markdown",
   "metadata": {},
   "source": [
    "## b)\n",
    "\n",
    "I think it can be pH, sulphates, alcohol and total sulfur dioxide. Cause there\n",
    "different\n",
    "groups of wine(based on quality) r better splitted."
   ]
  },
  {
   "cell_type": "markdown",
   "metadata": {},
   "source": [
    "# V.2 Learning to perceptron"
   ]
  },
  {
   "cell_type": "code",
   "execution_count": 7,
   "metadata": {},
   "outputs": [],
   "source": [
    "data_3_8 = red_wine[(red_wine['quality'] >= 8) | (red_wine['quality'] <= 3)].reset_index(drop=True)\n",
    "y_3_8 = [1 if i == True else 0 for i in data_3_8['quality'] >= 8]"
   ]
  },
  {
   "cell_type": "code",
   "execution_count": 8,
   "metadata": {},
   "outputs": [],
   "source": [
    "def display(ret, dot=100, detail=10000, final=False):\n",
    "    \"\"\"Displays text info about training process\"\"\"\n",
    "    if final:\n",
    "        print()\n",
    "        print('DONE')\n",
    "        print('cycle = ', ret[-1][0], ', errors = ', ret[-1][1], sep='')\n",
    "        print('final weights = ', ret[-1][2], ', bias = ', ret[-1][3])\n",
    "    if ret[-1][0] == 0:\n",
    "        return\n",
    "    if ret[-1][0] % dot == 0:\n",
    "        print('.', end='')\n",
    "    if ret[-1][0] % detail == 0:\n",
    "        print()\n",
    "        print('cycle = ', ret[-1][0], ', errors = ', ret[-1][1], sep='')\n",
    "        print('weights change = ', ret[-1][2][0] - ret[-detail - 1][2][0], ret[-1][2][1] - ret[-detail - 1][2][1])\n",
    "        print('weights = ', ret[-1][2], 'bias = ', ret[-1][3])\n",
    "        print('bias change = ', ret[-1][3] - ret[-detail - 1][3])"
   ]
  },
  {
   "cell_type": "markdown",
   "metadata": {},
   "source": [
    "## a), b)"
   ]
  },
  {
   "cell_type": "code",
   "execution_count": 9,
   "metadata": {},
   "outputs": [],
   "source": [
    "class perceptron:\n",
    "    \"\"\"A simple perceptron, with randomly initialized weights and bias\"\"\"\n",
    "\n",
    "    def __init__(self, amount):\n",
    "        \"\"\"Random data initialization\"\"\"\n",
    "        random.seed(42)\n",
    "        self.amount = amount\n",
    "        self.weights = [random.random() for n in range(amount)]\n",
    "        self.bias = random.random()\n",
    "        for i in range(amount):\n",
    "            print('Weights[', i, '] = ', self.weights[i], sep='')\n",
    "        print('bias = ', self.bias, '\\n')\n",
    "\n",
    "    def activation(self, value):\n",
    "        \"\"\"Activation function\"\"\"\n",
    "        return 1 if value > 0 else 0\n",
    "\n",
    "    def predict(self, data, alpha = None, y = None):\n",
    "        \"\"\"Predicts answer and updates weights to fit the data item better\n",
    "        Returns predicted value or whether he guessed right\n",
    "        \"\"\"\n",
    "        rez = self.activation(sum([data[i] * self.weights[i]\n",
    "                                   for i in range(self.amount)]) + self.bias)\n",
    "        if y == None:\n",
    "            return rez\n",
    "        if rez != y:\n",
    "            self.weights = [self.weights[i] + alpha * data[i] * (y - rez) \n",
    "                            for i in range(self.amount)]\n",
    "            self.bias = self.bias + alpha * (y - rez)\n",
    "        return rez != y\n",
    "\n",
    "    def train(self, data, y, epochs = 0, alpha = 0.001):\n",
    "        \"\"\"Trains perceptron epoch times, and logs results\"\"\"\n",
    "        ret = []\n",
    "        errors = 1\n",
    "        if epochs == 0:\n",
    "            i = 0\n",
    "            while (errors):\n",
    "                errors = 0\n",
    "                for item in data.itertuples():\n",
    "                    errors += self.predict(item[1:], alpha, y[item[0]])\n",
    "                ret.append([i, errors, self.weights, self.bias])\n",
    "                i += 1\n",
    "                display(ret)\n",
    "            display(ret, final=True)\n",
    "        else:\n",
    "            for i in range(epochs):\n",
    "                errors = 0\n",
    "                for item in data.itertuples():\n",
    "                    errors += self.predict(item[1:], alpha, y[item[0]])\n",
    "                ret.append([i, errors, self.weights, self.bias])\n",
    "                display(ret)\n",
    "                if errors == 0:\n",
    "                    break\n",
    "            display(ret, final=True)\n",
    "        return ret"
   ]
  },
  {
   "cell_type": "code",
   "execution_count": 10,
   "metadata": {
    "scrolled": false
   },
   "outputs": [
    {
     "name": "stdout",
     "output_type": "stream",
     "text": [
      "Weights[0] = 0.6394267984578837\n",
      "Weights[1] = 0.025010755222666936\n",
      "bias =  0.27502931836911926 \n",
      "\n",
      "....................................................................................................\n",
      "cycle = 10000, errors = 2\n",
      "weights change =  -7.069099999996053 1.848000000000045\n",
      "weights =  [-6.536073201538169, 1.653510755222712] bias =  4.455029318369069\n",
      "bias change =  4.209999999999949\n",
      "...............................\n",
      "DONE\n",
      "cycle = 13154, errors = 0\n",
      "final weights =  [-7.259373201536793, 1.731510755222712] , bias =  6.135029318369033\n"
     ]
    }
   ],
   "source": [
    "model = perceptron(2)\n",
    "logs = model.train(data_3_8[['pH', 'alcohol']], y_3_8, 0, 0.01)"
   ]
  },
  {
   "cell_type": "markdown",
   "metadata": {},
   "source": [
    "## c)"
   ]
  },
  {
   "cell_type": "code",
   "execution_count": 11,
   "metadata": {},
   "outputs": [],
   "source": [
    "def plot_performance(performance, wine_data, good_threshold, bad_threshold, epoch=-1, save_plot=False, debug=False):\n",
    "    \"\"\"Plot the performance of my perceptron\"\"\"\n",
    "    if debug:\n",
    "        fig, ax = plt.subplots(1, 2, figsize=(30, 30))\n",
    "    else:\n",
    "        fig, ax = plt.subplots(1, 2)#, figsize=(10, 10))\n",
    "    bigger = wine_data.where(wine_data['quality'] > good_threshold).reset_index(drop=True)\n",
    "    smaller = wine_data.where(wine_data['quality'] < bad_threshold).reset_index(drop=True)\n",
    "    \n",
    "    ax[0].plot([i[1] for i in performance], 'g')\n",
    "    ax[0].set_title('Errors as a function of epoch')\n",
    "    ax[0].set_ylabel('Classification errors')\n",
    "    ax[0].set_xlabel('Epoch')\n",
    "    ax[1].plot(bigger['alcohol'], bigger['pH'], 'mo', label = 'good wines (> ' + str(good_threshold) + ' score)')\n",
    "    ax[1].plot(smaller['alcohol'], smaller['pH'], 'co', label = 'bad wines (< ' + str(bad_threshold) + ' score)')\n",
    "    ax[1].set_title('Decision boundary on epoch:' + str(len(performance) if epoch == -1 else epoch))\n",
    "    ax[1].set_xlabel('Alcohol')\n",
    "    ax[1].set_ylabel('pH')\n",
    "    \n",
    "    val = {}\n",
    "    if debug:\n",
    "        val['alcohol'] = [-100, 100]         \n",
    "    else:\n",
    "#         val['alcohol'] = [5, 15]         \n",
    "        val['alcohol'] = [min(wine_data['alcohol']) - 1, max(wine_data['alcohol']) + 1] \n",
    "    val['pH'] = [\n",
    "            - (performance[epoch][2][1] * val['alcohol'][0] + performance[epoch][3]) / performance[epoch][2][0],\n",
    "            - (performance[epoch][2][1] * val['alcohol'][1] + performance[epoch][3]) / performance[epoch][2][0]\n",
    "        ]\n",
    "    ax[1].plot(val['alcohol'], val['pH'], 'g--')\n",
    "    if debug:\n",
    "        ax[1].set_xlim(-100, 100)\n",
    "        ax[1].set_ylim(-100, 100)\n",
    "        ax[1].fill_between(val['alcohol'], val['pH'], -100, facecolor='#f8bbd0')\n",
    "        ax[1].fill_between(val['alcohol'], val['pH'], 100, facecolor='#b2ebf2')\n",
    "    else:\n",
    "#         ax[1].set_xlim(5, 15)\n",
    "#         ax[1].set_ylim(2, 5)\n",
    "        ax[1].fill_between(val['alcohol'], val['pH'], -5, facecolor='#f8bbd0')\n",
    "        ax[1].fill_between(val['alcohol'], val['pH'], 15, facecolor='#b2ebf2')\n",
    "        ax[1].set_xlim(min(wine_data['alcohol']) - 1, max(wine_data['alcohol']) + 1)\n",
    "        ax[1].set_ylim(min(wine_data['pH']) - 1, max(wine_data['pH']) + 1)\n",
    "#         ax[1].fill_between(val['alcohol'], val['pH'], min(wine_data['pH']), facecolor='#b2ebf2')\n",
    "#         ax[1].fill_between(val['alcohol'], val['pH'], max(wine_data['pH']), facecolor='#f8bbd0')\n",
    "    plt.tight_layout()\n",
    "    plt.legend(loc='upper center', bbox_to_anchor=(1.6, 1))\n",
    "    plt.show()"
   ]
  },
  {
   "cell_type": "code",
   "execution_count": 31,
   "metadata": {
    "scrolled": false
   },
   "outputs": [
    {
     "data": {
      "application/vnd.jupyter.widget-view+json": {
       "model_id": "73d3c3ebfe674aed931be22d102d8556",
       "version_major": 2,
       "version_minor": 0
      },
      "text/plain": [
       "interactive(children=(IntSlider(value=5, description='good_threshold', max=10), IntSlider(value=5, description…"
      ]
     },
     "metadata": {},
     "output_type": "display_data"
    }
   ],
   "source": [
    "interactive(plot_performance, performance=fixed(logs), wine_data=fixed(red_wine), good_threshold=(0, 10),\\\n",
    "            bad_threshold=(0, 10), epoch=(0, len(logs) - 1))"
   ]
  },
  {
   "cell_type": "markdown",
   "metadata": {},
   "source": [
    "## d) Feature scaling"
   ]
  },
  {
   "cell_type": "code",
   "execution_count": 13,
   "metadata": {
    "scrolled": false
   },
   "outputs": [],
   "source": [
    "normalized_red_wine = red_wine.copy()\n",
    "for title in red_wine.columns:\n",
    "    if not title == 'quality':\n",
    "        normalized_red_wine[title] = (red_wine[title] - min(red_wine[title])) / (max(red_wine[title]) - min(red_wine[title]))\n",
    "normalized_data_3_8 = normalized_red_wine[(red_wine['quality'] >= 8) | (red_wine['quality'] <= 3)].reset_index(drop=True)"
   ]
  },
  {
   "cell_type": "code",
   "execution_count": 14,
   "metadata": {
    "scrolled": false
   },
   "outputs": [
    {
     "name": "stdout",
     "output_type": "stream",
     "text": [
      "Weights[0] = 0.6394267984578837\n",
      "Weights[1] = 0.025010755222666936\n",
      "bias =  0.27502931836911926 \n",
      "\n",
      "\n",
      "DONE\n",
      "cycle = 85, errors = 0\n",
      "final weights =  [-0.09521887083345507, 0.10070306291497405] , bias =  0.015029318369119145\n"
     ]
    }
   ],
   "source": [
    "model_normalized = perceptron(2)\n",
    "logs_normalized = model_normalized.train(normalized_data_3_8[['pH', 'alcohol']], y_3_8, 0, 0.01)"
   ]
  },
  {
   "cell_type": "code",
   "execution_count": 32,
   "metadata": {
    "scrolled": false
   },
   "outputs": [
    {
     "data": {
      "application/vnd.jupyter.widget-view+json": {
       "model_id": "f0088f76e5934b409a653f866fb0bbf7",
       "version_major": 2,
       "version_minor": 0
      },
      "text/plain": [
       "interactive(children=(IntSlider(value=5, description='good_threshold', max=10), IntSlider(value=5, description…"
      ]
     },
     "metadata": {},
     "output_type": "display_data"
    }
   ],
   "source": [
    "interactive(plot_performance, performance=fixed(logs_normalized), wine_data=fixed(normalized_red_wine), good_threshold=(0, 10),\\\n",
    "            bad_threshold=(0, 10), epoch=(0, len(logs_normalized) - 1))"
   ]
  },
  {
   "cell_type": "markdown",
   "metadata": {},
   "source": [
    "# V.3 My fair ADALINE"
   ]
  },
  {
   "cell_type": "markdown",
   "metadata": {},
   "source": [
    "## a)"
   ]
  },
  {
   "cell_type": "markdown",
   "metadata": {},
   "source": [
    "Using stochastic learning algorithm instead of batch. Not adding polynomial features and not using more complicated algorhithms. No parallelism. Using only labels in learning, not values."
   ]
  },
  {
   "cell_type": "markdown",
   "metadata": {},
   "source": [
    "## b), c)"
   ]
  },
  {
   "cell_type": "code",
   "execution_count": 83,
   "metadata": {},
   "outputs": [],
   "source": [
    "class adaline:\n",
    "    \"\"\"A simple adaline, with randomly initialized weights and bias\"\"\"\n",
    "\n",
    "    def __init__(self, amount):\n",
    "        \"\"\"Random data initialization\"\"\"\n",
    "        self.amount = amount\n",
    "        self.weights = [random.random() for n in range(amount)]\n",
    "        self.bias = random.random()\n",
    "\n",
    "        \n",
    "    def quantizer(self, value):\n",
    "        \"\"\"Quantizer function\"\"\"\n",
    "        return 1 if value > 5.6 else 0\n",
    "\n",
    "    \n",
    "    def predict(self, data, y=False):\n",
    "        \"\"\"Predicts answer and updates weights to fit the data item better\n",
    "        Returns predicted value or whether he guessed right\n",
    "        \"\"\"\n",
    "        rez = sum([data[i] * self.weights[i] for i in range(self.amount)]) + self.bias\n",
    "        if y == False:\n",
    "            return self.quantizer(rez)\n",
    "        else:\n",
    "            err = y - rez\n",
    "#             print('y =', y, 'rez =', rez, 'y - rez =', y - rez)\n",
    "            return [[x * err for x in [*data, 1]], err]\n",
    "        \n",
    "    def train(self, data, y, epochs = 0, alpha = 0.001):\n",
    "        \"\"\"Trains perceptron epoch times, and logs results\"\"\"\n",
    "        ret = []\n",
    "        if epochs == 0:\n",
    "            i = 0\n",
    "            while (True):\n",
    "                error = 0\n",
    "                delta = [0] * (self.amount + 1)\n",
    "                for item in data.itertuples():\n",
    "                    [rez, err] = self.predict(item[1:], y[item[0]])\n",
    "                    delta = [delta[i] + rez[i] for i in range(self.amount + 1)]\n",
    "                    error += err\n",
    "                self.weights = [self.weights[i] + alpha * delta[i] / len(data) for i in range(self.amount)]\n",
    "                self.bias += alpha * delta[-1] / len(data)\n",
    "                ret.append([i, error, self.weights, self.bias - 5])\n",
    "                display(ret)\n",
    "                if i > 0 and abs(ret[-1][1] - error) < 0.0000000001:\n",
    "                    break\n",
    "                i += 1\n",
    "            display(ret, final=True)\n",
    "        else:\n",
    "            for i in range(epochs):\n",
    "                error = 0\n",
    "                delta = [0] * (self.amount + 1)\n",
    "                for item in data.itertuples():\n",
    "                    [rez, err] = self.predict(item[1:], y[item[0]])\n",
    "                    delta = [delta[i] + rez[i] for i in range(self.amount + 1)]\n",
    "                    error += err ** 2\n",
    "#                 print(delta, errors)\n",
    "                self.weights = [self.weights[i] + alpha * delta[i] / len(data) for i in range(self.amount)]\n",
    "                self.bias += alpha * delta[-1] / len(data)\n",
    "                ret.append([i, error, self.weights, self.bias - 5.6])\n",
    "                display(ret)\n",
    "                if i > 0 and abs(ret[-2][1] - error) < 0.0000000001:\n",
    "                    print(ret[-1], error)\n",
    "                    break\n",
    "            display(ret, final=True)\n",
    "        return ret"
   ]
  },
  {
   "cell_type": "code",
   "execution_count": 17,
   "metadata": {},
   "outputs": [],
   "source": [
    "data_4_7 = red_wine[(red_wine['quality'] >= 7) | (red_wine['quality'] <= 4)].reset_index(drop=True)\n",
    "y_4_7 = data_4_7['quality']"
   ]
  },
  {
   "cell_type": "code",
   "execution_count": 18,
   "metadata": {
    "scrolled": true
   },
   "outputs": [
    {
     "name": "stdout",
     "output_type": "stream",
     "text": [
      "....................................................................................................\n",
      "cycle = 10000, errors = 376.3190315150191\n",
      "weights change =  -0.8404198411323816 -0.004786962845589771\n",
      "weights =  [-0.6283195699388097, 0.6941690043010255] bias =  -4.365177617498963\n",
      "bias change =  -0.03854816030050223\n",
      "....................................................................................................\n",
      "cycle = 20000, errors = 370.32087159529937\n",
      "weights change =  -0.2892037488245931 0.07534763244576803\n",
      "weights =  [-0.9175233187634028, 0.7695166367467935] bias =  -4.260253452933253\n",
      "bias change =  0.10492416456570997\n",
      "...................................................................................................\n",
      "DONE\n",
      "cycle = 29999, errors = 368.1941398158499\n",
      "final weights =  [-1.0436300088856048, 0.7937042475813745] , bias =  -4.116316565374625\n"
     ]
    }
   ],
   "source": [
    "model = adaline(2)\n",
    "adaline_logs = model.train(data_4_7[['pH', 'alcohol']], y_4_7.tolist(), 30000, 0.001)"
   ]
  },
  {
   "cell_type": "code",
   "execution_count": 33,
   "metadata": {
    "scrolled": false
   },
   "outputs": [
    {
     "data": {
      "application/vnd.jupyter.widget-view+json": {
       "model_id": "e9d6b30978ee4123a293b0a2ca85e04c",
       "version_major": 2,
       "version_minor": 0
      },
      "text/plain": [
       "interactive(children=(IntSlider(value=5, description='good_threshold', max=10), IntSlider(value=5, description…"
      ]
     },
     "metadata": {},
     "output_type": "display_data"
    }
   ],
   "source": [
    "interactive(plot_performance, performance=fixed(adaline_logs), wine_data=fixed(data_4_7), good_threshold=(0, 10),\\\n",
    "            bad_threshold=(0, 10), epoch=(0, len(adaline_logs) - 1), debug=False)"
   ]
  },
  {
   "cell_type": "code",
   "execution_count": 20,
   "metadata": {},
   "outputs": [],
   "source": [
    "normalized_data_4_7 = normalized_red_wine[(red_wine['quality'] >= 7) | (red_wine['quality'] <= 4)].reset_index(drop=True)"
   ]
  },
  {
   "cell_type": "code",
   "execution_count": 21,
   "metadata": {
    "scrolled": false
   },
   "outputs": [
    {
     "name": "stdout",
     "output_type": "stream",
     "text": [
      "..................................................................................[8282, 329.9624293840112, [-4.001871819199307, 4.712259300674113], 1.102410881361557] 329.9624293840112\n",
      "\n",
      "DONE\n",
      "cycle = 8282, errors = 329.9624293840112\n",
      "final weights =  [-4.001871819199307, 4.712259300674113] , bias =  1.102410881361557\n"
     ]
    }
   ],
   "source": [
    "model = adaline(2)\n",
    "adaline_logs_normalized = model.train(normalized_data_4_7[['pH', 'alcohol']], y_4_7.tolist(), 30000, 0.1)"
   ]
  },
  {
   "cell_type": "code",
   "execution_count": 22,
   "metadata": {
    "scrolled": true
   },
   "outputs": [
    {
     "name": "stdout",
     "output_type": "stream",
     "text": [
      "0.7857142857142857\n",
      "39 / 280\n"
     ]
    }
   ],
   "source": [
    "pred = [model.predict(normalized_data_4_7.loc[i, ['pH', 'alcohol']]) for i in range(len(normalized_data_4_7))]\n",
    "y = [1 if i == True else 0 for i in normalized_data_4_7['quality'] >= 7]\n",
    "\n",
    "print(sum([abs((y[i] - pred[i])) for i in range(len(y))]), '/', len(normalized_data_4_7))"
   ]
  },
  {
   "cell_type": "code",
   "execution_count": 34,
   "metadata": {
    "scrolled": false
   },
   "outputs": [
    {
     "data": {
      "application/vnd.jupyter.widget-view+json": {
       "model_id": "8126239e89fa4b80a921d355aacda597",
       "version_major": 2,
       "version_minor": 0
      },
      "text/plain": [
       "interactive(children=(IntSlider(value=5, description='good_threshold', max=10), IntSlider(value=5, description…"
      ]
     },
     "metadata": {},
     "output_type": "display_data"
    }
   ],
   "source": [
    "interactive(plot_performance, performance=fixed(adaline_logs_normalized), wine_data=fixed(normalized_data_4_7), good_threshold=(0, 10),\\\n",
    "            bad_threshold=(0, 10), epoch=(0, len(adaline_logs_normalized) - 1), debug=False)"
   ]
  },
  {
   "cell_type": "markdown",
   "metadata": {},
   "source": [
    "# V.4"
   ]
  },
  {
   "cell_type": "markdown",
   "metadata": {},
   "source": [
    "# a)"
   ]
  },
  {
   "cell_type": "code",
   "execution_count": 24,
   "metadata": {},
   "outputs": [],
   "source": [
    "def holdout(input_data, percentage=30):\n",
    "    data = input_data.sample(frac=1).reset_index(drop=True)\n",
    "    sep = int(len(data) * percentage / 100)\n",
    "    return (data[:sep], data[sep:])"
   ]
  },
  {
   "cell_type": "code",
   "execution_count": 25,
   "metadata": {},
   "outputs": [
    {
     "name": "stdout",
     "output_type": "stream",
     "text": [
      "280 84 196\n"
     ]
    }
   ],
   "source": [
    "train, test = holdout(normalized_data_4_7)\n",
    "print(len(normalized_data_4_7), len(train), len(test))"
   ]
  },
  {
   "cell_type": "markdown",
   "metadata": {},
   "source": [
    "# b)"
   ]
  },
  {
   "cell_type": "code",
   "execution_count": 80,
   "metadata": {},
   "outputs": [],
   "source": [
    "def k_folds(input_data, k=10, shuffle=False):\n",
    "    data = input_data.sample(frac=1).reset_index(drop=True) if shuffle else input_data\n",
    "    seps = [int(len(data) / k) * i for i in range(k + 1)]\n",
    "    parts = []\n",
    "    for i in range(k):\n",
    "        parts.append(data[seps[i]:seps[i + 1]])\n",
    "    ret = []\n",
    "    for i in range(k):\n",
    "        train = pd.concat([parts[j] for j in range(k) if not j == i]).reset_index()\n",
    "        test = parts[i].reset_index()\n",
    "        ret.append((train, test))\n",
    "    return ret"
   ]
  },
  {
   "cell_type": "code",
   "execution_count": 62,
   "metadata": {},
   "outputs": [
    {
     "name": "stdout",
     "output_type": "stream",
     "text": [
      "11\n",
      "280 252 28\n",
      "280 252 28\n",
      "280 252 28\n",
      "280 252 28\n",
      "280 252 28\n",
      "280 252 28\n",
      "280 252 28\n",
      "280 252 28\n",
      "280 252 28\n",
      "280 252 28\n"
     ]
    }
   ],
   "source": [
    "data = k_folds(normalized_data_4_7)\n",
    "for train, test in data:\n",
    "    print(len(normalized_data_4_7), len(train), len(test))"
   ]
  },
  {
   "cell_type": "markdown",
   "metadata": {},
   "source": [
    "# c)"
   ]
  },
  {
   "cell_type": "code",
   "execution_count": 88,
   "metadata": {},
   "outputs": [],
   "source": [
    "def cross_validate(input_data, k=10, epochs=10000, alpha=0.01):\n",
    "    data = k_folds(input_data)\n",
    "    error = []\n",
    "    logs = []\n",
    "    for train, test in data:\n",
    "        model = adaline(2)\n",
    "        log = model.train(train[['pH', 'alcohol']], train['quality'].tolist(), epochs, alpha)\n",
    "        logs.append(log)\n",
    "        y = [1 if i == True else 0 for i in train['quality'] >= 7]\n",
    "        pred = [model.predict(train.loc[i, ['pH', 'alcohol']]) for i in range(len(train))]\n",
    "        error.append(sum([abs(y[i] - pred[i]) for i in range(len(y))]))\n",
    "    return (sum(error) / k)"
   ]
  },
  {
   "cell_type": "markdown",
   "metadata": {},
   "source": [
    "When adaline trains it predicts continious value. It compares 4 vs 5 as example while we're inspecting model we compare binary values (1 vs 0). That's why values differ"
   ]
  },
  {
   "cell_type": "code",
   "execution_count": 90,
   "metadata": {},
   "outputs": [
    {
     "name": "stdout",
     "output_type": "stream",
     "text": [
      "\n",
      "DONE\n",
      "cycle = 99, errors = 892.5809847427065\n",
      "final weights =  [2.0710452271691513, 1.3930656479991457] , bias =  -1.4124179433537636\n",
      "\n",
      "DONE\n",
      "cycle = 99, errors = 953.424445380543\n",
      "final weights =  [1.9490382992174242, 1.907688151091267] , bias =  -1.7681919082382178\n",
      "\n",
      "DONE\n",
      "cycle = 99, errors = 962.3887414880854\n",
      "final weights =  [1.9318458109792287, 1.4817079075912551] , bias =  -1.584417386857143\n",
      "\n",
      "DONE\n",
      "cycle = 99, errors = 797.8575759959288\n",
      "final weights =  [1.582814106506297, 2.1804349512638668] , bias =  -1.46412177346904\n",
      "\n",
      "DONE\n",
      "cycle = 99, errors = 991.5883428468929\n",
      "final weights =  [1.605885843079433, 1.9464772672463506] , bias =  -1.6400545788626917\n",
      "\n",
      "DONE\n",
      "cycle = 99, errors = 941.6419333515404\n",
      "final weights =  [2.101237381515633, 2.1502438323160264] , bias =  -1.860937744251749\n",
      "\n",
      "DONE\n",
      "cycle = 99, errors = 992.3811251409315\n",
      "final weights =  [1.9289500891251383, 1.976997837345514] , bias =  -1.8226296010269731\n",
      "\n",
      "DONE\n",
      "cycle = 99, errors = 874.1903237306758\n",
      "final weights =  [1.9077195563771414, 1.760118346938725] , bias =  -1.5302619385638385\n",
      "\n",
      "DONE\n",
      "cycle = 99, errors = 978.7342187321547\n",
      "final weights =  [1.870553736690602, 1.4757414005213814] , bias =  -1.4938749146171393\n",
      "\n",
      "DONE\n",
      "cycle = 99, errors = 807.8341308231726\n",
      "final weights =  [1.184813099886364, 2.2085493886342293] , bias =  -1.3533699194586233\n",
      "[182, 177, 180, 163, 183, 168, 174, 174, 190, 166]\n",
      "1757\n"
     ]
    },
    {
     "data": {
      "text/plain": [
       "175.7"
      ]
     },
     "execution_count": 90,
     "metadata": {},
     "output_type": "execute_result"
    }
   ],
   "source": [
    "cross_validate(normalized_data_4_7, epochs=1000)"
   ]
  },
  {
   "cell_type": "markdown",
   "metadata": {},
   "source": [
    "# V.5 Adventures in the Nth dimension"
   ]
  },
  {
   "cell_type": "markdown",
   "metadata": {},
   "source": [
    "## a)"
   ]
  },
  {
   "cell_type": "code",
   "execution_count": 30,
   "metadata": {},
   "outputs": [
    {
     "name": "stdout",
     "output_type": "stream",
     "text": [
      "....................................................................................................\n",
      "cycle = 10000, errors = 254.73546579395955\n",
      "weights change =  1.2578750177014113 -2.697605611028736\n",
      "weights =  [1.3025801827330894, -2.487770558891548, 1.0083074892756134, -0.29372616395619466, -0.9527340864575095, 0.47883312678245427, -0.2371657200787754, -0.33539342861028537, 0.940517474365963, 2.1161833624730426, 3.384848809930186] bias =  -0.9852994477524808\n",
      "bias change =  3.8094735643703155\n",
      "....................................................................................................\n",
      "cycle = 20000, errors = 238.21207362867688\n",
      "weights change =  0.09253718815160306 -0.6438171995605111\n",
      "weights =  [1.3951173708846925, -3.131587758452059, 0.22722376179539316, -0.4937241395331632, -1.5934394659546705, 0.5722050942019064, -0.5619098782837504, -0.26073633244867683, 0.1708915573451643, 2.29921205608851, 3.3938390855082585] bias =  -0.21661425196778072\n",
      "bias change =  0.7686851957847001\n",
      "...................................................................................................\n",
      "DONE\n",
      "cycle = 29999, errors = 232.39672239515951\n",
      "final weights =  [1.2836033035814876, -3.3670491548138295, -0.1776813932126646, -0.5037739020709201, -1.9694462385564617, 0.6624886215527108, -0.7041172645319947, -0.11753842233831892, -0.44997649403652423, 2.38890051616053, 3.450251461051722] , bias =  0.22918567267880974\n"
     ]
    }
   ],
   "source": [
    "model = adaline(11)\n",
    "adaline_logs = model.train(normalized_data_4_7[['fixed acidity', 'volatile acidity', 'citric acid', 'residual sugar',\n",
    "       'chlorides', 'free sulfur dioxide', 'total sulfur dioxide', 'density',\n",
    "       'pH', 'sulphates', 'alcohol']], y_4_7.tolist(), 30000, 0.01)"
   ]
  },
  {
   "cell_type": "markdown",
   "metadata": {},
   "source": [
    "It converges when data is separable in that hyperplane"
   ]
  },
  {
   "cell_type": "markdown",
   "metadata": {},
   "source": [
    "## b)"
   ]
  },
  {
   "cell_type": "markdown",
   "metadata": {},
   "source": [
    "It's called a hyperplane. For 2-dimensional space it's a point, for 3-d it's line and so on."
   ]
  },
  {
   "cell_type": "markdown",
   "metadata": {},
   "source": [
    "# V.6 Marvin's rebuttal"
   ]
  },
  {
   "cell_type": "code",
   "execution_count": 41,
   "metadata": {},
   "outputs": [],
   "source": [
    "pan_gal = pd.read_csv(\"./resources/resources/winequality-red.csv\", sep=';')\n",
    "pan_gal_data = pan_gal[(red_wine['quality'] >= 7) | (pan_gal['quality'] <= 4)].reset_index()\n",
    "pan_gal_y = [1 if i == True else 0 for i in pan_gal_data['quality'] >= 7]\n",
    "pan_gal_data = pan_gal_data[['fixed acidity', 'volatile acidity', 'citric acid', 'residual sugar',\n",
    "       'chlorides', 'free sulfur dioxide', 'total sulfur dioxide', 'density',\n",
    "       'pH', 'sulphates', 'alcohol']].values.tolist()"
   ]
  },
  {
   "cell_type": "code",
   "execution_count": null,
   "metadata": {},
   "outputs": [],
   "source": [
    "def process_to_poly(data):\n",
    "    poly = data.values.tolist()\n",
    "    length = len(poly[0])\n",
    "    for line in poly:\n",
    "        for i in range(length):\n",
    "            for j in range(length):\n",
    "                line.append(line[i] * line[j])\n",
    "        for i in range(length):\n",
    "            for j in range(length):\n",
    "                for k in range(length):\n",
    "                    line.append(line[i] * line[j] * line[k])\n",
    "    print('Was:', length, 'Now:', len(poly[0]))\n",
    "    return poly"
   ]
  },
  {
   "cell_type": "code",
   "execution_count": 1,
   "metadata": {},
   "outputs": [],
   "source": [
    "%load_ext Cython"
   ]
  },
  {
   "cell_type": "code",
   "execution_count": 52,
   "metadata": {
    "scrolled": true
   },
   "outputs": [
    {
     "name": "stdout",
     "output_type": "stream",
     "text": [
      "Was: 11 Now: 1463\n",
      "................................................................................."
     ]
    },
    {
     "ename": "KeyboardInterrupt",
     "evalue": "",
     "output_type": "error",
     "traceback": [
      "\u001b[0;31m---------------------------------------------------------------------------\u001b[0m",
      "\u001b[0;31mKeyboardInterrupt\u001b[0m                         Traceback (most recent call last)",
      "\u001b[0;32m<ipython-input-52-435ab5943dd6>\u001b[0m in \u001b[0;36m<module>\u001b[0;34m()\u001b[0m\n\u001b[0;32m----> 1\u001b[0;31m \u001b[0mget_ipython\u001b[0m\u001b[0;34m(\u001b[0m\u001b[0;34m)\u001b[0m\u001b[0;34m.\u001b[0m\u001b[0mrun_cell_magic\u001b[0m\u001b[0;34m(\u001b[0m\u001b[0;34m'cython'\u001b[0m\u001b[0;34m,\u001b[0m \u001b[0;34m''\u001b[0m\u001b[0;34m,\u001b[0m \u001b[0;34m'import pandas as pd\\nfrom libc.stdlib cimport malloc, free, rand, srand, RAND_MAX\\nfrom cpython cimport array\\nimport array\\n\\nred_wine = pd.read_csv(\"./resources/resources/winequality-red.csv\", sep=\\';\\')\\ndata = red_wine[(red_wine[\\'quality\\'] >= 7) | (red_wine[\\'quality\\'] <= 4)].reset_index()\\ny = [1 if i == True else 0 for i in data[\\'quality\\'] >= 7]\\ndata = data[[\\'fixed acidity\\', \\'volatile acidity\\', \\'citric acid\\', \\'residual sugar\\',\\n       \\'chlorides\\', \\'free sulfur dioxide\\', \\'total sulfur dioxide\\', \\'density\\',\\n       \\'pH\\', \\'sulphates\\', \\'alcohol\\']].values.tolist()\\n\\ndef process_to_poly(poly):\\n    length = len(poly[0])\\n    for line in poly:\\n        for i in range(length):\\n            for j in range(length):\\n                line.append(line[i] * line[j])\\n        for i in range(length):\\n            for j in range(length):\\n                for k in range(length):\\n                    line.append(line[i] * line[j] * line[k])\\n    print(\\'Was:\\', length, \\'Now:\\', len(poly[0]))\\n    return poly\\n\\ndata = process_to_poly(data)\\n\\ndef display(ret, dot=100, detail=10000, final=False):\\n    \"\"\"Displays text info about training process\"\"\"\\n    if final:\\n        print()\\n        print(\\'DONE\\')\\n        print(\\'cycle = \\', ret[-1][0], \\', errors = \\', ret[-1][1], sep=\\'\\')\\n#         print(\\'final weights = \\', ret[-1][2], \\', bias = \\', ret[-1][3])\\n    if ret[-1][0] == 0:\\n        return\\n    if ret[-1][0] % dot == 0:\\n        print(\\'.\\', end=\\'\\')\\n    if ret[-1][0] % detail == 0:\\n        print()\\n        print(\\'cycle = \\', ret[-1][0], \\', errors = \\', ret[-1][1], sep=\\'\\')\\n#         print(\\'weights change = \\', ret[-1][2][0] - ret[-detail - 1][2][0],\\n#               ret[-1][2][1] - ret[-detail - 1][2][1])\\n#         print(\\'weights = \\', ret[-1][2], \\'bias = \\', ret[-1][3])\\n#         print(\\'bias change = \\', ret[-1][3] - ret[-detail - 1][3])\\n        \\ncdef struct s_perceptron:\\n    double *weights;\\n    double bias;\\n    int amount;\\nctypedef s_perceptron t_perceptron\\n\\ncdef t_perceptron init_perceptron(int amount):\\n    srand(42)\\n    cdef t_perceptron ret\\n    ret.amount = amount\\n    ret.weights = <double *>malloc(sizeof(double) * amount)\\n    ret.bias = <double>rand() / RAND_MAX\\n#     ret.bias = 0.27502931836911926\\n#     ret.weights[0] = 0.6394267984578837\\n#     ret.weights[1] = 0.025010755222666936\\n    for i in range(amount):\\n        ret.weights[i] = <double>rand() / RAND_MAX\\n#         print(\\'Weights[\\', i, \\'] = \\', ret.weights[i], sep=\\'\\')\\n#     print(\\'bias = \\', ret.bias, \\'\\\\n\\')\\n    return ret\\n    \\ncdef int activation(double value):\\n    return 1 if value > 0 else 0\\n    \\ncdef double predict(t_perceptron *model, list data, double alpha, int y):\\n    cdef double rez = model.bias\\n    for i in range(model.amount):\\n        rez += data[i] * model.weights[i]\\n    tmp = rez\\n    rez = activation(rez)\\n    if y == -1:\\n        return activation(rez)\\n    if rez != y:\\n        for i in range(model.amount):\\n            model.weights[i] += alpha * data[i] * (y - rez)\\n        model.bias += alpha * (y - rez)\\n    return rez != y\\n\\ncdef list train(t_perceptron model, list data, list y, int epochs, double alpha):\\n    cdef list ret = []\\n    cdef double errors = 1\\n    cdef unsigned long i = 0\\n    if epochs == 0:\\n        while (errors):\\n            errors = 0\\n            for j, item in enumerate(data):\\n                errors += predict(&model, item, alpha, y[j])\\n            ret.append([i, errors, [model.weights[i] for i in range(model.amount)],\\n                        model.bias])\\n            i += 1\\n            display(ret, 10, 1000)\\n        display(ret, final=True)\\n    else:\\n        for i in range(epochs):\\n            errors = 0\\n            for j, item in enumerate(data):\\n                errors += predict(&model, item, alpha, y[j])\\n            ret.append([i, errors, [model.weights[i] for i in range(model.amount)],\\n                        model.bias])\\n            display(ret, 10, 1000)\\n            if errors == 0:\\n                break\\n        display(ret, final=True)\\n    return ret\\n\\ncdef t_perceptron model = init_perceptron(len(data[0]))\\ntrain(model, data, y, 0, 0.00000001)\\nfree(model.weights)'\u001b[0m\u001b[0;34m)\u001b[0m\u001b[0;34m\u001b[0m\u001b[0m\n\u001b[0m",
      "\u001b[0;32m~/Library/Python/3.6/lib/python/site-packages/IPython/core/interactiveshell.py\u001b[0m in \u001b[0;36mrun_cell_magic\u001b[0;34m(self, magic_name, line, cell)\u001b[0m\n\u001b[1;32m   2165\u001b[0m             \u001b[0mmagic_arg_s\u001b[0m \u001b[0;34m=\u001b[0m \u001b[0mself\u001b[0m\u001b[0;34m.\u001b[0m\u001b[0mvar_expand\u001b[0m\u001b[0;34m(\u001b[0m\u001b[0mline\u001b[0m\u001b[0;34m,\u001b[0m \u001b[0mstack_depth\u001b[0m\u001b[0;34m)\u001b[0m\u001b[0;34m\u001b[0m\u001b[0m\n\u001b[1;32m   2166\u001b[0m             \u001b[0;32mwith\u001b[0m \u001b[0mself\u001b[0m\u001b[0;34m.\u001b[0m\u001b[0mbuiltin_trap\u001b[0m\u001b[0;34m:\u001b[0m\u001b[0;34m\u001b[0m\u001b[0m\n\u001b[0;32m-> 2167\u001b[0;31m                 \u001b[0mresult\u001b[0m \u001b[0;34m=\u001b[0m \u001b[0mfn\u001b[0m\u001b[0;34m(\u001b[0m\u001b[0mmagic_arg_s\u001b[0m\u001b[0;34m,\u001b[0m \u001b[0mcell\u001b[0m\u001b[0;34m)\u001b[0m\u001b[0;34m\u001b[0m\u001b[0m\n\u001b[0m\u001b[1;32m   2168\u001b[0m             \u001b[0;32mreturn\u001b[0m \u001b[0mresult\u001b[0m\u001b[0;34m\u001b[0m\u001b[0m\n\u001b[1;32m   2169\u001b[0m \u001b[0;34m\u001b[0m\u001b[0m\n",
      "\u001b[0;32m<decorator-gen-127>\u001b[0m in \u001b[0;36mcython\u001b[0;34m(self, line, cell)\u001b[0m\n",
      "\u001b[0;32m~/Library/Python/3.6/lib/python/site-packages/IPython/core/magic.py\u001b[0m in \u001b[0;36m<lambda>\u001b[0;34m(f, *a, **k)\u001b[0m\n\u001b[1;32m    185\u001b[0m     \u001b[0;31m# but it's overkill for just that one bit of state.\u001b[0m\u001b[0;34m\u001b[0m\u001b[0;34m\u001b[0m\u001b[0m\n\u001b[1;32m    186\u001b[0m     \u001b[0;32mdef\u001b[0m \u001b[0mmagic_deco\u001b[0m\u001b[0;34m(\u001b[0m\u001b[0marg\u001b[0m\u001b[0;34m)\u001b[0m\u001b[0;34m:\u001b[0m\u001b[0;34m\u001b[0m\u001b[0m\n\u001b[0;32m--> 187\u001b[0;31m         \u001b[0mcall\u001b[0m \u001b[0;34m=\u001b[0m \u001b[0;32mlambda\u001b[0m \u001b[0mf\u001b[0m\u001b[0;34m,\u001b[0m \u001b[0;34m*\u001b[0m\u001b[0ma\u001b[0m\u001b[0;34m,\u001b[0m \u001b[0;34m**\u001b[0m\u001b[0mk\u001b[0m\u001b[0;34m:\u001b[0m \u001b[0mf\u001b[0m\u001b[0;34m(\u001b[0m\u001b[0;34m*\u001b[0m\u001b[0ma\u001b[0m\u001b[0;34m,\u001b[0m \u001b[0;34m**\u001b[0m\u001b[0mk\u001b[0m\u001b[0;34m)\u001b[0m\u001b[0;34m\u001b[0m\u001b[0m\n\u001b[0m\u001b[1;32m    188\u001b[0m \u001b[0;34m\u001b[0m\u001b[0m\n\u001b[1;32m    189\u001b[0m         \u001b[0;32mif\u001b[0m \u001b[0mcallable\u001b[0m\u001b[0;34m(\u001b[0m\u001b[0marg\u001b[0m\u001b[0;34m)\u001b[0m\u001b[0;34m:\u001b[0m\u001b[0;34m\u001b[0m\u001b[0m\n",
      "\u001b[0;32m~/Library/Python/3.6/lib/python/site-packages/Cython/Build/IpythonMagic.py\u001b[0m in \u001b[0;36mcython\u001b[0;34m(self, line, cell)\u001b[0m\n\u001b[1;32m    329\u001b[0m                               quiet=args.quiet)\n\u001b[1;32m    330\u001b[0m \u001b[0;34m\u001b[0m\u001b[0m\n\u001b[0;32m--> 331\u001b[0;31m         \u001b[0mmodule\u001b[0m \u001b[0;34m=\u001b[0m \u001b[0mimp\u001b[0m\u001b[0;34m.\u001b[0m\u001b[0mload_dynamic\u001b[0m\u001b[0;34m(\u001b[0m\u001b[0mmodule_name\u001b[0m\u001b[0;34m,\u001b[0m \u001b[0mmodule_path\u001b[0m\u001b[0;34m)\u001b[0m\u001b[0;34m\u001b[0m\u001b[0m\n\u001b[0m\u001b[1;32m    332\u001b[0m         \u001b[0mself\u001b[0m\u001b[0;34m.\u001b[0m\u001b[0m_import_all\u001b[0m\u001b[0;34m(\u001b[0m\u001b[0mmodule\u001b[0m\u001b[0;34m)\u001b[0m\u001b[0;34m\u001b[0m\u001b[0m\n\u001b[1;32m    333\u001b[0m \u001b[0;34m\u001b[0m\u001b[0m\n",
      "\u001b[0;32m/Library/Frameworks/Python.framework/Versions/3.6/lib/python3.6/imp.py\u001b[0m in \u001b[0;36mload_dynamic\u001b[0;34m(name, path, file)\u001b[0m\n\u001b[1;32m    340\u001b[0m         spec = importlib.machinery.ModuleSpec(\n\u001b[1;32m    341\u001b[0m             name=name, loader=loader, origin=path)\n\u001b[0;32m--> 342\u001b[0;31m         \u001b[0;32mreturn\u001b[0m \u001b[0m_load\u001b[0m\u001b[0;34m(\u001b[0m\u001b[0mspec\u001b[0m\u001b[0;34m)\u001b[0m\u001b[0;34m\u001b[0m\u001b[0m\n\u001b[0m\u001b[1;32m    343\u001b[0m \u001b[0;34m\u001b[0m\u001b[0m\n\u001b[1;32m    344\u001b[0m \u001b[0;32melse\u001b[0m\u001b[0;34m:\u001b[0m\u001b[0;34m\u001b[0m\u001b[0m\n",
      "\u001b[0;32m/Library/Frameworks/Python.framework/Versions/3.6/lib/python3.6/importlib/_bootstrap.py\u001b[0m in \u001b[0;36m_load\u001b[0;34m(spec)\u001b[0m\n",
      "\u001b[0;32m/Library/Frameworks/Python.framework/Versions/3.6/lib/python3.6/importlib/_bootstrap.py\u001b[0m in \u001b[0;36m_load_unlocked\u001b[0;34m(spec)\u001b[0m\n",
      "\u001b[0;32m/Library/Frameworks/Python.framework/Versions/3.6/lib/python3.6/importlib/_bootstrap.py\u001b[0m in \u001b[0;36mmodule_from_spec\u001b[0;34m(spec)\u001b[0m\n",
      "\u001b[0;32m/Library/Frameworks/Python.framework/Versions/3.6/lib/python3.6/importlib/_bootstrap_external.py\u001b[0m in \u001b[0;36mcreate_module\u001b[0;34m(self, spec)\u001b[0m\n",
      "\u001b[0;32m/Library/Frameworks/Python.framework/Versions/3.6/lib/python3.6/importlib/_bootstrap.py\u001b[0m in \u001b[0;36m_call_with_frames_removed\u001b[0;34m(f, *args, **kwds)\u001b[0m\n",
      "\u001b[0;32m_cython_magic_e1951a5d56946cbc59c72c12046deb8a.pyx\u001b[0m in \u001b[0;36minit _cython_magic_e1951a5d56946cbc59c72c12046deb8a\u001b[0;34m()\u001b[0m\n",
      "\u001b[0;32m_cython_magic_e1951a5d56946cbc59c72c12046deb8a.pyx\u001b[0m in \u001b[0;36m_cython_magic_e1951a5d56946cbc59c72c12046deb8a.train\u001b[0;34m()\u001b[0m\n",
      "\u001b[0;32m_cython_magic_e1951a5d56946cbc59c72c12046deb8a.pyx\u001b[0m in \u001b[0;36m_cython_magic_e1951a5d56946cbc59c72c12046deb8a.display\u001b[0;34m()\u001b[0m\n",
      "\u001b[0;31mKeyboardInterrupt\u001b[0m: "
     ]
    }
   ],
   "source": [
    "%%cython\n",
    "import pandas as pd\n",
    "from libc.stdlib cimport malloc, free, rand, srand, RAND_MAX\n",
    "from cpython cimport array\n",
    "import array\n",
    "\n",
    "red_wine = pd.read_csv(\"./resources/resources/winequality-red.csv\", sep=';')\n",
    "data = red_wine[(red_wine['quality'] >= 7) | (red_wine['quality'] <= 4)].reset_index()\n",
    "y = [1 if i == True else 0 for i in data['quality'] >= 7]\n",
    "data = data[['fixed acidity', 'volatile acidity', 'citric acid', 'residual sugar',\n",
    "       'chlorides', 'free sulfur dioxide', 'total sulfur dioxide', 'density',\n",
    "       'pH', 'sulphates', 'alcohol']].values.tolist()\n",
    "\n",
    "def process_to_poly(poly):\n",
    "    length = len(poly[0])\n",
    "    for line in poly:\n",
    "        for i in range(length):\n",
    "            for j in range(length):\n",
    "                line.append(line[i] * line[j])\n",
    "        for i in range(length):\n",
    "            for j in range(length):\n",
    "                for k in range(length):\n",
    "                    line.append(line[i] * line[j] * line[k])\n",
    "    print('Was:', length, 'Now:', len(poly[0]))\n",
    "    return poly\n",
    "\n",
    "data = process_to_poly(data)\n",
    "\n",
    "def display(ret, dot=100, detail=10000, final=False):\n",
    "    \"\"\"Displays text info about training process\"\"\"\n",
    "    if final:\n",
    "        print()\n",
    "        print('DONE')\n",
    "        print('cycle = ', ret[-1][0], ', errors = ', ret[-1][1], sep='')\n",
    "    if ret[-1][0] == 0:\n",
    "        return\n",
    "    if ret[-1][0] % dot == 0:\n",
    "        print('.', end='')\n",
    "    if ret[-1][0] % detail == 0:\n",
    "        print()\n",
    "        print('cycle = ', ret[-1][0], ', errors = ', ret[-1][1], sep='')\n",
    "        \n",
    "cdef struct s_perceptron:\n",
    "    double *weights;\n",
    "    double bias;\n",
    "    int amount;\n",
    "ctypedef s_perceptron t_perceptron\n",
    "\n",
    "cdef t_perceptron init_perceptron(int amount):\n",
    "    srand(42)\n",
    "    cdef t_perceptron ret\n",
    "    ret.amount = amount\n",
    "    ret.weights = <double *>malloc(sizeof(double) * amount)\n",
    "    ret.bias = <double>rand() / RAND_MAX\n",
    "#     ret.bias = 0.27502931836911926\n",
    "#     ret.weights[0] = 0.6394267984578837\n",
    "#     ret.weights[1] = 0.025010755222666936\n",
    "    for i in range(amount):\n",
    "        ret.weights[i] = <double>rand() / RAND_MAX\n",
    "#         print('Weights[', i, '] = ', ret.weights[i], sep='')\n",
    "#     print('bias = ', ret.bias, '\\n')\n",
    "    return ret\n",
    "    \n",
    "cdef int activation(double value):\n",
    "    return 1 if value > 0 else 0\n",
    "    \n",
    "cdef double predict(t_perceptron *model, list data, double alpha, int y):\n",
    "    cdef double rez = model.bias\n",
    "    for i in range(model.amount):\n",
    "        rez += data[i] * model.weights[i]\n",
    "    rez = activation(rez)\n",
    "    if y == -1:\n",
    "        return rez\n",
    "    if rez != y:\n",
    "        for i in range(model.amount):\n",
    "            model.weights[i] += alpha * data[i] * (y - rez)\n",
    "        model.bias += alpha * (y - rez)\n",
    "    return rez != y\n",
    "\n",
    "cdef list train(t_perceptron model, list data, list y, int epochs, double alpha):\n",
    "    cdef list ret = []\n",
    "    cdef double errors = 1\n",
    "    cdef unsigned long i = 0\n",
    "    if epochs == 0:\n",
    "        while (errors):\n",
    "            errors = 0\n",
    "            for j, item in enumerate(data):\n",
    "                errors += predict(&model, item, alpha, y[j])\n",
    "            ret.append([i, errors, [model.weights[i] for i in range(model.amount)],\n",
    "                        model.bias])\n",
    "            i += 1\n",
    "            display(ret, 1, 100)\n",
    "        display(ret, final=True)\n",
    "    else:\n",
    "        for i in range(epochs):\n",
    "            errors = 0\n",
    "            for j, item in enumerate(data):\n",
    "                errors += predict(&model, item, alpha, y[j])\n",
    "            ret.append([i, errors, [model.weights[i] for i in range(model.amount)],\n",
    "                        model.bias])\n",
    "            display(ret, 1, 100)\n",
    "            if errors == 0:\n",
    "                break\n",
    "        display(ret, final=True)\n",
    "    return ret\n",
    "\n",
    "cdef t_perceptron model = init_perceptron(len(data[0]))\n",
    "train(model, data, y, 0, 0.00000001)\n",
    "free(model.weights)"
   ]
  },
  {
   "cell_type": "code",
   "execution_count": null,
   "metadata": {},
   "outputs": [
    {
     "name": "stderr",
     "output_type": "stream",
     "text": [
      "/Library/Frameworks/Python.framework/Versions/3.6/lib/python3.6/importlib/_bootstrap.py:205: RuntimeWarning: numpy.dtype size changed, may indicate binary incompatibility. Expected 96, got 88\n",
      "  return f(*args, **kwds)\n",
      "/Library/Frameworks/Python.framework/Versions/3.6/lib/python3.6/importlib/_bootstrap.py:205: RuntimeWarning: numpy.dtype size changed, may indicate binary incompatibility. Expected 96, got 88\n",
      "  return f(*args, **kwds)\n"
     ]
    }
   ],
   "source": [
    "%%cython\n",
    "import pandas as pd\n",
    "from libc.stdlib cimport malloc, free, rand, srand, RAND_MAX\n",
    "from cpython cimport array\n",
    "import array\n",
    "\n",
    "red_wine = pd.read_csv(\"./resources/resources/winequality-red.csv\", sep=';')\n",
    "\n",
    "data_4_7 = red_wine[(red_wine['quality'] >= 7) | (red_wine['quality'] <= 4)].reset_index()\n",
    "y_4_7 = data_4_7['quality']\n",
    "normalized_data_4_7 = data_4_7.copy()\n",
    "for column in normalized_data_4_7.columns:\n",
    "    if column != 'quality':\n",
    "        normalized_data_4_7[column] = (data_4_7[column] - min(data_4_7[column])) / (max(data_4_7[column]) - min(data_4_7[column]))\n",
    "data = normalized_data_4_7[['pH', 'alcohol']].values.tolist()\n",
    "        \n",
    "def process_to_poly(poly):\n",
    "    length = len(poly[0])\n",
    "    for line in poly:\n",
    "        for i in range(length):\n",
    "            for j in range(length):\n",
    "                line.append(line[i] * line[j])\n",
    "        for i in range(length):\n",
    "            for j in range(length):\n",
    "                for k in range(length):\n",
    "                    line.append(line[i] * line[j] * line[k])\n",
    "    print('Was:', length, 'Now:', len(poly[0]))\n",
    "    return poly\n",
    "\n",
    "data = process_to_poly(data)\n",
    "\n",
    "def display(ret, dot=100, detail=10000, final=False):\n",
    "    \"\"\"Displays text info about training process\"\"\"\n",
    "    if final:\n",
    "        print()\n",
    "        print('DONE')\n",
    "        print('cycle = ', ret[-1][0], ', errors = ', ret[-1][1], sep='')\n",
    "    if ret[-1][0] == 0:\n",
    "        return\n",
    "    if ret[-1][0] % dot == 0:\n",
    "        print('.', end='')\n",
    "    if ret[-1][0] % detail == 0:\n",
    "        print()\n",
    "        print('cycle = ', ret[-1][0], ', errors = ', ret[-1][1], sep='')\n",
    "        \n",
    "cdef struct s_perceptron:\n",
    "    double *weights;\n",
    "    double bias;\n",
    "    int amount;\n",
    "ctypedef s_perceptron t_perceptron\n",
    "\n",
    "cdef t_perceptron init_perceptron(int amount):\n",
    "    srand(42)\n",
    "    cdef t_perceptron ret\n",
    "    ret.amount = amount\n",
    "#     ret.weights = <double *>malloc(sizeof(double) * amount)\n",
    "#     ret.bias = <double>rand() / RAND_MAX\n",
    "    ret.bias = 0.853484492229591\n",
    "    ret.weights[0] = 0.33183239727421354\n",
    "    ret.weights[1] = 0.7731688164445898\n",
    "#     for i in range(amount):\n",
    "#         ret.weights[i] = <double>rand() / RAND_MAX\n",
    "    return ret\n",
    "    \n",
    "cdef int quantizer(double value):\n",
    "    return 1 if value > 5.6 else 0\n",
    "    \n",
    "cdef list predict(t_perceptron *model, list data, int y):\n",
    "    cdef double rez = model.bias\n",
    "    for i in range(model.amount):\n",
    "        rez += data[i] * model.weights[i]\n",
    "    if y == -1:\n",
    "        return [rez]\n",
    "    cdef list ret = []\n",
    "    cdef double err\n",
    "    if rez != y:\n",
    "        err = y - rez\n",
    "        for i in range(model.amount):\n",
    "            ret.append(data[i] * err)\n",
    "        ret.append(err)\n",
    "    return ret\n",
    "\n",
    "cdef list train(t_perceptron model, list data, list y, int epochs, double alpha):\n",
    "    cdef list ret = []\n",
    "    cdef unsigned long i = 0\n",
    "    cdef list delta\n",
    "    cdef double error = 1\n",
    "    if epochs == 0:\n",
    "        while (error):\n",
    "            error = 0\n",
    "            delta = [0] * (model.amount + 1)\n",
    "            for j, item in enumerate(data):\n",
    "                rez = predict(&model, item, y[j])\n",
    "                for i in range(model.amount + 1):\n",
    "                    delta[i] += rez[i]\n",
    "                error += rez[-1]\n",
    "            for i in range(model.amount):\n",
    "                model.weights[i] += alpha * delta[i] / len(data)\n",
    "            model.bias += alpha * delta[-1] / len(data)\n",
    "            ret.append([i, error, [model.weights[i] for i in range(model.amount)],\n",
    "                        model.bias])\n",
    "            if i > 0 and abs(ret[-1][1] - error) < 0.0000000001:\n",
    "                break\n",
    "            i += 1\n",
    "            display(ret)\n",
    "        display(ret, final=True)\n",
    "    else:\n",
    "        for i in range(epochs):\n",
    "            error = 0\n",
    "            delta = [0] * (model.amount + 1)\n",
    "            for j, item in enumerate(data):\n",
    "                rez = predict(&model, item, y[j])\n",
    "                for i in range(model.amount + 1):\n",
    "                    delta[i] += rez[i]\n",
    "                error += rez[-1]\n",
    "            for i in range(model.amount):\n",
    "                model.weights[i] += alpha * delta[i] / len(data)\n",
    "            model.bias += alpha * delta[-1] / len(data)\n",
    "            ret.append([i, error, [model.weights[i] for i in range(model.amount)],\n",
    "                        model.bias])\n",
    "            display(ret)\n",
    "            if i > 0 and abs(ret[-2][1] - error) < 0.0000000001:\n",
    "                break\n",
    "        display(ret, final=True)\n",
    "    return ret\n",
    "\n",
    "cdef t_perceptron model = init_perceptron(len(data[0]))\n",
    "train(model, data, y_4_7.tolist(), 0, 0.001)\n",
    "free(model.weights)"
   ]
  }
 ],
 "metadata": {
  "kernelspec": {
   "display_name": "Python 3",
   "language": "python",
   "name": "python3"
  },
  "language_info": {
   "codemirror_mode": {
    "name": "ipython",
    "version": 3
   },
   "file_extension": ".py",
   "mimetype": "text/x-python",
   "name": "python",
   "nbconvert_exporter": "python",
   "pygments_lexer": "ipython3",
   "version": "3.6.2"
  }
 },
 "nbformat": 4,
 "nbformat_minor": 2
}
