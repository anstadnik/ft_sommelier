{
 "cells": [
  {
   "cell_type": "markdown",
   "metadata": {},
   "source": [
    "# Import things"
   ]
  },
  {
   "cell_type": "code",
   "execution_count": 1,
   "metadata": {
    "attributes": {
     "classes": [],
     "id": "",
     "n": "1"
    }
   },
   "outputs": [],
   "source": [
    "import pandas as pd\n",
    "import matplotlib.pyplot as plt\n",
    "%matplotlib inline\n",
    "import random\n",
    "from ipywidgets import interact, interactive, fixed, interact_manual\n",
    "import ipywidgets as widgets\n",
    "random.seed(42)"
   ]
  },
  {
   "cell_type": "markdown",
   "metadata": {},
   "source": [
    "# Load data"
   ]
  },
  {
   "cell_type": "code",
   "execution_count": 2,
   "metadata": {
    "attributes": {
     "classes": [],
     "id": "",
     "n": "2"
    }
   },
   "outputs": [],
   "source": [
    "red_wine = pd.read_csv(\"./resources/resources/winequality-red.csv\", sep=';')"
   ]
  },
  {
   "cell_type": "markdown",
   "metadata": {},
   "source": [
    "# V.1 Exploring the green reds"
   ]
  },
  {
   "cell_type": "code",
   "execution_count": 3,
   "metadata": {
    "attributes": {
     "classes": [],
     "id": "",
     "n": "3"
    }
   },
   "outputs": [
    {
     "data": {
      "text/html": [
       "<div>\n",
       "<style scoped>\n",
       "    .dataframe tbody tr th:only-of-type {\n",
       "        vertical-align: middle;\n",
       "    }\n",
       "\n",
       "    .dataframe tbody tr th {\n",
       "        vertical-align: top;\n",
       "    }\n",
       "\n",
       "    .dataframe thead th {\n",
       "        text-align: right;\n",
       "    }\n",
       "</style>\n",
       "<table border=\"1\" class=\"dataframe\">\n",
       "  <thead>\n",
       "    <tr style=\"text-align: right;\">\n",
       "      <th></th>\n",
       "      <th>fixed acidity</th>\n",
       "      <th>volatile acidity</th>\n",
       "      <th>citric acid</th>\n",
       "      <th>residual sugar</th>\n",
       "      <th>chlorides</th>\n",
       "      <th>free sulfur dioxide</th>\n",
       "      <th>total sulfur dioxide</th>\n",
       "      <th>density</th>\n",
       "      <th>pH</th>\n",
       "      <th>sulphates</th>\n",
       "      <th>alcohol</th>\n",
       "      <th>quality</th>\n",
       "    </tr>\n",
       "  </thead>\n",
       "  <tbody>\n",
       "    <tr>\n",
       "      <th>0</th>\n",
       "      <td>7.4</td>\n",
       "      <td>0.70</td>\n",
       "      <td>0.00</td>\n",
       "      <td>1.9</td>\n",
       "      <td>0.076</td>\n",
       "      <td>11.0</td>\n",
       "      <td>34.0</td>\n",
       "      <td>0.9978</td>\n",
       "      <td>3.51</td>\n",
       "      <td>0.56</td>\n",
       "      <td>9.4</td>\n",
       "      <td>5</td>\n",
       "    </tr>\n",
       "    <tr>\n",
       "      <th>1</th>\n",
       "      <td>7.8</td>\n",
       "      <td>0.88</td>\n",
       "      <td>0.00</td>\n",
       "      <td>2.6</td>\n",
       "      <td>0.098</td>\n",
       "      <td>25.0</td>\n",
       "      <td>67.0</td>\n",
       "      <td>0.9968</td>\n",
       "      <td>3.20</td>\n",
       "      <td>0.68</td>\n",
       "      <td>9.8</td>\n",
       "      <td>5</td>\n",
       "    </tr>\n",
       "    <tr>\n",
       "      <th>2</th>\n",
       "      <td>7.8</td>\n",
       "      <td>0.76</td>\n",
       "      <td>0.04</td>\n",
       "      <td>2.3</td>\n",
       "      <td>0.092</td>\n",
       "      <td>15.0</td>\n",
       "      <td>54.0</td>\n",
       "      <td>0.9970</td>\n",
       "      <td>3.26</td>\n",
       "      <td>0.65</td>\n",
       "      <td>9.8</td>\n",
       "      <td>5</td>\n",
       "    </tr>\n",
       "    <tr>\n",
       "      <th>3</th>\n",
       "      <td>11.2</td>\n",
       "      <td>0.28</td>\n",
       "      <td>0.56</td>\n",
       "      <td>1.9</td>\n",
       "      <td>0.075</td>\n",
       "      <td>17.0</td>\n",
       "      <td>60.0</td>\n",
       "      <td>0.9980</td>\n",
       "      <td>3.16</td>\n",
       "      <td>0.58</td>\n",
       "      <td>9.8</td>\n",
       "      <td>6</td>\n",
       "    </tr>\n",
       "    <tr>\n",
       "      <th>4</th>\n",
       "      <td>7.4</td>\n",
       "      <td>0.70</td>\n",
       "      <td>0.00</td>\n",
       "      <td>1.9</td>\n",
       "      <td>0.076</td>\n",
       "      <td>11.0</td>\n",
       "      <td>34.0</td>\n",
       "      <td>0.9978</td>\n",
       "      <td>3.51</td>\n",
       "      <td>0.56</td>\n",
       "      <td>9.4</td>\n",
       "      <td>5</td>\n",
       "    </tr>\n",
       "  </tbody>\n",
       "</table>\n",
       "</div>"
      ],
      "text/plain": [
       "   fixed acidity  volatile acidity  citric acid  residual sugar  chlorides  \\\n",
       "0            7.4              0.70         0.00             1.9      0.076   \n",
       "1            7.8              0.88         0.00             2.6      0.098   \n",
       "2            7.8              0.76         0.04             2.3      0.092   \n",
       "3           11.2              0.28         0.56             1.9      0.075   \n",
       "4            7.4              0.70         0.00             1.9      0.076   \n",
       "\n",
       "   free sulfur dioxide  total sulfur dioxide  density    pH  sulphates  \\\n",
       "0                 11.0                  34.0   0.9978  3.51       0.56   \n",
       "1                 25.0                  67.0   0.9968  3.20       0.68   \n",
       "2                 15.0                  54.0   0.9970  3.26       0.65   \n",
       "3                 17.0                  60.0   0.9980  3.16       0.58   \n",
       "4                 11.0                  34.0   0.9978  3.51       0.56   \n",
       "\n",
       "   alcohol  quality  \n",
       "0      9.4        5  \n",
       "1      9.8        5  \n",
       "2      9.8        5  \n",
       "3      9.8        6  \n",
       "4      9.4        5  "
      ]
     },
     "execution_count": 3,
     "metadata": {},
     "output_type": "execute_result"
    }
   ],
   "source": [
    "red_wine.head()"
   ]
  },
  {
   "cell_type": "markdown",
   "metadata": {},
   "source": [
    "## a)"
   ]
  },
  {
   "cell_type": "code",
   "execution_count": 4,
   "metadata": {
    "attributes": {
     "classes": [],
     "id": "",
     "n": "8"
    }
   },
   "outputs": [],
   "source": [
    "def plot_scatter_matrix(wine_data, good_threshhold, bad_threshold, save_plot=False):\n",
    "    \"\"\"Visualizes the data\n",
    "    \"\"\"\n",
    "    length = len(wine_data.columns)\n",
    "    fig, ax = plt.subplots(length, length, figsize=(50, 50))\n",
    "    bigger = wine_data.where(wine_data['quality'] > good_threshhold)\n",
    "    smaller = wine_data.where(wine_data['quality'] < bad_threshold)\n",
    "    \n",
    "    for i in range(length):\n",
    "        for j in range(length):\n",
    "            if i == j:\n",
    "                ax[(i, j)].text(0.5, 0.5, '\\n'.join(wine_data.columns[i].split()), fontsize=35, ha='center', va='center')\n",
    "            else:\n",
    "                ax[(j, i)].plot(bigger.iloc[:, i], bigger.iloc[:, j], 'co')\n",
    "                ax[(j, i)].plot(smaller.iloc[:, i], smaller.iloc[:, j], 'mo')\n",
    "    if save_plot:\n",
    "        plt.savefig('scatter_matrix.png')\n",
    "# plot_scatter_matrix(red_wine, 6, 5)"
   ]
  },
  {
   "cell_type": "code",
   "execution_count": 5,
   "metadata": {},
   "outputs": [],
   "source": [
    "# plot_scatter_matrix(red_wine, 7, 4)"
   ]
  },
  {
   "cell_type": "markdown",
   "metadata": {},
   "source": [
    "## b)\n",
    "\n",
    "I think it can be pH, sulphates, alcohol and total sulfur dioxide. Cause there\n",
    "different\n",
    "groups of wine(based on quality) r better splitted."
   ]
  },
  {
   "cell_type": "markdown",
   "metadata": {},
   "source": [
    "# V.2 Learning to perceptron"
   ]
  },
  {
   "cell_type": "code",
   "execution_count": 6,
   "metadata": {},
   "outputs": [],
   "source": [
    "data = red_wine[(red_wine['quality'] >= 8) | (red_wine['quality'] <= 3)].reset_index()\n",
    "y = [1 if i == True else 0 for i in data['quality'] >= 8]"
   ]
  },
  {
   "cell_type": "code",
   "execution_count": 21,
   "metadata": {},
   "outputs": [],
   "source": [
    "def display(ret, dot=100, detail=10000, final=False):\n",
    "    \"\"\"Displays text info about training process\"\"\"\n",
    "    if final:\n",
    "        print()\n",
    "        print('DONE')\n",
    "        print('cycle = ', ret[-1][0], ', errors = ', ret[-1][1], sep='')\n",
    "        print('final weights = ', ret[-1][2], ', bias = ', ret[-1][3])\n",
    "    if ret[-1][0] == 0:\n",
    "        return\n",
    "    if ret[-1][0] % dot == 0:\n",
    "        print('.', end='')\n",
    "    if ret[-1][0] % detail == 0:\n",
    "        print()\n",
    "        print('cycle = ', ret[-1][0], ', errors = ', ret[-1][1], sep='')\n",
    "        print('weights change = ', ret[-1][2][0] - ret[-dot][2][0], ret[-1][2][1] - ret[-dot][2][1])\n",
    "        print('bias change = ', ret[-1][3] - ret[-dot][3])"
   ]
  },
  {
   "cell_type": "markdown",
   "metadata": {},
   "source": [
    "## a), b)"
   ]
  },
  {
   "cell_type": "code",
   "execution_count": 8,
   "metadata": {},
   "outputs": [],
   "source": [
    "class perceptron:\n",
    "    \"\"\"A simple perceptron, with randomly initialized weights and bias\"\"\"\n",
    "\n",
    "    def __init__(self, amount):\n",
    "        \"\"\"Random data initialization\"\"\"\n",
    "        self.amount = amount\n",
    "        self.weights = [random.random() for n in range(amount)]\n",
    "        self.bias = random.random()\n",
    "\n",
    "    def activation(self, value):\n",
    "        \"\"\"Activation function\"\"\"\n",
    "        return 1 if value > 0 else 0\n",
    "\n",
    "    def predict(self, data, alpha = None, y = None):\n",
    "        \"\"\"Predicts answer and updates weights to fit the data item better\n",
    "        Returns predicted value or whether he guessed right\n",
    "        \"\"\"\n",
    "        rez = self.activation(sum([data[i] * self.weights[i] for i in range(self.amount)]) + self.bias)\n",
    "        if y == None:\n",
    "            return rez\n",
    "        if rez != y:\n",
    "            self.weights = [self.weights[i] + alpha * data[i] * (y - rez) for i in range(self.amount)]\n",
    "            self.bias = self.bias + alpha * (y - rez)\n",
    "        return rez != y\n",
    "\n",
    "    def train(self, data, y, epochs = 0, alpha = 0.001):\n",
    "        \"\"\"Trains perceptron epoch times, and logs results\"\"\"\n",
    "        ret = []\n",
    "        errors = 1\n",
    "        if epochs == 0:\n",
    "            i = 0\n",
    "            while (errors):\n",
    "                errors = 0\n",
    "                for item in data.itertuples():\n",
    "                    errors += self.predict(item[1:], alpha, y[item[0]])\n",
    "                ret.append([i, errors, self.weights, self.bias])\n",
    "                i += 1\n",
    "                display(ret)\n",
    "            display(ret, final=True)\n",
    "        else:\n",
    "            for i in range(epochs):\n",
    "                errors = 0\n",
    "                for item in data.itertuples():\n",
    "                    errors += self.predict(item[1:], alpha, y[item[0]])\n",
    "                ret.append([i, errors, self.weights, self.bias])\n",
    "                display(ret)\n",
    "                if errors == 0:\n",
    "                    break\n",
    "            display(ret, final=True)\n",
    "        return ret"
   ]
  },
  {
   "cell_type": "code",
   "execution_count": 9,
   "metadata": {
    "scrolled": false
   },
   "outputs": [
    {
     "name": "stdout",
     "output_type": "stream",
     "text": [
      "....................................................................................................\n",
      "cycle = 10000, errors = 2\n",
      "weights change =  -7.030699999996052 1.7900000000000449\n",
      "bias change =  4.219999999999949\n",
      "...............................\n",
      "DONE\n",
      "cycle = 13154, errors = 0\n",
      "final weights =  [-7.259373201536793, 1.731510755222712] , bias =  6.135029318369033\n"
     ]
    }
   ],
   "source": [
    "model = perceptron(2)\n",
    "logs = model.train(data[['pH', 'alcohol']], y, 0, 0.01)"
   ]
  },
  {
   "cell_type": "markdown",
   "metadata": {},
   "source": [
    "## c)"
   ]
  },
  {
   "cell_type": "code",
   "execution_count": 10,
   "metadata": {},
   "outputs": [],
   "source": [
    "def plot_performance(performance, wine_data, good_threshold, bad_threshold, epoch=-1, save_plot=False):\n",
    "    \"\"\"Plot the performance of my perceptron\"\"\"\n",
    "    fig, ax = plt.subplots(1, 2)#, figsize=(10, 10))\n",
    "    bigger = wine_data.where(wine_data['quality'] > good_threshold).reset_index()\n",
    "    smaller = wine_data.where(wine_data['quality'] < bad_threshold).reset_index()\n",
    "    \n",
    "    ax[0].plot([i[1] for i in performance], 'g')\n",
    "    ax[0].set_title('Errors as a function of epoch')\n",
    "    ax[0].set_ylabel('Classification errors')\n",
    "    ax[0].set_xlabel('Epoch')\n",
    "    ax[1].plot(bigger['alcohol'], bigger['pH'], 'mo', label = 'good wines (> ' + str(good_threshold) + ' score)')\n",
    "    ax[1].plot(smaller['alcohol'], smaller['pH'], 'co', label = 'bad wines (< ' + str(bad_threshold) + ' score)')\n",
    "    ax[1].set_title('Decision boundary on epoch:' + str(len(performance) if epoch == -1 else epoch))\n",
    "    ax[1].set_xlabel('Alcohol')\n",
    "    ax[1].set_ylabel('pH')\n",
    "    \n",
    "    val = {}\n",
    "    val['alcohol'] = [min(wine_data['alcohol']), max(wine_data['alcohol'])] \n",
    "    val['pH'] = [\n",
    "            - (performance[epoch][2][1] * val['alcohol'][0] + performance[epoch][3]) / performance[epoch][2][0],\n",
    "            - (performance[epoch][2][1] * val['alcohol'][1] + performance[epoch][3]) / performance[epoch][2][0]\n",
    "        ]\n",
    "#     print(val['pH'])\n",
    "#     print(val['alcohol'])\n",
    "#     print(performance[epoch][0], performance[epoch][1])\n",
    "#     print(performance[epoch][2])\n",
    "#     print(performance[epoch][3])\n",
    "    ax[1].plot(val['alcohol'], val['pH'], 'g--')\n",
    "    ax[1].fill_between([min(wine_data['alcohol']), max(wine_data['alcohol'])], val['pH'], val['pH'][0], facecolor='#b2ebf2')\n",
    "    ax[1].fill_between([min(wine_data['alcohol']), max(wine_data['alcohol'])], val['pH'], val['pH'][1], facecolor='#f8bbd0')\n",
    "#     ax[1].fill_between([min(wine_data['pH']), max(wine_data['pH'])], [max(wine_data['alcohol']), max(wine_data['alcohol'])], [- min(wine_data['pH']) * val, - max(wine_data['pH']) * val], facecolor='#b2ebf2')\n",
    "#     ax[1].fill_between([min(wine_data['pH']), max(wine_data['pH'])], [- min(wine_data['pH']) * val, - max(wine_data['pH']) * val], facecolor='#f8bbd0')\n",
    "    ax[1].set_xlim(min(wine_data['alcohol']), max(wine_data['alcohol']))\n",
    "    ax[1].set_ylim(min(wine_data['pH']), max(wine_data['pH']))\n",
    "    plt.tight_layout()\n",
    "    plt.legend(loc='upper center', bbox_to_anchor=(1.6, 1))\n",
    "    plt.show()"
   ]
  },
  {
   "cell_type": "code",
   "execution_count": 11,
   "metadata": {
    "scrolled": false
   },
   "outputs": [
    {
     "data": {
      "application/vnd.jupyter.widget-view+json": {
       "model_id": "61bc726397774db4acf3b8caedd28bb4",
       "version_major": 2,
       "version_minor": 0
      },
      "text/plain": [
       "interactive(children=(IntSlider(value=5, description='good_threshold', max=10), IntSlider(value=5, description…"
      ]
     },
     "metadata": {},
     "output_type": "display_data"
    }
   ],
   "source": [
    "interactive(plot_performance, performance=fixed(logs), wine_data=fixed(red_wine), good_threshold=(0, 10),\\\n",
    "            bad_threshold=(0, 10), epoch=(0, len(logs) - 1))"
   ]
  },
  {
   "cell_type": "markdown",
   "metadata": {},
   "source": [
    "## d) Feature scaling"
   ]
  },
  {
   "cell_type": "code",
   "execution_count": 12,
   "metadata": {
    "scrolled": false
   },
   "outputs": [],
   "source": [
    "normalized_red_wine = red_wine.copy()\n",
    "normalized_red_wine['pH'] = (red_wine['pH'] - min(red_wine['pH'])) / (max(red_wine['pH']) - min(red_wine['pH']))\n",
    "normalized_red_wine['alcohol'] = (red_wine['alcohol'] - min(red_wine['alcohol'])) / (max(red_wine['alcohol']) - min(red_wine['alcohol']))\n",
    "normalized_data = normalized_red_wine[(red_wine['quality'] >= 8) | (red_wine['quality'] <= 3)].reset_index()\n",
    "# data.describe()"
   ]
  },
  {
   "cell_type": "code",
   "execution_count": 13,
   "metadata": {
    "scrolled": false
   },
   "outputs": [
    {
     "name": "stdout",
     "output_type": "stream",
     "text": [
      ".\n",
      "DONE\n",
      "cycle = 119, errors = 0\n",
      "final weights =  [-0.33482075791416915, 0.42054813724093704] , bias =  0.02669948742291084\n"
     ]
    }
   ],
   "source": [
    "model_normalized = perceptron(2)\n",
    "logs_normalized = model_normalized.train(normalized_data[['pH', 'alcohol']], y, 0, 0.01)"
   ]
  },
  {
   "cell_type": "code",
   "execution_count": 14,
   "metadata": {
    "scrolled": false
   },
   "outputs": [
    {
     "data": {
      "application/vnd.jupyter.widget-view+json": {
       "model_id": "84c663da152f4d35a30a7f1cc8185960",
       "version_major": 2,
       "version_minor": 0
      },
      "text/plain": [
       "interactive(children=(IntSlider(value=5, description='good_threshold', max=10), IntSlider(value=5, description…"
      ]
     },
     "metadata": {},
     "output_type": "display_data"
    }
   ],
   "source": [
    "interactive(plot_performance, performance=fixed(logs_normalized), wine_data=fixed(normalized_red_wine), good_threshold=(0, 10),\\\n",
    "            bad_threshold=(0, 10), epoch=(0, len(logs_normalized) - 1))"
   ]
  },
  {
   "cell_type": "markdown",
   "metadata": {},
   "source": [
    "# V.3 My fair ADALINE"
   ]
  },
  {
   "cell_type": "markdown",
   "metadata": {},
   "source": [
    "## a)"
   ]
  },
  {
   "cell_type": "markdown",
   "metadata": {},
   "source": [
    "Using stochastic learning algorithm instead of batch. Not adding polynomial features and not using more complicated algorhithms. No parallelism. Using only labels in learning, not values."
   ]
  },
  {
   "cell_type": "markdown",
   "metadata": {},
   "source": [
    "## b), c)"
   ]
  },
  {
   "cell_type": "code",
   "execution_count": 22,
   "metadata": {},
   "outputs": [],
   "source": [
    "class adaline:\n",
    "    \"\"\"A simple adaline, with randomly initialized weights and bias\"\"\"\n",
    "\n",
    "    def __init__(self, amount):\n",
    "        \"\"\"Random data initialization\"\"\"\n",
    "        self.amount = amount\n",
    "        self.weights = [random.random() for n in range(amount)]\n",
    "        self.bias = random.random()\n",
    "\n",
    "        \n",
    "    def quantizer(self, value):\n",
    "        \"\"\"Quantizer function\"\"\"\n",
    "        return 1 if value > 5 else 0\n",
    "\n",
    "    \n",
    "    def predict(self, data, y=False):\n",
    "        \"\"\"Predicts answer and updates weights to fit the data item better\n",
    "        Returns predicted value or whether he guessed right\n",
    "        \"\"\"\n",
    "        rez = sum([data[i] * self.weights[i] for i in range(self.amount)]) + self.bias\n",
    "#         print('potaot', self.quantizer(rez))\n",
    "        if y == None:\n",
    "            return self.quantizer(rez)\n",
    "        else:\n",
    "#             print(rez, y)\n",
    "            return [x * (rez - y) for x in [*data, 1]]\n",
    "\n",
    "        \n",
    "    def train(self, data, y, epochs = 0, alpha = 0.001):\n",
    "        \"\"\"Trains perceptron epoch times, and logs results\"\"\"\n",
    "        ret = []\n",
    "        if epochs == 0:\n",
    "            i = 0\n",
    "            while (True):\n",
    "                errors = 0\n",
    "                delta = [0] * self.amount\n",
    "                for item in data.itertuples():\n",
    "                    rez = self.predict(item[1:], y[item[0]])\n",
    "                    delta = [delta[i] + rez[i] for i in range(self.amount)]\n",
    "#                     print(self.predict(item), y[item[0]])\n",
    "                    if self.predict(item) != 1 if y[item[0]] > 7 else 0:\n",
    "                        errors += 1\n",
    "#                     print(self.predict(item), y[item[0]])\n",
    "                self.weights = [self.weights[i] + alpha * delta[i] for i in range(self.amount)]\n",
    "                self.bias += alpha * delta[-1]\n",
    "                ret.append([i, errors, self.weights, self.bias])\n",
    "                i += 1\n",
    "                display(ret, 1, 10)\n",
    "                if errors == 0:\n",
    "                    break\n",
    "            display(ret, final=True)\n",
    "        else:\n",
    "            for i in range(epochs):\n",
    "                errors = 0\n",
    "                delta = [0] * self.amount\n",
    "                for item in data.itertuples():\n",
    "                    rez = self.predict(item[1:], y[item[0]])\n",
    "                    delta = [delta[i] + rez[i] for i in range(self.amount)]\n",
    "                    if abs(self.predict(item, True) - y[item[0]]) > 1:\n",
    "                        error += 1\n",
    "                self.weights = [self.weights[i] + alpha * delta[i] for i in range(self.amount)]\n",
    "                self.bias += alpha * delta[-1]\n",
    "                ret.append([i, errors, self.weights, self.bias])\n",
    "                display(ret, 1, 10)\n",
    "                if not any(delta):\n",
    "                    break\n",
    "            display(ret, final=True)\n",
    "        return ret"
   ]
  },
  {
   "cell_type": "code",
   "execution_count": 23,
   "metadata": {},
   "outputs": [],
   "source": [
    "data_4_7 = red_wine[(red_wine['quality'] >= 7) | (red_wine['quality'] <= 4)].reset_index()\n",
    "y_4_7 = data['quality']"
   ]
  },
  {
   "cell_type": "code",
   "execution_count": 24,
   "metadata": {},
   "outputs": [
    {
     "name": "stdout",
     "output_type": "stream",
     "text": [
      "..........\n",
      "cycle = 10, errors = 18\n",
      "weights change =  0.0 0.0\n",
      "bias change =  0.0\n",
      "..........\n",
      "cycle = 20, errors = 18\n",
      "weights change =  0.0 0.0\n",
      "bias change =  0.0\n",
      "..........\n",
      "cycle = 30, errors = 18\n",
      "weights change =  0.0 0.0\n",
      "bias change =  0.0\n",
      "..........\n",
      "cycle = 40, errors = 18\n",
      "weights change =  0.0 0.0\n",
      "bias change =  0.0\n",
      "..........\n",
      "cycle = 50, errors = 18\n",
      "weights change =  0.0 0.0\n",
      "bias change =  0.0\n",
      "..........\n",
      "cycle = 60, errors = 18\n",
      "weights change =  0.0 0.0\n",
      "bias change =  0.0\n",
      "..........\n",
      "cycle = 70, errors = 18\n",
      "weights change =  0.0 0.0\n",
      "bias change =  0.0\n",
      "..........\n",
      "cycle = 80, errors = 18\n",
      "weights change =  0.0 0.0\n",
      "bias change =  0.0\n",
      "..........\n",
      "cycle = 90, errors = 18\n",
      "weights change =  0.0 0.0\n",
      "bias change =  0.0\n",
      "..........\n",
      "cycle = 100, errors = 18\n",
      "weights change =  0.0 0.0\n",
      "bias change =  0.0\n",
      "..........\n",
      "cycle = 110, errors = 18\n",
      "weights change =  0.0 0.0\n",
      "bias change =  0.0\n",
      "....."
     ]
    },
    {
     "ename": "KeyboardInterrupt",
     "evalue": "",
     "output_type": "error",
     "traceback": [
      "\u001b[0;31m---------------------------------------------------------------------------\u001b[0m",
      "\u001b[0;31mKeyboardInterrupt\u001b[0m                         Traceback (most recent call last)",
      "\u001b[0;32m<ipython-input-24-ad21c71ef1df>\u001b[0m in \u001b[0;36m<module>\u001b[0;34m()\u001b[0m\n\u001b[1;32m      1\u001b[0m \u001b[0mmodel\u001b[0m \u001b[0;34m=\u001b[0m \u001b[0madaline\u001b[0m\u001b[0;34m(\u001b[0m\u001b[0;36m2\u001b[0m\u001b[0;34m)\u001b[0m\u001b[0;34m\u001b[0m\u001b[0m\n\u001b[0;32m----> 2\u001b[0;31m \u001b[0madaline_logs\u001b[0m \u001b[0;34m=\u001b[0m \u001b[0mmodel\u001b[0m\u001b[0;34m.\u001b[0m\u001b[0mtrain\u001b[0m\u001b[0;34m(\u001b[0m\u001b[0mred_wine\u001b[0m\u001b[0;34m[\u001b[0m\u001b[0;34m[\u001b[0m\u001b[0;34m'pH'\u001b[0m\u001b[0;34m,\u001b[0m \u001b[0;34m'alcohol'\u001b[0m\u001b[0;34m]\u001b[0m\u001b[0;34m]\u001b[0m\u001b[0;34m,\u001b[0m \u001b[0mred_wine\u001b[0m\u001b[0;34m[\u001b[0m\u001b[0;34m'quality'\u001b[0m\u001b[0;34m]\u001b[0m\u001b[0;34m,\u001b[0m \u001b[0;36m0\u001b[0m\u001b[0;34m,\u001b[0m \u001b[0;36m0.00001\u001b[0m\u001b[0;34m)\u001b[0m\u001b[0;34m\u001b[0m\u001b[0m\n\u001b[0m",
      "\u001b[0;32m<ipython-input-22-00c9af1d9708>\u001b[0m in \u001b[0;36mtrain\u001b[0;34m(self, data, y, epochs, alpha)\u001b[0m\n\u001b[1;32m     36\u001b[0m                 \u001b[0mdelta\u001b[0m \u001b[0;34m=\u001b[0m \u001b[0;34m[\u001b[0m\u001b[0;36m0\u001b[0m\u001b[0;34m]\u001b[0m \u001b[0;34m*\u001b[0m \u001b[0mself\u001b[0m\u001b[0;34m.\u001b[0m\u001b[0mamount\u001b[0m\u001b[0;34m\u001b[0m\u001b[0m\n\u001b[1;32m     37\u001b[0m                 \u001b[0;32mfor\u001b[0m \u001b[0mitem\u001b[0m \u001b[0;32min\u001b[0m \u001b[0mdata\u001b[0m\u001b[0;34m.\u001b[0m\u001b[0mitertuples\u001b[0m\u001b[0;34m(\u001b[0m\u001b[0;34m)\u001b[0m\u001b[0;34m:\u001b[0m\u001b[0;34m\u001b[0m\u001b[0m\n\u001b[0;32m---> 38\u001b[0;31m                     \u001b[0mrez\u001b[0m \u001b[0;34m=\u001b[0m \u001b[0mself\u001b[0m\u001b[0;34m.\u001b[0m\u001b[0mpredict\u001b[0m\u001b[0;34m(\u001b[0m\u001b[0mitem\u001b[0m\u001b[0;34m[\u001b[0m\u001b[0;36m1\u001b[0m\u001b[0;34m:\u001b[0m\u001b[0;34m]\u001b[0m\u001b[0;34m,\u001b[0m \u001b[0my\u001b[0m\u001b[0;34m[\u001b[0m\u001b[0mitem\u001b[0m\u001b[0;34m[\u001b[0m\u001b[0;36m0\u001b[0m\u001b[0;34m]\u001b[0m\u001b[0;34m]\u001b[0m\u001b[0;34m)\u001b[0m\u001b[0;34m\u001b[0m\u001b[0m\n\u001b[0m\u001b[1;32m     39\u001b[0m                     \u001b[0mdelta\u001b[0m \u001b[0;34m=\u001b[0m \u001b[0;34m[\u001b[0m\u001b[0mdelta\u001b[0m\u001b[0;34m[\u001b[0m\u001b[0mi\u001b[0m\u001b[0;34m]\u001b[0m \u001b[0;34m+\u001b[0m \u001b[0mrez\u001b[0m\u001b[0;34m[\u001b[0m\u001b[0mi\u001b[0m\u001b[0;34m]\u001b[0m \u001b[0;32mfor\u001b[0m \u001b[0mi\u001b[0m \u001b[0;32min\u001b[0m \u001b[0mrange\u001b[0m\u001b[0;34m(\u001b[0m\u001b[0mself\u001b[0m\u001b[0;34m.\u001b[0m\u001b[0mamount\u001b[0m\u001b[0;34m)\u001b[0m\u001b[0;34m]\u001b[0m\u001b[0;34m\u001b[0m\u001b[0m\n\u001b[1;32m     40\u001b[0m \u001b[0;31m#                     print(self.predict(item), y[item[0]])\u001b[0m\u001b[0;34m\u001b[0m\u001b[0;34m\u001b[0m\u001b[0m\n",
      "\u001b[0;32m<ipython-input-22-00c9af1d9708>\u001b[0m in \u001b[0;36mpredict\u001b[0;34m(self, data, y)\u001b[0m\n\u001b[1;32m     18\u001b[0m         \u001b[0mReturns\u001b[0m \u001b[0mpredicted\u001b[0m \u001b[0mvalue\u001b[0m \u001b[0;32mor\u001b[0m \u001b[0mwhether\u001b[0m \u001b[0mhe\u001b[0m \u001b[0mguessed\u001b[0m \u001b[0mright\u001b[0m\u001b[0;34m\u001b[0m\u001b[0m\n\u001b[1;32m     19\u001b[0m         \"\"\"\n\u001b[0;32m---> 20\u001b[0;31m         \u001b[0mrez\u001b[0m \u001b[0;34m=\u001b[0m \u001b[0msum\u001b[0m\u001b[0;34m(\u001b[0m\u001b[0;34m[\u001b[0m\u001b[0mdata\u001b[0m\u001b[0;34m[\u001b[0m\u001b[0mi\u001b[0m\u001b[0;34m]\u001b[0m \u001b[0;34m*\u001b[0m \u001b[0mself\u001b[0m\u001b[0;34m.\u001b[0m\u001b[0mweights\u001b[0m\u001b[0;34m[\u001b[0m\u001b[0mi\u001b[0m\u001b[0;34m]\u001b[0m \u001b[0;32mfor\u001b[0m \u001b[0mi\u001b[0m \u001b[0;32min\u001b[0m \u001b[0mrange\u001b[0m\u001b[0;34m(\u001b[0m\u001b[0mself\u001b[0m\u001b[0;34m.\u001b[0m\u001b[0mamount\u001b[0m\u001b[0;34m)\u001b[0m\u001b[0;34m]\u001b[0m\u001b[0;34m)\u001b[0m \u001b[0;34m+\u001b[0m \u001b[0mself\u001b[0m\u001b[0;34m.\u001b[0m\u001b[0mbias\u001b[0m\u001b[0;34m\u001b[0m\u001b[0m\n\u001b[0m\u001b[1;32m     21\u001b[0m \u001b[0;31m#         print('potaot', self.quantizer(rez))\u001b[0m\u001b[0;34m\u001b[0m\u001b[0;34m\u001b[0m\u001b[0m\n\u001b[1;32m     22\u001b[0m         \u001b[0;32mif\u001b[0m \u001b[0my\u001b[0m \u001b[0;34m==\u001b[0m \u001b[0;32mNone\u001b[0m\u001b[0;34m:\u001b[0m\u001b[0;34m\u001b[0m\u001b[0m\n",
      "\u001b[0;32m<ipython-input-22-00c9af1d9708>\u001b[0m in \u001b[0;36m<listcomp>\u001b[0;34m(.0)\u001b[0m\n\u001b[1;32m     18\u001b[0m         \u001b[0mReturns\u001b[0m \u001b[0mpredicted\u001b[0m \u001b[0mvalue\u001b[0m \u001b[0;32mor\u001b[0m \u001b[0mwhether\u001b[0m \u001b[0mhe\u001b[0m \u001b[0mguessed\u001b[0m \u001b[0mright\u001b[0m\u001b[0;34m\u001b[0m\u001b[0m\n\u001b[1;32m     19\u001b[0m         \"\"\"\n\u001b[0;32m---> 20\u001b[0;31m         \u001b[0mrez\u001b[0m \u001b[0;34m=\u001b[0m \u001b[0msum\u001b[0m\u001b[0;34m(\u001b[0m\u001b[0;34m[\u001b[0m\u001b[0mdata\u001b[0m\u001b[0;34m[\u001b[0m\u001b[0mi\u001b[0m\u001b[0;34m]\u001b[0m \u001b[0;34m*\u001b[0m \u001b[0mself\u001b[0m\u001b[0;34m.\u001b[0m\u001b[0mweights\u001b[0m\u001b[0;34m[\u001b[0m\u001b[0mi\u001b[0m\u001b[0;34m]\u001b[0m \u001b[0;32mfor\u001b[0m \u001b[0mi\u001b[0m \u001b[0;32min\u001b[0m \u001b[0mrange\u001b[0m\u001b[0;34m(\u001b[0m\u001b[0mself\u001b[0m\u001b[0;34m.\u001b[0m\u001b[0mamount\u001b[0m\u001b[0;34m)\u001b[0m\u001b[0;34m]\u001b[0m\u001b[0;34m)\u001b[0m \u001b[0;34m+\u001b[0m \u001b[0mself\u001b[0m\u001b[0;34m.\u001b[0m\u001b[0mbias\u001b[0m\u001b[0;34m\u001b[0m\u001b[0m\n\u001b[0m\u001b[1;32m     21\u001b[0m \u001b[0;31m#         print('potaot', self.quantizer(rez))\u001b[0m\u001b[0;34m\u001b[0m\u001b[0;34m\u001b[0m\u001b[0m\n\u001b[1;32m     22\u001b[0m         \u001b[0;32mif\u001b[0m \u001b[0my\u001b[0m \u001b[0;34m==\u001b[0m \u001b[0;32mNone\u001b[0m\u001b[0;34m:\u001b[0m\u001b[0;34m\u001b[0m\u001b[0m\n",
      "\u001b[0;31mKeyboardInterrupt\u001b[0m: "
     ]
    }
   ],
   "source": [
    "model = adaline(2)\n",
    "adaline_logs = model.train(red_wine[['pH', 'alcohol']], red_wine['quality'], 0, 0.00001)"
   ]
  },
  {
   "cell_type": "code",
   "execution_count": null,
   "metadata": {
    "scrolled": true
   },
   "outputs": [],
   "source": [
    "print(adaline_logs)"
   ]
  },
  {
   "cell_type": "code",
   "execution_count": null,
   "metadata": {},
   "outputs": [],
   "source": []
  }
 ],
 "metadata": {
  "kernelspec": {
   "display_name": "Python 3",
   "language": "python",
   "name": "python3"
  },
  "language_info": {
   "codemirror_mode": {
    "name": "ipython",
    "version": 3
   },
   "file_extension": ".py",
   "mimetype": "text/x-python",
   "name": "python",
   "nbconvert_exporter": "python",
   "pygments_lexer": "ipython3",
   "version": "3.7.0"
  }
 },
 "nbformat": 4,
 "nbformat_minor": 2
}
