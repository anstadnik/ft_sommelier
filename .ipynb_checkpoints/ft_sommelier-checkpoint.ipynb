{
 "cells": [
  {
   "cell_type": "markdown",
   "metadata": {},
   "source": [
    "# Import things"
   ]
  },
  {
   "cell_type": "code",
   "execution_count": 1,
   "metadata": {
    "attributes": {
     "classes": [],
     "id": "",
     "n": "1"
    }
   },
   "outputs": [],
   "source": [
    "import pandas as pd\n",
    "import matplotlib.pyplot as plt\n",
    "%matplotlib inline\n",
    "import random\n",
    "from ipywidgets import interact, interactive, fixed, interact_manual\n",
    "import ipywidgets as widgets\n",
    "random.seed(42)"
   ]
  },
  {
   "cell_type": "markdown",
   "metadata": {},
   "source": [
    "# Load data"
   ]
  },
  {
   "cell_type": "code",
   "execution_count": 31,
   "metadata": {
    "attributes": {
     "classes": [],
     "id": "",
     "n": "2"
    }
   },
   "outputs": [],
   "source": [
    "red_wine = pd.read_csv(\"./resources/resources/winequality-red.csv\", sep=';')"
   ]
  },
  {
   "cell_type": "markdown",
   "metadata": {},
   "source": [
    "# V.1 Exploring the green reds"
   ]
  },
  {
   "cell_type": "code",
   "execution_count": 3,
   "metadata": {
    "attributes": {
     "classes": [],
     "id": "",
     "n": "3"
    }
   },
   "outputs": [
    {
     "data": {
      "text/html": [
       "<div>\n",
       "<style scoped>\n",
       "    .dataframe tbody tr th:only-of-type {\n",
       "        vertical-align: middle;\n",
       "    }\n",
       "\n",
       "    .dataframe tbody tr th {\n",
       "        vertical-align: top;\n",
       "    }\n",
       "\n",
       "    .dataframe thead th {\n",
       "        text-align: right;\n",
       "    }\n",
       "</style>\n",
       "<table border=\"1\" class=\"dataframe\">\n",
       "  <thead>\n",
       "    <tr style=\"text-align: right;\">\n",
       "      <th></th>\n",
       "      <th>fixed acidity</th>\n",
       "      <th>volatile acidity</th>\n",
       "      <th>citric acid</th>\n",
       "      <th>residual sugar</th>\n",
       "      <th>chlorides</th>\n",
       "      <th>free sulfur dioxide</th>\n",
       "      <th>total sulfur dioxide</th>\n",
       "      <th>density</th>\n",
       "      <th>pH</th>\n",
       "      <th>sulphates</th>\n",
       "      <th>alcohol</th>\n",
       "      <th>quality</th>\n",
       "    </tr>\n",
       "  </thead>\n",
       "  <tbody>\n",
       "    <tr>\n",
       "      <th>0</th>\n",
       "      <td>7.4</td>\n",
       "      <td>0.70</td>\n",
       "      <td>0.00</td>\n",
       "      <td>1.9</td>\n",
       "      <td>0.076</td>\n",
       "      <td>11.0</td>\n",
       "      <td>34.0</td>\n",
       "      <td>0.9978</td>\n",
       "      <td>3.51</td>\n",
       "      <td>0.56</td>\n",
       "      <td>9.4</td>\n",
       "      <td>5</td>\n",
       "    </tr>\n",
       "    <tr>\n",
       "      <th>1</th>\n",
       "      <td>7.8</td>\n",
       "      <td>0.88</td>\n",
       "      <td>0.00</td>\n",
       "      <td>2.6</td>\n",
       "      <td>0.098</td>\n",
       "      <td>25.0</td>\n",
       "      <td>67.0</td>\n",
       "      <td>0.9968</td>\n",
       "      <td>3.20</td>\n",
       "      <td>0.68</td>\n",
       "      <td>9.8</td>\n",
       "      <td>5</td>\n",
       "    </tr>\n",
       "    <tr>\n",
       "      <th>2</th>\n",
       "      <td>7.8</td>\n",
       "      <td>0.76</td>\n",
       "      <td>0.04</td>\n",
       "      <td>2.3</td>\n",
       "      <td>0.092</td>\n",
       "      <td>15.0</td>\n",
       "      <td>54.0</td>\n",
       "      <td>0.9970</td>\n",
       "      <td>3.26</td>\n",
       "      <td>0.65</td>\n",
       "      <td>9.8</td>\n",
       "      <td>5</td>\n",
       "    </tr>\n",
       "    <tr>\n",
       "      <th>3</th>\n",
       "      <td>11.2</td>\n",
       "      <td>0.28</td>\n",
       "      <td>0.56</td>\n",
       "      <td>1.9</td>\n",
       "      <td>0.075</td>\n",
       "      <td>17.0</td>\n",
       "      <td>60.0</td>\n",
       "      <td>0.9980</td>\n",
       "      <td>3.16</td>\n",
       "      <td>0.58</td>\n",
       "      <td>9.8</td>\n",
       "      <td>6</td>\n",
       "    </tr>\n",
       "    <tr>\n",
       "      <th>4</th>\n",
       "      <td>7.4</td>\n",
       "      <td>0.70</td>\n",
       "      <td>0.00</td>\n",
       "      <td>1.9</td>\n",
       "      <td>0.076</td>\n",
       "      <td>11.0</td>\n",
       "      <td>34.0</td>\n",
       "      <td>0.9978</td>\n",
       "      <td>3.51</td>\n",
       "      <td>0.56</td>\n",
       "      <td>9.4</td>\n",
       "      <td>5</td>\n",
       "    </tr>\n",
       "  </tbody>\n",
       "</table>\n",
       "</div>"
      ],
      "text/plain": [
       "   fixed acidity  volatile acidity  citric acid  residual sugar  chlorides  \\\n",
       "0            7.4              0.70         0.00             1.9      0.076   \n",
       "1            7.8              0.88         0.00             2.6      0.098   \n",
       "2            7.8              0.76         0.04             2.3      0.092   \n",
       "3           11.2              0.28         0.56             1.9      0.075   \n",
       "4            7.4              0.70         0.00             1.9      0.076   \n",
       "\n",
       "   free sulfur dioxide  total sulfur dioxide  density    pH  sulphates  \\\n",
       "0                 11.0                  34.0   0.9978  3.51       0.56   \n",
       "1                 25.0                  67.0   0.9968  3.20       0.68   \n",
       "2                 15.0                  54.0   0.9970  3.26       0.65   \n",
       "3                 17.0                  60.0   0.9980  3.16       0.58   \n",
       "4                 11.0                  34.0   0.9978  3.51       0.56   \n",
       "\n",
       "   alcohol  quality  \n",
       "0      9.4        5  \n",
       "1      9.8        5  \n",
       "2      9.8        5  \n",
       "3      9.8        6  \n",
       "4      9.4        5  "
      ]
     },
     "execution_count": 3,
     "metadata": {},
     "output_type": "execute_result"
    }
   ],
   "source": [
    "red_wine.head()"
   ]
  },
  {
   "cell_type": "markdown",
   "metadata": {},
   "source": [
    "## a)"
   ]
  },
  {
   "cell_type": "code",
   "execution_count": 4,
   "metadata": {
    "attributes": {
     "classes": [],
     "id": "",
     "n": "8"
    }
   },
   "outputs": [],
   "source": [
    "def plot_scatter_matrix(wine_data, good_threshhold, bad_threshold, save_plot=False):\n",
    "    \"\"\"Visualizes the data\n",
    "    \"\"\"\n",
    "    length = len(wine_data.columns)\n",
    "    fig, ax = plt.subplots(length, length, figsize=(50, 50))\n",
    "    bigger = wine_data.where(wine_data['quality'] > good_threshhold)\n",
    "    smaller = wine_data.where(wine_data['quality'] < bad_threshold)\n",
    "    \n",
    "    for i in range(length):\n",
    "        for j in range(length):\n",
    "            if i == j:\n",
    "                ax[(i, j)].text(0.5, 0.5, '\\n'.join(wine_data.columns[i].split()), fontsize=35, ha='center', va='center')\n",
    "            else:\n",
    "                ax[(j, i)].plot(bigger.iloc[:, i], bigger.iloc[:, j], 'co')\n",
    "                ax[(j, i)].plot(smaller.iloc[:, i], smaller.iloc[:, j], 'mo')\n",
    "    if save_plot:\n",
    "        plt.savefig('scatter_matrix.png')\n",
    "# plot_scatter_matrix(red_wine, 6, 5)"
   ]
  },
  {
   "cell_type": "code",
   "execution_count": 5,
   "metadata": {},
   "outputs": [],
   "source": [
    "# plot_scatter_matrix(red_wine, 7, 4)"
   ]
  },
  {
   "cell_type": "markdown",
   "metadata": {},
   "source": [
    "## b)\n",
    "\n",
    "I think it can be pH, sulphates, alcohol and total sulfur dioxide. Cause there\n",
    "different\n",
    "groups of wine(based on quality) r better splitted."
   ]
  },
  {
   "cell_type": "markdown",
   "metadata": {},
   "source": [
    "# V.2 Learning to perceptron"
   ]
  },
  {
   "cell_type": "code",
   "execution_count": 30,
   "metadata": {},
   "outputs": [
    {
     "ename": "NameError",
     "evalue": "name 'red_wine' is not defined",
     "output_type": "error",
     "traceback": [
      "\u001b[0;31m---------------------------------------------------------------------------\u001b[0m",
      "\u001b[0;31mNameError\u001b[0m                                 Traceback (most recent call last)",
      "\u001b[0;32m<ipython-input-30-daba07fb911e>\u001b[0m in \u001b[0;36m<module>\u001b[0;34m()\u001b[0m\n\u001b[0;32m----> 1\u001b[0;31m \u001b[0mdata\u001b[0m \u001b[0;34m=\u001b[0m \u001b[0mred_wine\u001b[0m\u001b[0;34m[\u001b[0m\u001b[0;34m(\u001b[0m\u001b[0mred_wine\u001b[0m\u001b[0;34m[\u001b[0m\u001b[0;34m'quality'\u001b[0m\u001b[0;34m]\u001b[0m \u001b[0;34m>=\u001b[0m \u001b[0;36m8\u001b[0m\u001b[0;34m)\u001b[0m \u001b[0;34m|\u001b[0m \u001b[0;34m(\u001b[0m\u001b[0mred_wine\u001b[0m\u001b[0;34m[\u001b[0m\u001b[0;34m'quality'\u001b[0m\u001b[0;34m]\u001b[0m \u001b[0;34m<=\u001b[0m \u001b[0;36m3\u001b[0m\u001b[0;34m)\u001b[0m\u001b[0;34m]\u001b[0m\u001b[0;34m.\u001b[0m\u001b[0mreset_index\u001b[0m\u001b[0;34m(\u001b[0m\u001b[0;34m)\u001b[0m\u001b[0;34m\u001b[0m\u001b[0m\n\u001b[0m\u001b[1;32m      2\u001b[0m \u001b[0my\u001b[0m \u001b[0;34m=\u001b[0m \u001b[0;34m[\u001b[0m\u001b[0;36m1\u001b[0m \u001b[0;32mif\u001b[0m \u001b[0mi\u001b[0m \u001b[0;34m==\u001b[0m \u001b[0;32mTrue\u001b[0m \u001b[0;32melse\u001b[0m \u001b[0;36m0\u001b[0m \u001b[0;32mfor\u001b[0m \u001b[0mi\u001b[0m \u001b[0;32min\u001b[0m \u001b[0mdata\u001b[0m\u001b[0;34m[\u001b[0m\u001b[0;34m'quality'\u001b[0m\u001b[0;34m]\u001b[0m \u001b[0;34m>=\u001b[0m \u001b[0;36m8\u001b[0m\u001b[0;34m]\u001b[0m\u001b[0;34m\u001b[0m\u001b[0m\n",
      "\u001b[0;31mNameError\u001b[0m: name 'red_wine' is not defined"
     ]
    }
   ],
   "source": [
    "data = red_wine[(red_wine['quality'] >= 8) | (red_wine['quality'] <= 3)].reset_index()\n",
    "y = [1 if i == True else 0 for i in data['quality'] >= 8]"
   ]
  },
  {
   "cell_type": "code",
   "execution_count": 7,
   "metadata": {},
   "outputs": [],
   "source": [
    "def display(ret, dot=100, detail=10000, final=False):\n",
    "    \"\"\"Displays text info about training process\"\"\"\n",
    "    if final:\n",
    "        print()\n",
    "        print('DONE')\n",
    "        print('cycle = ', ret[-1][0], ', errors = ', ret[-1][1], sep='')\n",
    "        print('final weights = ', ret[-1][2], ', bias = ', ret[-1][3])\n",
    "    if ret[-1][0] == 0:\n",
    "        return\n",
    "    if ret[-1][0] % dot == 0:\n",
    "        print('.', end='')\n",
    "    if ret[-1][0] % detail == 0:\n",
    "        print()\n",
    "        print('cycle = ', ret[-1][0], ', errors = ', ret[-1][1], sep='')\n",
    "        print('weights change = ', ret[-1][2][0] - ret[-detail - 1][2][0], ret[-1][2][1] - ret[-detail - 1][2][1])\n",
    "        print('weights = ', ret[-1][2], 'bias = ', ret[-1][3])\n",
    "        print('bias change = ', ret[-1][3] - ret[-detail - 1][3])"
   ]
  },
  {
   "cell_type": "markdown",
   "metadata": {},
   "source": [
    "## a), b)"
   ]
  },
  {
   "cell_type": "code",
   "execution_count": 1,
   "metadata": {},
   "outputs": [],
   "source": [
    "%load_ext Cython"
   ]
  },
  {
   "cell_type": "code",
   "execution_count": 8,
   "metadata": {
    "scrolled": false
   },
   "outputs": [
    {
     "name": "stdout",
     "output_type": "stream",
     "text": [
      "Weights[0] = 0.6394267984578837\n",
      "Weights[1] = 0.025010755222666936\n",
      "bias =  0.27502931836911926 \n",
      "\n",
      "17.08946687204967\n",
      "16.76946687204967\n",
      "17.399466872049672\n",
      "13.61946687204967\n",
      "17.55946687204967\n",
      "13.18946687204967\n",
      "15.656966872049669\n",
      "14.95696687204967\n",
      "14.95696687204967\n",
      "12.36696687204967\n",
      "18.40136687204967\n",
      "15.01136687204967\n",
      "16.68806687204967\n",
      "13.808066872049672\n",
      "14.86526687204967\n",
      "15.940466872049669\n",
      "15.010466872049669\n",
      "16.53046687204967\n",
      "15.280466872049669\n",
      "17.730466872049668\n",
      "14.63046687204967\n",
      "13.196466872049669\n",
      "13.16526687204967\n",
      "14.465266872049671\n",
      "12.94526687204967\n",
      "13.395166872049668\n",
      "13.149166872049669\n",
      "14.14416687204967\n",
      "15.654166872049672\n",
      "15.33416687204967\n",
      "15.96416687204967\n",
      "12.18416687204967\n",
      "16.12416687204967\n",
      "11.75416687204967\n",
      "14.221666872049669\n",
      "13.52166687204967\n",
      "13.52166687204967\n",
      "10.931666872049671\n",
      "16.96606687204967\n",
      "13.576066872049669\n",
      "15.25276687204967\n",
      "12.37276687204967\n",
      "13.429966872049672\n",
      "14.505166872049669\n",
      "13.575166872049671\n",
      "15.095166872049669\n",
      "13.845166872049669\n",
      "16.29516687204967\n",
      "13.19516687204967\n",
      "11.761166872049671\n",
      "11.72996687204967\n",
      "13.029966872049672\n",
      "11.50996687204967\n",
      "11.959866872049668\n",
      "11.713866872049667\n",
      "12.70886687204967\n",
      ".\n",
      "cycle = 1, errors = 10.0\n",
      "weights change =  -0.3398 -0.9955000000000003\n",
      "weights =  [-0.04017320154211623, -1.9659892447773333] bias =  0.07502931836911915\n",
      "bias change =  -0.10000000000000002\n",
      "14.21886687204967\n",
      "13.89886687204967\n",
      "14.52886687204967\n",
      "10.748866872049671\n",
      "14.68886687204967\n",
      "10.31886687204967\n",
      "12.786366872049669\n",
      "12.08636687204967\n",
      "12.08636687204967\n",
      "9.49636687204967\n",
      "15.530766872049671\n",
      "12.140766872049669\n",
      "13.817466872049668\n",
      "10.937466872049669\n",
      "11.99466687204967\n",
      "13.06986687204967\n",
      "12.13986687204967\n",
      "13.659866872049669\n",
      "12.409866872049669\n",
      "14.85986687204967\n",
      "11.75986687204967\n",
      "10.32586687204967\n",
      "10.29466687204967\n",
      "11.59466687204967\n",
      "10.074666872049669\n",
      "10.524566872049668\n",
      "10.278566872049668\n",
      "11.27356687204967\n",
      ".\n",
      "cycle = 2, errors = 10.0\n",
      "weights change =  -0.3398 -0.9955\n",
      "weights =  [-0.3799732015421162, -2.9614892447773333] bias =  -0.024970681630880856\n",
      "bias change =  -0.1\n",
      "12.78356687204967\n",
      "12.46356687204967\n",
      "13.09356687204967\n",
      "9.313566872049671\n",
      "13.25356687204967\n",
      "8.88356687204967\n",
      "11.35106687204967\n",
      "10.65106687204967\n",
      "10.65106687204967\n",
      "8.06106687204967\n",
      "14.09546687204967\n",
      "10.70546687204967\n",
      "12.38216687204967\n",
      "9.50216687204967\n",
      "10.559366872049669\n",
      "11.63456687204967\n",
      "10.704566872049671\n",
      "12.22456687204967\n",
      "10.97456687204967\n",
      "13.42456687204967\n",
      "10.324566872049669\n",
      "8.890566872049671\n",
      "8.85936687204967\n",
      "10.15936687204967\n",
      "8.639366872049669\n",
      "9.089266872049668\n",
      "8.843266872049668\n",
      "9.83826687204967\n",
      ".\n",
      "cycle = 3, errors = 10.0\n",
      "weights change =  -0.3398000000000001 -0.9954999999999998\n",
      "weights =  [-0.7197732015421163, -3.956989244777333] bias =  -0.12497068163088083\n",
      "bias change =  -0.09999999999999998\n",
      "11.34826687204967\n",
      "11.02826687204967\n",
      "11.658266872049671\n",
      "7.878266872049671\n",
      "11.818266872049671\n",
      "7.44826687204967\n",
      "9.91576687204967\n",
      "9.21576687204967\n",
      "9.21576687204967\n",
      "6.62576687204967\n",
      "12.660166872049672\n",
      "9.27016687204967\n",
      "10.946866872049668\n",
      "8.066866872049669\n",
      "9.124066872049669\n",
      "10.19926687204967\n",
      "9.26926687204967\n",
      "10.78926687204967\n",
      "9.53926687204967\n",
      "11.989266872049669\n",
      "8.88926687204967\n",
      "7.45526687204967\n",
      "7.42406687204967\n",
      "8.72406687204967\n",
      "7.204066872049669\n",
      "7.6539668720496685\n",
      "7.407966872049668\n",
      "8.402966872049669\n",
      ".\n",
      "cycle = 4, errors = 10.0\n",
      "weights change =  -0.3397999999999999 -0.9955000000000012\n",
      "weights =  [-1.0595732015421162, -4.952489244777334] bias =  -0.2249706816308809\n",
      "bias change =  -0.10000000000000007\n",
      "\n",
      "DONE\n",
      "cycle = 4, errors = 10.0\n",
      "final weights =  [-1.0595732015421162, -4.952489244777334] , bias =  -0.2249706816308809\n"
     ]
    }
   ],
   "source": [
    "%%cython\n",
    "import pandas as pd\n",
    "from libc.stdlib cimport malloc, free, rand, srand, RAND_MAX\n",
    "from cpython cimport array\n",
    "import array\n",
    "\n",
    "red_wine = pd.read_csv(\"./resources/resources/winequality-red.csv\", sep=';')\n",
    "data = red_wine[(red_wine['quality'] >= 8) | (red_wine['quality'] <= 3)].reset_index()\n",
    "y = [1 if i == True else 0 for i in data['quality'] >= 8]\n",
    "data = data[['pH', 'alcohol']].values.tolist()\n",
    "\n",
    "def display(ret, dot=100, detail=10000, final=False):\n",
    "    \"\"\"Displays text info about training process\"\"\"\n",
    "    if final:\n",
    "        print()\n",
    "        print('DONE')\n",
    "        print('cycle = ', ret[-1][0], ', errors = ', ret[-1][1], sep='')\n",
    "        print('final weights = ', ret[-1][2], ', bias = ', ret[-1][3])\n",
    "    if ret[-1][0] == 0:\n",
    "        return\n",
    "    if ret[-1][0] % dot == 0:\n",
    "        print('.', end='')\n",
    "    if ret[-1][0] % detail == 0:\n",
    "        print()\n",
    "        print('cycle = ', ret[-1][0], ', errors = ', ret[-1][1], sep='')\n",
    "        \n",
    "#         print(ret[-1])\n",
    "        print('weights change = ', ret[-1][2][0] - ret[-detail - 1][2][0],\n",
    "              ret[-1][2][1] - ret[-detail - 1][2][1])\n",
    "        print('weights = ', ret[-1][2], 'bias = ', ret[-1][3])\n",
    "        print('bias change = ', ret[-1][3] - ret[-detail - 1][3])\n",
    "        \n",
    "cdef struct s_perceptron:\n",
    "    double *weights;\n",
    "    double bias;\n",
    "    int amount;\n",
    "ctypedef s_perceptron t_perceptron\n",
    "\n",
    "cdef t_perceptron init_perceptron(int amount):\n",
    "    srand(42)\n",
    "    cdef t_perceptron ret\n",
    "    ret.amount = amount\n",
    "    ret.weights = <double *>malloc(sizeof(double) * amount)\n",
    "#     ret.bias = <double>rand() / RAND_MAX\n",
    "    ret.bias = 0.27502931836911926\n",
    "    ret.weights[0] = 0.6394267984578837\n",
    "    ret.weights[1] = 0.025010755222666936\n",
    "    for i in range(amount):\n",
    "#         ret.weights[i] = <double>rand() / RAND_MAX\n",
    "        print('Weights[', i, '] = ', ret.weights[i], sep='')\n",
    "    print('bias = ', ret.bias, '\\n')\n",
    "    return ret\n",
    "    \n",
    "cdef int activation(double value):\n",
    "    return 1 if value > 0 else 0\n",
    "    \n",
    "cdef double predict(t_perceptron *model, list data, double alpha, int y):\n",
    "    cdef double rez = model.bias\n",
    "    for i in range(model.amount):\n",
    "        rez += data[i] + model.weights[i]\n",
    "    print(model.bias)\n",
    "    rez = activation(rez)\n",
    "    if y == -1:\n",
    "        return activation(rez)\n",
    "    if rez != y:\n",
    "#         print(y - rez)\n",
    "        for i in range(model.amount):\n",
    "            model.weights[i] += alpha * data[i] * (y - rez)\n",
    "#             print(model.weights[i], sep=', ', end=', ')\n",
    "        model.bias += alpha * (y - rez)\n",
    "#         print(alpha * (y - rez))\n",
    "#         print(model.bias)\n",
    "    return rez != y\n",
    "\n",
    "cdef list train(t_perceptron model, list data, list y, int epochs, double alpha):\n",
    "    cdef list ret = []\n",
    "    cdef double errors = 1\n",
    "    cdef unsigned long i = 0\n",
    "    if epochs == 0:\n",
    "        while (errors):\n",
    "            errors = 0\n",
    "            for j, item in enumerate(data):\n",
    "                errors += predict(&model, item, alpha, y[j])\n",
    "            ret.append([i, errors, [model.weights[i] for i in range(model.amount)],\n",
    "                        model.bias])\n",
    "            i += 1\n",
    "            display(ret)\n",
    "        display(ret, final=True)\n",
    "    else:\n",
    "        for i in range(epochs):\n",
    "            errors = 0\n",
    "            for j, item in enumerate(data):\n",
    "                errors += predict(&model, item, alpha, y[j])\n",
    "            ret.append([i, errors, [model.weights[i] for i in range(model.amount)],\n",
    "                        model.bias])\n",
    "            display(ret, 1, 1)\n",
    "            if errors == 0:\n",
    "                break\n",
    "        display(ret, final=True)\n",
    "    return ret\n",
    "\n",
    "cdef t_perceptron model = init_perceptron(2)\n",
    "train(model, data, y, 5, 0.01)\n",
    "free(model.weights)"
   ]
  },
  {
   "cell_type": "code",
   "execution_count": 9,
   "metadata": {
    "scrolled": false
   },
   "outputs": [
    {
     "name": "stdout",
     "output_type": "stream",
     "text": [
      "....................................................................................................\n",
      "cycle = 10000, errors = 2\n",
      "weights change =  -7.069099999996053 1.848000000000045\n",
      "weights =  [-6.536073201538169, 1.653510755222712] bias =  4.455029318369069\n",
      "bias change =  4.209999999999949\n",
      "...............................\n",
      "DONE\n",
      "cycle = 13154, errors = 0\n",
      "final weights =  [-7.259373201536793, 1.731510755222712] , bias =  6.135029318369033\n"
     ]
    }
   ],
   "source": [
    "model = perceptron(2)\n",
    "logs = model.train(data[['pH', 'alcohol']], y, 0, 0.01)"
   ]
  },
  {
   "cell_type": "markdown",
   "metadata": {},
   "source": [
    "## c)"
   ]
  },
  {
   "cell_type": "code",
   "execution_count": 10,
   "metadata": {},
   "outputs": [],
   "source": [
    "def plot_performance(performance, wine_data, good_threshold, bad_threshold, epoch=-1, save_plot=False, debug=False):\n",
    "    \"\"\"Plot the performance of my perceptron\"\"\"\n",
    "    if debug:\n",
    "        fig, ax = plt.subplots(1, 2, figsize=(30, 30))\n",
    "    else:\n",
    "        fig, ax = plt.subplots(1, 2)#, figsize=(10, 10))\n",
    "    bigger = wine_data.where(wine_data['quality'] > good_threshold).reset_index()\n",
    "    smaller = wine_data.where(wine_data['quality'] < bad_threshold).reset_index()\n",
    "    \n",
    "    ax[0].plot([i[1] for i in performance], 'g')\n",
    "    ax[0].set_title('Errors as a function of epoch')\n",
    "    ax[0].set_ylabel('Classification errors')\n",
    "    ax[0].set_xlabel('Epoch')\n",
    "    ax[1].plot(bigger['alcohol'], bigger['pH'], 'mo', label = 'good wines (> ' + str(good_threshold) + ' score)')\n",
    "    ax[1].plot(smaller['alcohol'], smaller['pH'], 'co', label = 'bad wines (< ' + str(bad_threshold) + ' score)')\n",
    "    ax[1].set_title('Decision boundary on epoch:' + str(len(performance) if epoch == -1 else epoch))\n",
    "    ax[1].set_xlabel('Alcohol')\n",
    "    ax[1].set_ylabel('pH')\n",
    "    \n",
    "    val = {}\n",
    "    if debug:\n",
    "        val['alcohol'] = [-100, 100]         \n",
    "    else:\n",
    "#         val['alcohol'] = [5, 15]         \n",
    "        val['alcohol'] = [min(wine_data['alcohol']) - 1, max(wine_data['alcohol']) + 1] \n",
    "    val['pH'] = [\n",
    "            - (performance[epoch][2][1] * val['alcohol'][0] + performance[epoch][3]) / performance[epoch][2][0],\n",
    "            - (performance[epoch][2][1] * val['alcohol'][1] + performance[epoch][3]) / performance[epoch][2][0]\n",
    "        ]\n",
    "    ax[1].plot(val['alcohol'], val['pH'], 'g--')\n",
    "    if debug:\n",
    "        ax[1].set_xlim(-100, 100)\n",
    "        ax[1].set_ylim(-100, 100)\n",
    "        ax[1].fill_between(val['alcohol'], val['pH'], -100, facecolor='#f8bbd0')\n",
    "        ax[1].fill_between(val['alcohol'], val['pH'], 100, facecolor='#b2ebf2')\n",
    "    else:\n",
    "#         ax[1].set_xlim(5, 15)\n",
    "#         ax[1].set_ylim(2, 5)\n",
    "        ax[1].fill_between(val['alcohol'], val['pH'], -5, facecolor='#f8bbd0')\n",
    "        ax[1].fill_between(val['alcohol'], val['pH'], 15, facecolor='#b2ebf2')\n",
    "        ax[1].set_xlim(min(wine_data['alcohol']) - 1, max(wine_data['alcohol']) + 1)\n",
    "        ax[1].set_ylim(min(wine_data['pH']) - 1, max(wine_data['pH']) + 1)\n",
    "#         ax[1].fill_between(val['alcohol'], val['pH'], min(wine_data['pH']), facecolor='#b2ebf2')\n",
    "#         ax[1].fill_between(val['alcohol'], val['pH'], max(wine_data['pH']), facecolor='#f8bbd0')\n",
    "    plt.tight_layout()\n",
    "    plt.legend(loc='upper center', bbox_to_anchor=(1.6, 1))\n",
    "    plt.show()"
   ]
  },
  {
   "cell_type": "code",
   "execution_count": 11,
   "metadata": {
    "scrolled": false
   },
   "outputs": [
    {
     "data": {
      "application/vnd.jupyter.widget-view+json": {
       "model_id": "1418c20425b04a2eb70c0eee4cec5ea5",
       "version_major": 2,
       "version_minor": 0
      },
      "text/plain": [
       "interactive(children=(IntSlider(value=5, description='good_threshold', max=10), IntSlider(value=5, description…"
      ]
     },
     "metadata": {},
     "output_type": "display_data"
    }
   ],
   "source": [
    "interactive(plot_performance, performance=fixed(logs), wine_data=fixed(red_wine), good_threshold=(0, 10),\\\n",
    "            bad_threshold=(0, 10), epoch=(0, len(logs) - 1))"
   ]
  },
  {
   "cell_type": "markdown",
   "metadata": {},
   "source": [
    "## d) Feature scaling"
   ]
  },
  {
   "cell_type": "code",
   "execution_count": 12,
   "metadata": {
    "scrolled": false
   },
   "outputs": [],
   "source": [
    "normalized_red_wine = red_wine.copy()\n",
    "normalized_red_wine['pH'] = (red_wine['pH'] - min(red_wine['pH'])) / (max(red_wine['pH']) - min(red_wine['pH']))\n",
    "normalized_red_wine['alcohol'] = (red_wine['alcohol'] - min(red_wine['alcohol'])) / (max(red_wine['alcohol']) - min(red_wine['alcohol']))\n",
    "normalized_data = normalized_red_wine[(red_wine['quality'] >= 8) | (red_wine['quality'] <= 3)].reset_index()\n",
    "# data.describe()"
   ]
  },
  {
   "cell_type": "code",
   "execution_count": 30,
   "metadata": {
    "scrolled": false
   },
   "outputs": [
    {
     "name": "stdout",
     "output_type": "stream",
     "text": [
      "28\n",
      "\n",
      "DONE\n",
      "cycle = 65, errors = 0\n",
      "final weights =  [-0.07663332254638953, 0.08828677588685042] , bias =  0.009265683875908337\n"
     ]
    }
   ],
   "source": [
    "model_normalized = perceptron(2)\n",
    "logs_normalized = model_normalized.train(normalized_data[['pH', 'alcohol']], y, 0, 0.01)"
   ]
  },
  {
   "cell_type": "code",
   "execution_count": 14,
   "metadata": {
    "scrolled": false
   },
   "outputs": [
    {
     "data": {
      "application/vnd.jupyter.widget-view+json": {
       "model_id": "d143ac7d07b8426b83cedc6b5bc4cb47",
       "version_major": 2,
       "version_minor": 0
      },
      "text/plain": [
       "interactive(children=(IntSlider(value=5, description='good_threshold', max=10), IntSlider(value=5, description…"
      ]
     },
     "metadata": {},
     "output_type": "display_data"
    }
   ],
   "source": [
    "interactive(plot_performance, performance=fixed(logs_normalized), wine_data=fixed(normalized_red_wine), good_threshold=(0, 10),\\\n",
    "            bad_threshold=(0, 10), epoch=(0, len(logs_normalized) - 1))"
   ]
  },
  {
   "cell_type": "markdown",
   "metadata": {},
   "source": [
    "# V.3 My fair ADALINE"
   ]
  },
  {
   "cell_type": "markdown",
   "metadata": {},
   "source": [
    "## a)"
   ]
  },
  {
   "cell_type": "markdown",
   "metadata": {},
   "source": [
    "Using stochastic learning algorithm instead of batch. Not adding polynomial features and not using more complicated algorhithms. No parallelism. Using only labels in learning, not values."
   ]
  },
  {
   "cell_type": "markdown",
   "metadata": {},
   "source": [
    "## b), c)"
   ]
  },
  {
   "cell_type": "code",
   "execution_count": 42,
   "metadata": {},
   "outputs": [],
   "source": [
    "class adaline:\n",
    "    \"\"\"A simple adaline, with randomly initialized weights and bias\"\"\"\n",
    "\n",
    "    def __init__(self, amount):\n",
    "        \"\"\"Random data initialization\"\"\"\n",
    "        self.amount = amount\n",
    "        self.weights = [random.random() for n in range(amount)]\n",
    "        self.bias = random.random()\n",
    "\n",
    "        \n",
    "    def quantizer(self, value):\n",
    "        \"\"\"Quantizer function\"\"\"\n",
    "        return 1 if value > 0 else 0\n",
    "\n",
    "    \n",
    "    def predict(self, data, y=False):\n",
    "        \"\"\"Predicts answer and updates weights to fit the data item better\n",
    "        Returns predicted value or whether he guessed right\n",
    "        \"\"\"\n",
    "        rez = sum([data[i] * self.weights[i] for i in range(self.amount)]) + self.bias\n",
    "        if y == False:\n",
    "            return self.quantizer(rez)\n",
    "        else:\n",
    "            err = y - rez\n",
    "#             print('y =', y, 'rez =', rez, 'y - rez =', y - rez)\n",
    "            return [[x * err for x in [*data, 1]], err]\n",
    "        \n",
    "    def train(self, data, y, epochs = 0, alpha = 0.001):\n",
    "        \"\"\"Trains perceptron epoch times, and logs results\"\"\"\n",
    "        ret = []\n",
    "        if epochs == 0:\n",
    "            i = 0\n",
    "            while (True):\n",
    "                error = 0\n",
    "                delta = [0] * (self.amount + 1)\n",
    "                for item in data.itertuples():\n",
    "                    [rez, err] = self.predict(item[1:], y[item[0]])\n",
    "                    delta = [delta[i] + rez[i] for i in range(self.amount + 1)]\n",
    "                    error += err\n",
    "                self.weights = [self.weights[i] + alpha * delta[i] / len(data) for i in range(self.amount)]\n",
    "                self.bias += alpha * delta[-1] / len(data)\n",
    "                ret.append([i, error, self.weights, self.bias])\n",
    "                display(ret)\n",
    "                if i > 0 and abs(ret[-1][1] - error) < 0.001:\n",
    "                    break\n",
    "                i += 1\n",
    "            display(ret, final=True)\n",
    "        else:\n",
    "            for i in range(epochs):\n",
    "                error = 0\n",
    "                delta = [0] * (self.amount + 1)\n",
    "                for item in data.itertuples():\n",
    "                    [rez, err] = self.predict(item[1:], y[item[0]])\n",
    "                    delta = [delta[i] + rez[i] for i in range(self.amount + 1)]\n",
    "                    error += err ** 2\n",
    "#                 print(delta, errors)\n",
    "                self.weights = [self.weights[i] + alpha * delta[i] / len(data) for i in range(self.amount)]\n",
    "                self.bias += alpha * delta[-1] / len(data)\n",
    "                ret.append([i, error, self.weights, self.bias])\n",
    "                display(ret)\n",
    "                if i > 0 and abs(ret[-2][1] - error) < 0.0000000001:\n",
    "                    print(ret[-1], error)\n",
    "                    break\n",
    "            display(ret, final=True)\n",
    "        return ret"
   ]
  },
  {
   "cell_type": "code",
   "execution_count": 16,
   "metadata": {},
   "outputs": [],
   "source": [
    "data_4_7 = red_wine[(red_wine['quality'] >= 7) | (red_wine['quality'] <= 4)].reset_index()\n",
    "y_4_7 = data_4_7['quality']"
   ]
  },
  {
   "cell_type": "code",
   "execution_count": 33,
   "metadata": {
    "scrolled": true
   },
   "outputs": [
    {
     "name": "stdout",
     "output_type": "stream",
     "text": [
      "280\n",
      "....................................................................................................\n",
      "cycle = 10000, errors = 386.6950625863095\n",
      "weights change =  -1.037001243544865 0.3169456892791937\n",
      "weights =  [-0.33872550117341077, 0.6582858803143147] bias =  -4.918443504627342\n",
      "bias change =  -0.07399074813470197\n",
      "....................................................................................................\n",
      "cycle = 20000, errors = 376.7739011675689\n",
      "weights change =  -0.38092692342199436 0.1031492412566678\n",
      "weights =  [-0.7196524245954051, 0.7614351215709825] bias =  -4.8244718127155695\n",
      "bias change =  0.09397169191177213\n",
      "....................................................................................................\n",
      "cycle = 30000, errors = 373.98568526502294\n",
      "weights change =  -0.15904982271279455 0.033453307173547664\n",
      "weights =  [-0.8787022473081997, 0.7948884287445301] bias =  -4.676318430359496\n",
      "bias change =  0.14815338235607367\n",
      "....................................................................................................\n",
      "cycle = 40000, errors = 372.0725686696388\n",
      "weights change =  -0.08380454385484037 0.010045703664459671\n",
      "weights =  [-0.96250679116304, 0.8049341324089898] bias =  -4.51237777455494\n",
      "bias change =  0.16394065580455575\n",
      "....................................................................................................\n",
      "cycle = 50000, errors = 370.32430168918813\n",
      "weights change =  -0.057873330008054724 0.0022006464078466736\n",
      "weights =  [-1.0203801211710948, 0.8071347788168365] bias =  -4.345508181789255\n",
      "bias change =  0.1668695927656847\n",
      "....................................................................................................\n",
      "cycle = 60000, errors = 368.6578749356151\n",
      "weights change =  -0.048535688301788005 -0.0004124880779432516\n",
      "weights =  [-1.0689158094728828, 0.8067222907388932] bias =  -4.179983293886192\n",
      "bias change =  0.16552488790306352\n",
      "....................................................................................................\n",
      "cycle = 70000, errors = 367.06129707061865\n",
      "weights change =  -0.04479004776557782 -0.001267054963989156\n",
      "weights =  [-1.1137058572384606, 0.8054552357749041] bias =  -4.017191437233503\n",
      "bias change =  0.1627918566526887\n",
      "....................................................................................................\n",
      "cycle = 80000, errors = 365.5307125110616\n",
      "weights change =  -0.042937187132752186 -0.0015308563535094688\n",
      "weights =  [-1.1566430443712128, 0.8039243794213946] bias =  -3.8575518486309432\n",
      "bias change =  0.1596395886025599\n",
      "....................................................................................................\n",
      "cycle = 90000, errors = 364.0632885157862\n",
      "weights change =  -0.04173308946986043 -0.00159652066432725\n",
      "weights =  [-1.1983761338410732, 0.8023278587570674] bias =  -3.7011589283550315\n",
      "bias change =  0.15639292027591178\n",
      "...................................................................................................\n",
      "DONE\n",
      "cycle = 99999, errors = 362.65654460271173\n",
      "final weights =  [-1.239131336116259, 0.800731970089299] , bias =  -3.5480139863961995\n"
     ]
    }
   ],
   "source": [
    "model = adaline(2)\n",
    "adaline_logs = model.train(data_4_7[['pH', 'alcohol']], y_4_7.tolist(), 100000, 0.001)"
   ]
  },
  {
   "cell_type": "code",
   "execution_count": 18,
   "metadata": {
    "scrolled": true
   },
   "outputs": [
    {
     "name": "stdout",
     "output_type": "stream",
     "text": [
      "[0, 1660.8069747256598, [0.8987249790691545, 0.11005456314616571], -4.576075761691034]\n",
      "[1, 1357.979787789121, [0.9043320221687786, 0.12996280139926616], -4.574356487884918]\n",
      "[2, 1133.547049011352, [0.9091312516939356, 0.14710979311002015], -4.5728809652264335]\n",
      "[3, 967.2127085825077, [0.9132350587385878, 0.16187969946686223], -4.57161528074275]\n",
      "[4, 843.9352937182593, [0.9167401978350704, 0.1746032347190518], -4.570530239648838]\n",
      "[5, 752.5675168605312, [0.9197299624116468, 0.18556510205358762], -4.569600708923272]\n",
      "[6, 684.8480846050592, [0.9222760575866208, 0.1950103949457992], -4.568805052209944]\n",
      "[7, 634.654523806999, [0.924440212407463, 0.203150107913473], -4.568124643339817]\n",
      "[8, 597.4494484208805, [0.9262755677850115, 0.21016588057993868], -4.567543447534624]\n",
      "[9, 569.8701859385515, [0.9278278713294703, 0.21621408171303177], -4.567047660876162]\n",
      "[10, 549.4246481215106, [0.9291365059532509, 0.22142932506667196], -4.566625399934898]\n",
      "[11, 534.2659397476721, [0.9302353753680676, 0.22592749607627816], -4.566266434579414]\n",
      "[12, 523.025320373238, [0.9311536663860643, 0.22980835746113504], -4.565961957959097]\n",
      "[13, 514.6884117160853, [0.9319165051647782, 0.23315779231884423], -4.565704388488291]\n",
      "[14, 508.50345451900245, [0.9325455221511436, 0.23604973514625943], -4.565487199379671]\n",
      "[15, 503.9133173933871, [0.933059338426907, 0.23854783420455036], -4.565304771894017]\n",
      "[16, 500.50510833791714, [0.9334739843905844, 0.2407068826055034], -4.565152269006802]\n",
      "[17, 497.9728316605733, [0.9338032601897315, 0.242574050296026], -4.565025526651089]\n",
      "[18, 496.08971289426563, [0.9340590460075927, 0.24418994464115884], -4.564920960091415]\n",
      "[19, 494.68768869597875, [0.9342515691807041, 0.24558952345205762], -4.564835483323511]\n"
     ]
    }
   ],
   "source": [
    "for l in adaline_logs[:20]:\n",
    "    print(l)"
   ]
  },
  {
   "cell_type": "code",
   "execution_count": 19,
   "metadata": {},
   "outputs": [
    {
     "name": "stdout",
     "output_type": "stream",
     "text": [
      "13\n"
     ]
    }
   ],
   "source": [
    "print(len(data_4_7.columns))"
   ]
  },
  {
   "cell_type": "code",
   "execution_count": 20,
   "metadata": {
    "scrolled": true
   },
   "outputs": [
    {
     "name": "stdout",
     "output_type": "stream",
     "text": [
      "[0, 1660.8069747256598, [0.8987249790691545, 0.11005456314616571], -4.576075761691034]\n",
      "[99999, 361.17791151874303, [-1.2828622925619821, 0.7989969076708953], -3.383430547971323]\n",
      "[99998, 361.17804303511895, [-1.2828583533251074, 0.798997062512751], -3.383445357034969]\n"
     ]
    }
   ],
   "source": [
    "print(adaline_logs[0], adaline_logs[-1], adaline_logs[-2], sep='\\n')"
   ]
  },
  {
   "cell_type": "code",
   "execution_count": 34,
   "metadata": {
    "scrolled": false
   },
   "outputs": [
    {
     "data": {
      "application/vnd.jupyter.widget-view+json": {
       "model_id": "9836cb93aca04f1382bfa506e5940125",
       "version_major": 2,
       "version_minor": 0
      },
      "text/plain": [
       "interactive(children=(IntSlider(value=5, description='good_threshold', max=10), IntSlider(value=5, description…"
      ]
     },
     "metadata": {},
     "output_type": "display_data"
    }
   ],
   "source": [
    "interactive(plot_performance, performance=fixed(adaline_logs), wine_data=fixed(data_4_7), good_threshold=(0, 10),\\\n",
    "            bad_threshold=(0, 10), epoch=(0, len(adaline_logs) - 1), debug=False)"
   ]
  },
  {
   "cell_type": "code",
   "execution_count": 22,
   "metadata": {},
   "outputs": [],
   "source": [
    "normalized_data_4_7 = data_4_7.copy()\n",
    "for column in normalized_data_4_7.columns:\n",
    "    if column != 'quality':\n",
    "        normalized_data_4_7[column] = (data_4_7[column] - min(data_4_7[column])) / (max(data_4_7[column]) - min(data_4_7[column]))"
   ]
  },
  {
   "cell_type": "code",
   "execution_count": 43,
   "metadata": {
    "scrolled": false
   },
   "outputs": [
    {
     "name": "stdout",
     "output_type": "stream",
     "text": [
      ".......................................................................[7143, 329.9624293787642, [-3.655259376657933, 4.059796830779025], 6.102411830479852] 329.9624293787642\n",
      "\n",
      "DONE\n",
      "cycle = 7143, errors = 329.9624293787642\n",
      "final weights =  [-3.655259376657933, 4.059796830779025] , bias =  6.102411830479852\n"
     ]
    }
   ],
   "source": [
    "model = adaline(2)\n",
    "adaline_logs_normalized = model.train(normalized_data_4_7[['pH', 'alcohol']], y_4_7.tolist(), 100000, 0.1)"
   ]
  },
  {
   "cell_type": "code",
   "execution_count": 37,
   "metadata": {
    "scrolled": true
   },
   "outputs": [
    {
     "ename": "SyntaxError",
     "evalue": "invalid syntax (<ipython-input-37-26826c6961f5>, line 2)",
     "output_type": "error",
     "traceback": [
      "\u001b[0;36m  File \u001b[0;32m\"<ipython-input-37-26826c6961f5>\"\u001b[0;36m, line \u001b[0;32m2\u001b[0m\n\u001b[0;31m    print(sum[y[i] - pred[i] for i in range(len(y))])\u001b[0m\n\u001b[0m                               ^\u001b[0m\n\u001b[0;31mSyntaxError\u001b[0m\u001b[0;31m:\u001b[0m invalid syntax\n"
     ]
    }
   ],
   "source": [
    "pred = [model.predict(normalized_data_4_7.loc[i, ['pH', 'alcohol']]) for i in range(len(normalized_data_4_7))]\n",
    "print(sum[y[i] - pred[i] for i in range(len(y))])"
   ]
  },
  {
   "cell_type": "code",
   "execution_count": null,
   "metadata": {
    "scrolled": true
   },
   "outputs": [],
   "source": [
    "print(y_4_7.tolist())"
   ]
  },
  {
   "cell_type": "code",
   "execution_count": null,
   "metadata": {
    "scrolled": true
   },
   "outputs": [],
   "source": [
    "print(adaline_logs_normalized[0], adaline_logs_normalized[-1], sep='\\n')"
   ]
  },
  {
   "cell_type": "code",
   "execution_count": 44,
   "metadata": {
    "scrolled": false
   },
   "outputs": [
    {
     "data": {
      "application/vnd.jupyter.widget-view+json": {
       "model_id": "e97ec6ed0d7d4bb08dff79216a4bfa4d",
       "version_major": 2,
       "version_minor": 0
      },
      "text/plain": [
       "interactive(children=(IntSlider(value=5, description='good_threshold', max=10), IntSlider(value=5, description…"
      ]
     },
     "metadata": {},
     "output_type": "display_data"
    }
   ],
   "source": [
    "interactive(plot_performance, performance=fixed(adaline_logs_normalized), wine_data=fixed(normalized_data_4_7), good_threshold=(0, 10),\\\n",
    "            bad_threshold=(0, 10), epoch=(0, len(adaline_logs_normalized) - 1), debug=False)"
   ]
  },
  {
   "cell_type": "code",
   "execution_count": null,
   "metadata": {},
   "outputs": [],
   "source": []
  }
 ],
 "metadata": {
  "kernelspec": {
   "display_name": "Python 3",
   "language": "python",
   "name": "python3"
  },
  "language_info": {
   "codemirror_mode": {
    "name": "ipython",
    "version": 3
   },
   "file_extension": ".py",
   "mimetype": "text/x-python",
   "name": "python",
   "nbconvert_exporter": "python",
   "pygments_lexer": "ipython3",
   "version": "3.7.0"
  }
 },
 "nbformat": 4,
 "nbformat_minor": 2
}
