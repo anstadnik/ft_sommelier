{
 "cells": [
  {
   "cell_type": "markdown",
   "metadata": {},
   "source": [
    "# Import things"
   ]
  },
  {
   "cell_type": "code",
   "execution_count": 1,
   "metadata": {
    "attributes": {
     "classes": [],
     "id": "",
     "n": "1"
    }
   },
   "outputs": [],
   "source": [
    "import pandas as pd\n",
    "import matplotlib.pyplot as plt\n",
    "%matplotlib inline\n",
    "import random\n",
    "from ipywidgets import interact, interactive, fixed, interact_manual\n",
    "import ipywidgets as widgets"
   ]
  },
  {
   "cell_type": "markdown",
   "metadata": {},
   "source": [
    "# Load data"
   ]
  },
  {
   "cell_type": "code",
   "execution_count": 2,
   "metadata": {
    "attributes": {
     "classes": [],
     "id": "",
     "n": "2"
    }
   },
   "outputs": [],
   "source": [
    "red_wine = pd.read_csv(\"./resources/resources/winequality-red.csv\", sep=';')"
   ]
  },
  {
   "cell_type": "markdown",
   "metadata": {},
   "source": [
    "# V.1 Exploring the green reds"
   ]
  },
  {
   "cell_type": "code",
   "execution_count": 3,
   "metadata": {
    "attributes": {
     "classes": [],
     "id": "",
     "n": "3"
    }
   },
   "outputs": [
    {
     "data": {
      "text/html": [
       "<div>\n",
       "<style scoped>\n",
       "    .dataframe tbody tr th:only-of-type {\n",
       "        vertical-align: middle;\n",
       "    }\n",
       "\n",
       "    .dataframe tbody tr th {\n",
       "        vertical-align: top;\n",
       "    }\n",
       "\n",
       "    .dataframe thead th {\n",
       "        text-align: right;\n",
       "    }\n",
       "</style>\n",
       "<table border=\"1\" class=\"dataframe\">\n",
       "  <thead>\n",
       "    <tr style=\"text-align: right;\">\n",
       "      <th></th>\n",
       "      <th>fixed acidity</th>\n",
       "      <th>volatile acidity</th>\n",
       "      <th>citric acid</th>\n",
       "      <th>residual sugar</th>\n",
       "      <th>chlorides</th>\n",
       "      <th>free sulfur dioxide</th>\n",
       "      <th>total sulfur dioxide</th>\n",
       "      <th>density</th>\n",
       "      <th>pH</th>\n",
       "      <th>sulphates</th>\n",
       "      <th>alcohol</th>\n",
       "      <th>quality</th>\n",
       "    </tr>\n",
       "  </thead>\n",
       "  <tbody>\n",
       "    <tr>\n",
       "      <th>0</th>\n",
       "      <td>7.4</td>\n",
       "      <td>0.70</td>\n",
       "      <td>0.00</td>\n",
       "      <td>1.9</td>\n",
       "      <td>0.076</td>\n",
       "      <td>11.0</td>\n",
       "      <td>34.0</td>\n",
       "      <td>0.9978</td>\n",
       "      <td>3.51</td>\n",
       "      <td>0.56</td>\n",
       "      <td>9.4</td>\n",
       "      <td>5</td>\n",
       "    </tr>\n",
       "    <tr>\n",
       "      <th>1</th>\n",
       "      <td>7.8</td>\n",
       "      <td>0.88</td>\n",
       "      <td>0.00</td>\n",
       "      <td>2.6</td>\n",
       "      <td>0.098</td>\n",
       "      <td>25.0</td>\n",
       "      <td>67.0</td>\n",
       "      <td>0.9968</td>\n",
       "      <td>3.20</td>\n",
       "      <td>0.68</td>\n",
       "      <td>9.8</td>\n",
       "      <td>5</td>\n",
       "    </tr>\n",
       "    <tr>\n",
       "      <th>2</th>\n",
       "      <td>7.8</td>\n",
       "      <td>0.76</td>\n",
       "      <td>0.04</td>\n",
       "      <td>2.3</td>\n",
       "      <td>0.092</td>\n",
       "      <td>15.0</td>\n",
       "      <td>54.0</td>\n",
       "      <td>0.9970</td>\n",
       "      <td>3.26</td>\n",
       "      <td>0.65</td>\n",
       "      <td>9.8</td>\n",
       "      <td>5</td>\n",
       "    </tr>\n",
       "    <tr>\n",
       "      <th>3</th>\n",
       "      <td>11.2</td>\n",
       "      <td>0.28</td>\n",
       "      <td>0.56</td>\n",
       "      <td>1.9</td>\n",
       "      <td>0.075</td>\n",
       "      <td>17.0</td>\n",
       "      <td>60.0</td>\n",
       "      <td>0.9980</td>\n",
       "      <td>3.16</td>\n",
       "      <td>0.58</td>\n",
       "      <td>9.8</td>\n",
       "      <td>6</td>\n",
       "    </tr>\n",
       "    <tr>\n",
       "      <th>4</th>\n",
       "      <td>7.4</td>\n",
       "      <td>0.70</td>\n",
       "      <td>0.00</td>\n",
       "      <td>1.9</td>\n",
       "      <td>0.076</td>\n",
       "      <td>11.0</td>\n",
       "      <td>34.0</td>\n",
       "      <td>0.9978</td>\n",
       "      <td>3.51</td>\n",
       "      <td>0.56</td>\n",
       "      <td>9.4</td>\n",
       "      <td>5</td>\n",
       "    </tr>\n",
       "  </tbody>\n",
       "</table>\n",
       "</div>"
      ],
      "text/plain": [
       "   fixed acidity  volatile acidity  citric acid  residual sugar  chlorides  \\\n",
       "0            7.4              0.70         0.00             1.9      0.076   \n",
       "1            7.8              0.88         0.00             2.6      0.098   \n",
       "2            7.8              0.76         0.04             2.3      0.092   \n",
       "3           11.2              0.28         0.56             1.9      0.075   \n",
       "4            7.4              0.70         0.00             1.9      0.076   \n",
       "\n",
       "   free sulfur dioxide  total sulfur dioxide  density    pH  sulphates  \\\n",
       "0                 11.0                  34.0   0.9978  3.51       0.56   \n",
       "1                 25.0                  67.0   0.9968  3.20       0.68   \n",
       "2                 15.0                  54.0   0.9970  3.26       0.65   \n",
       "3                 17.0                  60.0   0.9980  3.16       0.58   \n",
       "4                 11.0                  34.0   0.9978  3.51       0.56   \n",
       "\n",
       "   alcohol  quality  \n",
       "0      9.4        5  \n",
       "1      9.8        5  \n",
       "2      9.8        5  \n",
       "3      9.8        6  \n",
       "4      9.4        5  "
      ]
     },
     "execution_count": 3,
     "metadata": {},
     "output_type": "execute_result"
    }
   ],
   "source": [
    "red_wine.head()"
   ]
  },
  {
   "cell_type": "markdown",
   "metadata": {},
   "source": [
    "## a)"
   ]
  },
  {
   "cell_type": "code",
   "execution_count": 4,
   "metadata": {
    "attributes": {
     "classes": [],
     "id": "",
     "n": "8"
    }
   },
   "outputs": [],
   "source": [
    "def plot_scatter_matrix(wine_data, good_threshhold, bad_threshold, save_plot=False):\n",
    "    \"\"\"Visualizes the data\n",
    "    \"\"\"\n",
    "    length = len(wine_data.columns)\n",
    "    fig, ax = plt.subplots(length, length, figsize=(50, 50))\n",
    "    bigger = wine_data.where(wine_data['quality'] > good_threshhold)\n",
    "    smaller = wine_data.where(wine_data['quality'] < bad_threshold)\n",
    "    \n",
    "    for i in range(length):\n",
    "        for j in range(length):\n",
    "            if i == j:\n",
    "                ax[(i, j)].text(0.5, 0.5, '\\n'.join(wine_data.columns[i].split()), fontsize=35, ha='center', va='center')\n",
    "            else:\n",
    "                ax[(j, i)].plot(bigger.iloc[:, i], bigger.iloc[:, j], 'co')\n",
    "                ax[(j, i)].plot(smaller.iloc[:, i], smaller.iloc[:, j], 'mo')\n",
    "    if save_plot:\n",
    "        plt.savefig('scatter_matrix.png')\n",
    "# plot_scatter_matrix(red_wine, 6, 5)"
   ]
  },
  {
   "cell_type": "code",
   "execution_count": 5,
   "metadata": {},
   "outputs": [],
   "source": [
    "# plot_scatter_matrix(red_wine, 7, 4)"
   ]
  },
  {
   "cell_type": "markdown",
   "metadata": {},
   "source": [
    "## b)\n",
    "\n",
    "I think it can be pH, sulphates, alcohol and total sulfur dioxide. Cause there\n",
    "different\n",
    "groups of wine(based on quality) r better splitted."
   ]
  },
  {
   "cell_type": "markdown",
   "metadata": {},
   "source": [
    "# V.2 Learning to perceptron"
   ]
  },
  {
   "cell_type": "code",
   "execution_count": 24,
   "metadata": {},
   "outputs": [],
   "source": [
    "data = red_wine[(red_wine['quality'] >= 8) | (red_wine['quality'] <= 3)].reset_index()\n",
    "y = [1 if i == True else 0 for i in data['quality'] >= 8]"
   ]
  },
  {
   "cell_type": "code",
   "execution_count": 7,
   "metadata": {},
   "outputs": [],
   "source": [
    "def display(ret, dot=100, detail=10000, final=False):\n",
    "    \"\"\"Displays text info about training process\"\"\"\n",
    "    if final:\n",
    "        print()\n",
    "        print('DONE')\n",
    "        print('cycle = ', ret[-1][0], ', errors = ', ret[-1][1], sep='')\n",
    "        print('final weights = ', ret[-1][2], ', bias = ', ret[-1][3])\n",
    "    if ret[-1][0] == 0:\n",
    "        return\n",
    "    if ret[-1][0] % dot == 0:\n",
    "        print('.', end='')\n",
    "    if ret[-1][0] % detail == 0:\n",
    "        print()\n",
    "        print('cycle = ', ret[-1][0], ', errors = ', ret[-1][1], sep='')\n",
    "#         print(ret[-1])\n",
    "#         print(ret[-dot])\n",
    "        print('weights change = ', ret[-1][2][0] - ret[-detail - 1][2][0], ret[-1][2][1] - ret[-detail - 1][2][1])\n",
    "        print('weights = ', ret[-1][2], 'bias = ', ret[-1][3])\n",
    "        print('bias change = ', ret[-1][3] - ret[-detail - 1][3])"
   ]
  },
  {
   "cell_type": "markdown",
   "metadata": {},
   "source": [
    "## a), b)"
   ]
  },
  {
   "cell_type": "code",
   "execution_count": 86,
   "metadata": {},
   "outputs": [],
   "source": [
    "class perceptron:\n",
    "    \"\"\"A simple perceptron, with randomly initialized weights and bias\"\"\"\n",
    "\n",
    "    def __init__(self, amount):\n",
    "        \"\"\"Random data initialization\"\"\"\n",
    "        random.seed(42)\n",
    "        self.amount = amount\n",
    "        self.weights = [random.random() for n in range(amount)]\n",
    "        self.bias = random.random()\n",
    "        for i in range(amount):\n",
    "            print('Weights[', i, '] = ', self.weights[i], sep='')\n",
    "        print('bias = ', self.bias, '\\n')\n",
    "\n",
    "    def activation(self, value):\n",
    "        \"\"\"Activation function\"\"\"\n",
    "        return 1 if value > 0 else 0\n",
    "\n",
    "    def predict(self, data, alpha = None, y = None):\n",
    "        \"\"\"Predicts answer and updates weights to fit the data item better\n",
    "        Returns predicted value or whether he guessed right\n",
    "        \"\"\"\n",
    "        rez = self.activation(sum([data[i] * self.weights[i]\n",
    "                                   for i in range(self.amount)]) + self.bias)\n",
    "        if y == None:\n",
    "            return rez\n",
    "        if rez != y:\n",
    "            self.weights = [self.weights[i] + alpha * data[i] * (y - rez) \n",
    "                            for i in range(self.amount)]\n",
    "            self.bias = self.bias + alpha * (y - rez)\n",
    "        return rez != y\n",
    "\n",
    "    def train(self, data, y, epochs = 0, alpha = 0.001):\n",
    "        \"\"\"Trains perceptron epoch times, and logs results\"\"\"\n",
    "        ret = []\n",
    "        errors = 1\n",
    "        if epochs == 0:\n",
    "            i = 0\n",
    "            while (errors):\n",
    "                errors = 0\n",
    "                for item in data.itertuples():\n",
    "                    errors += self.predict(item[1:], alpha, y[item[0]])\n",
    "                ret.append([i, errors, self.weights, self.bias])\n",
    "                i += 1\n",
    "                display(ret)\n",
    "            display(ret, final=True)\n",
    "        else:\n",
    "            for i in range(epochs):\n",
    "                errors = 0\n",
    "                for item in data.itertuples():\n",
    "                    errors += self.predict(item[1:], alpha, y[item[0]])\n",
    "                ret.append([i, errors, self.weights, self.bias])\n",
    "                display(ret)\n",
    "                if errors == 0:\n",
    "                    break\n",
    "            display(ret, final=True)\n",
    "        return ret"
   ]
  },
  {
   "cell_type": "code",
   "execution_count": 88,
   "metadata": {
    "scrolled": false
   },
   "outputs": [
    {
     "name": "stdout",
     "output_type": "stream",
     "text": [
      "Weights[0] = 0.6394267984578837\n",
      "Weights[1] = 0.025010755222666936\n",
      "bias =  0.27502931836911926 \n",
      "\n",
      "....................................................................................................\n",
      "cycle = 10000, errors = 2\n",
      "weights change =  -7.069099999996053 1.848000000000045\n",
      "weights =  [-6.536073201538169, 1.653510755222712] bias =  4.455029318369069\n",
      "bias change =  4.209999999999949\n",
      "...............................\n",
      "DONE\n",
      "cycle = 13154, errors = 0\n",
      "final weights =  [-7.259373201536793, 1.731510755222712] , bias =  6.135029318369033\n"
     ]
    }
   ],
   "source": [
    "model = perceptron(2)\n",
    "logs = model.train(data[['pH', 'alcohol']], y, 100000, 0.01)"
   ]
  },
  {
   "cell_type": "markdown",
   "metadata": {},
   "source": [
    "## c)"
   ]
  },
  {
   "cell_type": "code",
   "execution_count": 10,
   "metadata": {},
   "outputs": [],
   "source": [
    "def plot_performance(performance, wine_data, good_threshold, bad_threshold, epoch=-1, save_plot=False, debug=False):\n",
    "    \"\"\"Plot the performance of my perceptron\"\"\"\n",
    "    if debug:\n",
    "        fig, ax = plt.subplots(1, 2, figsize=(30, 30))\n",
    "    else:\n",
    "        fig, ax = plt.subplots(1, 2)#, figsize=(10, 10))\n",
    "    bigger = wine_data.where(wine_data['quality'] > good_threshold).reset_index()\n",
    "    smaller = wine_data.where(wine_data['quality'] < bad_threshold).reset_index()\n",
    "    \n",
    "    ax[0].plot([i[1] for i in performance], 'g')\n",
    "    ax[0].set_title('Errors as a function of epoch')\n",
    "    ax[0].set_ylabel('Classification errors')\n",
    "    ax[0].set_xlabel('Epoch')\n",
    "    ax[1].plot(bigger['alcohol'], bigger['pH'], 'mo', label = 'good wines (> ' + str(good_threshold) + ' score)')\n",
    "    ax[1].plot(smaller['alcohol'], smaller['pH'], 'co', label = 'bad wines (< ' + str(bad_threshold) + ' score)')\n",
    "    ax[1].set_title('Decision boundary on epoch:' + str(len(performance) if epoch == -1 else epoch))\n",
    "    ax[1].set_xlabel('Alcohol')\n",
    "    ax[1].set_ylabel('pH')\n",
    "    \n",
    "    val = {}\n",
    "    if debug:\n",
    "        val['alcohol'] = [-100, 100]         \n",
    "    else:\n",
    "#         val['alcohol'] = [5, 15]         \n",
    "        val['alcohol'] = [min(wine_data['alcohol']) - 1, max(wine_data['alcohol']) + 1] \n",
    "    val['pH'] = [\n",
    "            - (performance[epoch][2][1] * val['alcohol'][0] + performance[epoch][3]) / performance[epoch][2][0],\n",
    "            - (performance[epoch][2][1] * val['alcohol'][1] + performance[epoch][3]) / performance[epoch][2][0]\n",
    "        ]\n",
    "    ax[1].plot(val['alcohol'], val['pH'], 'g--')\n",
    "    if debug:\n",
    "        ax[1].set_xlim(-100, 100)\n",
    "        ax[1].set_ylim(-100, 100)\n",
    "        ax[1].fill_between(val['alcohol'], val['pH'], -100, facecolor='#f8bbd0')\n",
    "        ax[1].fill_between(val['alcohol'], val['pH'], 100, facecolor='#b2ebf2')\n",
    "    else:\n",
    "#         ax[1].set_xlim(5, 15)\n",
    "#         ax[1].set_ylim(2, 5)\n",
    "        ax[1].fill_between(val['alcohol'], val['pH'], -5, facecolor='#f8bbd0')\n",
    "        ax[1].fill_between(val['alcohol'], val['pH'], 15, facecolor='#b2ebf2')\n",
    "        ax[1].set_xlim(min(wine_data['alcohol']) - 1, max(wine_data['alcohol']) + 1)\n",
    "        ax[1].set_ylim(min(wine_data['pH']) - 1, max(wine_data['pH']) + 1)\n",
    "#         ax[1].fill_between(val['alcohol'], val['pH'], min(wine_data['pH']), facecolor='#b2ebf2')\n",
    "#         ax[1].fill_between(val['alcohol'], val['pH'], max(wine_data['pH']), facecolor='#f8bbd0')\n",
    "    plt.tight_layout()\n",
    "    plt.legend(loc='upper center', bbox_to_anchor=(1.6, 1))\n",
    "    plt.show()"
   ]
  },
  {
   "cell_type": "code",
   "execution_count": 11,
   "metadata": {
    "scrolled": false
   },
   "outputs": [
    {
     "data": {
      "application/vnd.jupyter.widget-view+json": {
       "model_id": "aa359e8c434a4b40b6b4045ad86e75df",
       "version_major": 2,
       "version_minor": 0
      },
      "text/plain": [
       "interactive(children=(IntSlider(value=5, description='good_threshold', max=10), IntSlider(value=5, description…"
      ]
     },
     "metadata": {},
     "output_type": "display_data"
    }
   ],
   "source": [
    "interactive(plot_performance, performance=fixed(logs), wine_data=fixed(red_wine), good_threshold=(0, 10),\\\n",
    "            bad_threshold=(0, 10), epoch=(0, len(logs) - 1))"
   ]
  },
  {
   "cell_type": "markdown",
   "metadata": {},
   "source": [
    "## d) Feature scaling"
   ]
  },
  {
   "cell_type": "code",
   "execution_count": 12,
   "metadata": {
    "scrolled": false
   },
   "outputs": [],
   "source": [
    "normalized_red_wine = red_wine.copy()\n",
    "normalized_red_wine['pH'] = (red_wine['pH'] - min(red_wine['pH'])) / (max(red_wine['pH']) - min(red_wine['pH']))\n",
    "normalized_red_wine['alcohol'] = (red_wine['alcohol'] - min(red_wine['alcohol'])) / (max(red_wine['alcohol']) - min(red_wine['alcohol']))\n",
    "normalized_data = normalized_red_wine[(red_wine['quality'] >= 8) | (red_wine['quality'] <= 3)].reset_index()\n",
    "# data.describe()"
   ]
  },
  {
   "cell_type": "code",
   "execution_count": 13,
   "metadata": {
    "scrolled": false
   },
   "outputs": [
    {
     "name": "stdout",
     "output_type": "stream",
     "text": [
      "\n",
      "DONE\n",
      "cycle = 85, errors = 0\n",
      "final weights =  [-0.09521887083345507, 0.10070306291497405] , bias =  0.015029318369119145\n"
     ]
    }
   ],
   "source": [
    "model_normalized = perceptron(2)\n",
    "logs_normalized = model_normalized.train(normalized_data[['pH', 'alcohol']], y, 0, 0.01)"
   ]
  },
  {
   "cell_type": "code",
   "execution_count": 14,
   "metadata": {
    "scrolled": false
   },
   "outputs": [
    {
     "data": {
      "application/vnd.jupyter.widget-view+json": {
       "model_id": "a1914fae39fd4ef3b5a38c93ad3de83a",
       "version_major": 2,
       "version_minor": 0
      },
      "text/plain": [
       "interactive(children=(IntSlider(value=5, description='good_threshold', max=10), IntSlider(value=5, description…"
      ]
     },
     "metadata": {},
     "output_type": "display_data"
    }
   ],
   "source": [
    "interactive(plot_performance, performance=fixed(logs_normalized), wine_data=fixed(normalized_red_wine), good_threshold=(0, 10),\\\n",
    "            bad_threshold=(0, 10), epoch=(0, len(logs_normalized) - 1))"
   ]
  },
  {
   "cell_type": "markdown",
   "metadata": {},
   "source": [
    "# V.3 My fair ADALINE"
   ]
  },
  {
   "cell_type": "markdown",
   "metadata": {},
   "source": [
    "## a)"
   ]
  },
  {
   "cell_type": "markdown",
   "metadata": {},
   "source": [
    "Using stochastic learning algorithm instead of batch. Not adding polynomial features and not using more complicated algorhithms. No parallelism. Using only labels in learning, not values."
   ]
  },
  {
   "cell_type": "markdown",
   "metadata": {},
   "source": [
    "## b), c)"
   ]
  },
  {
   "cell_type": "code",
   "execution_count": 15,
   "metadata": {},
   "outputs": [],
   "source": [
    "class adaline:\n",
    "    \"\"\"A simple adaline, with randomly initialized weights and bias\"\"\"\n",
    "\n",
    "    def __init__(self, amount):\n",
    "        \"\"\"Random data initialization\"\"\"\n",
    "        random.seed(42)\n",
    "        self.amount = amount\n",
    "        self.weights = [random.random() for n in range(amount)]\n",
    "        self.bias = random.random()\n",
    "\n",
    "        \n",
    "    def quantizer(self, value):\n",
    "        \"\"\"Quantizer function\"\"\"\n",
    "        return 1 if value > 0 else 0\n",
    "\n",
    "    \n",
    "    def predict(self, data, y=False):\n",
    "        \"\"\"Predicts answer and updates weights to fit the data item better\n",
    "        Returns predicted value or whether he guessed right\n",
    "        \"\"\"\n",
    "        rez = sum([data[i] * self.weights[i] for i in range(self.amount)]) + self.bias\n",
    "        if y == False:\n",
    "            return self.quantizer(rez)\n",
    "        else:\n",
    "            err = y - rez\n",
    "#             print('y =', y, 'rez =', rez, 'y - rez =', y - rez)\n",
    "            return [[x * err for x in [*data, 1]], err]\n",
    "        \n",
    "    def train(self, data, y, epochs = 0, alpha = 0.001):\n",
    "        \"\"\"Trains perceptron epoch times, and logs results\"\"\"\n",
    "        ret = []\n",
    "        if epochs == 0:\n",
    "            i = 0\n",
    "            while (True):\n",
    "                error = 0\n",
    "                delta = [0] * (self.amount + 1)\n",
    "                for item in data.itertuples():\n",
    "                    [rez, err] = self.predict(item[1:], y[item[0]])\n",
    "                    delta = [delta[i] + rez[i] for i in range(self.amount + 1)]\n",
    "                    error += err\n",
    "                self.weights = [self.weights[i] + alpha * delta[i] / len(data) for i in range(self.amount)]\n",
    "                self.bias += alpha * delta[-1] / len(data)\n",
    "                ret.append([i, error, self.weights, self.bias])\n",
    "                display(ret)\n",
    "                if i > 0 and abs(ret[-1][1] - error) < 0.001:\n",
    "                    break\n",
    "                i += 1\n",
    "            display(ret, final=True)\n",
    "        else:\n",
    "            for i in range(epochs):\n",
    "                error = 0\n",
    "                delta = [0] * (self.amount + 1)\n",
    "                for item in data.itertuples():\n",
    "                    [rez, err] = self.predict(item[1:], y[item[0]])\n",
    "                    delta = [delta[i] + rez[i] for i in range(self.amount + 1)]\n",
    "                    error += err ** 2\n",
    "#                 print(delta, errors)\n",
    "                self.weights = [self.weights[i] + alpha * delta[i] / len(data) for i in range(self.amount)]\n",
    "                self.bias += alpha * delta[-1] / len(data)\n",
    "                ret.append([i, error, self.weights, self.bias])\n",
    "                display(ret)\n",
    "                if i > 0 and abs(ret[-2][1] - error) < 0.0000000001:\n",
    "                    print(ret[-1], error)\n",
    "                    break\n",
    "            display(ret, final=True)\n",
    "        return ret"
   ]
  },
  {
   "cell_type": "code",
   "execution_count": 16,
   "metadata": {},
   "outputs": [],
   "source": [
    "data_4_7 = red_wine[(red_wine['quality'] >= 7) | (red_wine['quality'] <= 4)].reset_index()\n",
    "y_4_7 = data_4_7['quality']"
   ]
  },
  {
   "cell_type": "code",
   "execution_count": 17,
   "metadata": {
    "scrolled": true
   },
   "outputs": [
    {
     "name": "stdout",
     "output_type": "stream",
     "text": [
      "..................................................................................."
     ]
    },
    {
     "name": "stderr",
     "output_type": "stream",
     "text": [
      "ERROR:root:Internal Python error in the inspect module.\n",
      "Below is the traceback from this internal error.\n",
      "\n"
     ]
    },
    {
     "name": "stdout",
     "output_type": "stream",
     "text": [
      "Traceback (most recent call last):\n",
      "  File \"/Users/astadnik/.brew/lib/python3.7/site-packages/IPython/core/interactiveshell.py\", line 2961, in run_code\n",
      "    exec(code_obj, self.user_global_ns, self.user_ns)\n",
      "  File \"<ipython-input-17-7801f1bbc76a>\", line 2, in <module>\n",
      "    adaline_logs = model.train(data_4_7[['pH', 'alcohol']], y_4_7.tolist(), 100000, 0.001)\n",
      "  File \"<ipython-input-15-45ff8c418413>\", line 53, in train\n",
      "    for item in data.itertuples():\n",
      "  File \"/Users/astadnik/.brew/lib/python3.7/site-packages/pandas/core/frame.py\", line 834, in itertuples\n",
      "    rename=True)\n",
      "  File \"/Users/astadnik/.brew/Cellar/python/3.7.0/Frameworks/Python.framework/Versions/3.7/lib/python3.7/collections/__init__.py\", line 397, in namedtuple\n",
      "    exec(s, namespace)\n",
      "  File \"<string>\", line 1, in <module>\n",
      "KeyboardInterrupt\n",
      "\n",
      "During handling of the above exception, another exception occurred:\n",
      "\n",
      "Traceback (most recent call last):\n",
      "  File \"/Users/astadnik/.brew/lib/python3.7/site-packages/IPython/core/interactiveshell.py\", line 1863, in showtraceback\n",
      "    stb = value._render_traceback_()\n",
      "AttributeError: 'KeyboardInterrupt' object has no attribute '_render_traceback_'\n",
      "\n",
      "During handling of the above exception, another exception occurred:\n",
      "\n",
      "Traceback (most recent call last):\n",
      "  File \"/Users/astadnik/.brew/lib/python3.7/site-packages/IPython/core/ultratb.py\", line 1095, in get_records\n",
      "    return _fixed_getinnerframes(etb, number_of_lines_of_context, tb_offset)\n",
      "  File \"/Users/astadnik/.brew/lib/python3.7/site-packages/IPython/core/ultratb.py\", line 311, in wrapped\n",
      "    return f(*args, **kwargs)\n",
      "  File \"/Users/astadnik/.brew/lib/python3.7/site-packages/IPython/core/ultratb.py\", line 345, in _fixed_getinnerframes\n",
      "    records = fix_frame_records_filenames(inspect.getinnerframes(etb, context))\n",
      "  File \"/Users/astadnik/.brew/Cellar/python/3.7.0/Frameworks/Python.framework/Versions/3.7/lib/python3.7/inspect.py\", line 1495, in getinnerframes\n",
      "    frameinfo = (tb.tb_frame,) + getframeinfo(tb, context)\n",
      "  File \"/Users/astadnik/.brew/Cellar/python/3.7.0/Frameworks/Python.framework/Versions/3.7/lib/python3.7/inspect.py\", line 1457, in getframeinfo\n",
      "    lines, lnum = findsource(frame)\n",
      "  File \"/Users/astadnik/.brew/lib/python3.7/site-packages/IPython/core/ultratb.py\", line 177, in findsource\n",
      "    lines = linecache.getlines(file, globals_dict)\n",
      "  File \"/Users/astadnik/.brew/Cellar/python/3.7.0/Frameworks/Python.framework/Versions/3.7/lib/python3.7/linecache.py\", line 47, in getlines\n",
      "    return updatecache(filename, module_globals)\n",
      "  File \"/Users/astadnik/.brew/Cellar/python/3.7.0/Frameworks/Python.framework/Versions/3.7/lib/python3.7/linecache.py\", line 136, in updatecache\n",
      "    with tokenize.open(fullname) as fp:\n",
      "  File \"/Users/astadnik/.brew/Cellar/python/3.7.0/Frameworks/Python.framework/Versions/3.7/lib/python3.7/tokenize.py\", line 449, in open\n",
      "    encoding, lines = detect_encoding(buffer.readline)\n",
      "  File \"/Users/astadnik/.brew/Cellar/python/3.7.0/Frameworks/Python.framework/Versions/3.7/lib/python3.7/tokenize.py\", line 418, in detect_encoding\n",
      "    first = read_or_stop()\n",
      "  File \"/Users/astadnik/.brew/Cellar/python/3.7.0/Frameworks/Python.framework/Versions/3.7/lib/python3.7/tokenize.py\", line 376, in read_or_stop\n",
      "    return readline()\n",
      "KeyboardInterrupt\n"
     ]
    },
    {
     "ename": "KeyboardInterrupt",
     "evalue": "",
     "output_type": "error",
     "traceback": [
      "\u001b[0;31m---------------------------------------------------------------------------\u001b[0m"
     ]
    }
   ],
   "source": [
    "model = adaline(2)\n",
    "adaline_logs = model.train(data_4_7[['pH', 'alcohol']], y_4_7.tolist(), 100000, 0.001)"
   ]
  },
  {
   "cell_type": "code",
   "execution_count": null,
   "metadata": {
    "scrolled": true
   },
   "outputs": [],
   "source": [
    "for l in adaline_logs[:20]:\n",
    "    print(l)"
   ]
  },
  {
   "cell_type": "code",
   "execution_count": null,
   "metadata": {},
   "outputs": [],
   "source": [
    "print(len(data_4_7.columns))"
   ]
  },
  {
   "cell_type": "code",
   "execution_count": null,
   "metadata": {
    "scrolled": true
   },
   "outputs": [],
   "source": [
    "print(adaline_logs[0], adaline_logs[-1], adaline_logs[-2], sep='\\n')"
   ]
  },
  {
   "cell_type": "code",
   "execution_count": null,
   "metadata": {
    "scrolled": false
   },
   "outputs": [],
   "source": [
    "interactive(plot_performance, performance=fixed(adaline_logs), wine_data=fixed(data_4_7), good_threshold=(0, 10),\\\n",
    "            bad_threshold=(0, 10), epoch=(0, len(adaline_logs) - 1), debug=False)"
   ]
  },
  {
   "cell_type": "code",
   "execution_count": null,
   "metadata": {},
   "outputs": [],
   "source": [
    "normalized_data_4_7 = data_4_7.copy()\n",
    "for column in normalized_data_4_7.columns:\n",
    "    if column != 'quality':\n",
    "        normalized_data_4_7[column] = (data_4_7[column] - min(data_4_7[column])) / (max(data_4_7[column]) - min(data_4_7[column]))"
   ]
  },
  {
   "cell_type": "code",
   "execution_count": null,
   "metadata": {
    "scrolled": false
   },
   "outputs": [],
   "source": [
    "model = adaline(2)\n",
    "adaline_logs_normalized = model.train(normalized_data_4_7[['pH', 'alcohol']], y_4_7.tolist(), 100000, 0.1)"
   ]
  },
  {
   "cell_type": "code",
   "execution_count": null,
   "metadata": {
    "scrolled": true
   },
   "outputs": [],
   "source": [
    "pred = [model.predict(normalized_data_4_7.loc[i, ['pH', 'alcohol']]) for i in range(len(normalized_data_4_7))]\n",
    "print(sum[y[i] - pred[i] for i in range(len(y))])"
   ]
  },
  {
   "cell_type": "code",
   "execution_count": null,
   "metadata": {
    "scrolled": true
   },
   "outputs": [],
   "source": [
    "print(y_4_7.tolist())"
   ]
  },
  {
   "cell_type": "code",
   "execution_count": null,
   "metadata": {
    "scrolled": true
   },
   "outputs": [],
   "source": [
    "print(adaline_logs_normalized[0], adaline_logs_normalized[-1], sep='\\n')"
   ]
  },
  {
   "cell_type": "code",
   "execution_count": null,
   "metadata": {
    "scrolled": false
   },
   "outputs": [],
   "source": [
    "interactive(plot_performance, performance=fixed(adaline_logs_normalized), wine_data=fixed(normalized_data_4_7), good_threshold=(0, 10),\\\n",
    "            bad_threshold=(0, 10), epoch=(0, len(adaline_logs_normalized) - 1), debug=False)"
   ]
  },
  {
   "cell_type": "code",
   "execution_count": null,
   "metadata": {},
   "outputs": [],
   "source": []
  }
 ],
 "metadata": {
  "kernelspec": {
   "display_name": "Python 3",
   "language": "python",
   "name": "python3"
  },
  "language_info": {
   "codemirror_mode": {
    "name": "ipython",
    "version": 3
   },
   "file_extension": ".py",
   "mimetype": "text/x-python",
   "name": "python",
   "nbconvert_exporter": "python",
   "pygments_lexer": "ipython3",
   "version": "3.7.0"
  }
 },
 "nbformat": 4,
 "nbformat_minor": 2
}
